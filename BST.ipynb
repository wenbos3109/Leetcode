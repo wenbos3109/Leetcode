{
 "cells": [
  {
   "cell_type": "code",
   "execution_count": 5,
   "outputs": [],
   "source": [
    "class TreeNode:\n",
    "    def __init__(self, x):\n",
    "        self.val = x\n",
    "        self.left = None\n",
    "        self.right = None"
   ],
   "metadata": {
    "collapsed": false,
    "pycharm": {
     "name": "#%%\n"
    }
   }
  },
  {
   "cell_type": "markdown",
   "metadata": {
    "collapsed": true,
    "pycharm": {
     "name": "#%% md\n"
    }
   },
   "source": [
    "\n",
    "\n",
    "## 98. Validate Binary Search Tree\n",
    "Given the root of a binary tree, determine if it is a valid binary search tree (BST).\n",
    "\n",
    "A valid BST is defined as follows:\n",
    "\n",
    "* The left subtree of a node contains only nodes with keys less than the node's key.\n",
    "* The right subtree of a node contains only nodes with keys greater than the node's key.\n",
    "* Both the left and right subtrees must also be binary search trees."
   ]
  },
  {
   "cell_type": "code",
   "execution_count": 6,
   "outputs": [],
   "source": [
    "class Solution:\n",
    "    def isValidBST(self, root: TreeNode) -> bool:\n",
    "        self.pre = float('-inf')\n",
    "        def traverse(root):\n",
    "            if not root: return True\n",
    "            if not traverse(root.left):\n",
    "                return False\n",
    "            if self.pre >= root.val:\n",
    "                return False\n",
    "            self.pre = root.val\n",
    "            return traverse(root.right)\n",
    "        return traverse(root)"
   ],
   "metadata": {
    "collapsed": false,
    "pycharm": {
     "name": "#%%\n"
    }
   }
  },
  {
   "cell_type": "markdown",
   "source": [
    "## 序列化BST\n"
   ],
   "metadata": {
    "collapsed": false
   }
  },
  {
   "cell_type": "code",
   "execution_count": 7,
   "outputs": [],
   "source": [
    "\n",
    "class Codec:\n",
    "    def serialize(self, root: TreeNode) -> str:\n",
    "        \"\"\"Encodes a tree to a single string.\n",
    "        \"\"\"\n",
    "        def postorder(root):\n",
    "            return postorder(root.left) + postorder(root.right) + [root.val] if root else []\n",
    "        return ' '.join(map(str, postorder(root)))\n",
    "\n",
    "\n",
    "    def deserialize(self, data: str) -> TreeNode:\n",
    "        \"\"\"Decodes your encoded data to tree.\n",
    "        \"\"\"\n",
    "        def helper(lower = float('-inf'), upper = float('inf')):\n",
    "            if not data or data[-1] < lower or data[-1] > upper:\n",
    "                return None\n",
    "\n",
    "            val = data.pop()\n",
    "            root = TreeNode(val)\n",
    "            # 顺序一定要注意，数组从最后开始弹出，如果先左子树，一定是空的。\n",
    "            root.right = helper(val, upper)\n",
    "            root.left = helper(lower, val)\n",
    "            return root\n",
    "\n",
    "        data = [int(x) for x in data.split(' ') if x]\n",
    "        return helper()"
   ],
   "metadata": {
    "collapsed": false,
    "pycharm": {
     "name": "#%%\n"
    }
   }
  },
  {
   "cell_type": "code",
   "execution_count": 8,
   "outputs": [],
   "source": [
    "a = TreeNode(2)\n",
    "a.left = TreeNode(1)\n",
    "a.right = TreeNode(3)\n"
   ],
   "metadata": {
    "collapsed": false,
    "pycharm": {
     "name": "#%%\n"
    }
   }
  },
  {
   "cell_type": "code",
   "execution_count": 9,
   "outputs": [],
   "source": [
    "info = Codec().serialize(a)"
   ],
   "metadata": {
    "collapsed": false,
    "pycharm": {
     "name": "#%%\n"
    }
   }
  },
  {
   "cell_type": "code",
   "execution_count": 10,
   "outputs": [
    {
     "data": {
      "text/plain": "<__main__.TreeNode at 0x7f7f34447dc0>"
     },
     "execution_count": 10,
     "metadata": {},
     "output_type": "execute_result"
    }
   ],
   "source": [
    "Codec().deserialize(info)"
   ],
   "metadata": {
    "collapsed": false,
    "pycharm": {
     "name": "#%%\n"
    }
   }
  },
  {
   "cell_type": "code",
   "execution_count": 10,
   "outputs": [],
   "source": [],
   "metadata": {
    "collapsed": false,
    "pycharm": {
     "name": "#%%\n"
    }
   }
  },
  {
   "cell_type": "code",
   "execution_count": 10,
   "outputs": [],
   "source": [],
   "metadata": {
    "collapsed": false,
    "pycharm": {
     "name": "#%%\n"
    }
   }
  },
  {
   "cell_type": "markdown",
   "source": [
    "### 230. Kth Smallest Element in a BST\n",
    "\n",
    "Given a binary search tree, write a function kthSmallest to find the kth smallest\n",
    "element in it.\n",
    "\n",
    "\n",
    "* Follow up:\n",
    "    What if the BST is modified (insert/delete operations) often and you need to find the kth smallest frequently? How would you optimize the kthSmallest routine?\n",
    "\n",
    "\n",
    "\n",
    "* Constraints:\n",
    "\n",
    "    The number of elements of the BST is between 1 to 10^4.\n",
    "You may assume k is always valid, 1 ≤ k ≤ BST's total elements."
   ],
   "metadata": {
    "collapsed": false,
    "pycharm": {
     "name": "#%% md\n"
    }
   }
  },
  {
   "cell_type": "code",
   "execution_count": 10,
   "outputs": [],
   "source": [],
   "metadata": {
    "collapsed": false,
    "pycharm": {
     "name": "#%%\n"
    }
   }
  },
  {
   "cell_type": "code",
   "execution_count": 11,
   "outputs": [],
   "source": [
    "class Solution:\n",
    "    def size(self, root):\n",
    "        if not root: return 0\n",
    "        root.size = self.size(root.left) + self.size(root.right) + 1\n",
    "        return root.size\n",
    "\n",
    "    def kthSmallest(self, root: TreeNode, k: int) -> int:\n",
    "\n",
    "        def solve(root, k):\n",
    "            l_size = root.left.size if root.left else 0\n",
    "            if k <= l_size:\n",
    "                return solve(root.left, k)\n",
    "            elif k > l_size + 1:\n",
    "                return solve(root.right, k-l_size-1)\n",
    "            return root.val\n",
    "        self.size(root)\n",
    "        return solve(root, k)"
   ],
   "metadata": {
    "collapsed": false,
    "pycharm": {
     "name": "#%%\n"
    }
   }
  },
  {
   "cell_type": "markdown",
   "source": [
    "### 递归问题\n",
    "\n",
    "二叉树的递归问题，该怎么传递参数\n",
    "    1. self.val\n",
    "    2. 直接作为参数\n",
    "\n",
    "递归可能的模式有\n",
    "    1. 分别处理左子树和右子树，然后合体\n",
    "    2. 先处理一边，融合root，再处理另一边"
   ],
   "metadata": {
    "collapsed": false,
    "pycharm": {
     "name": "#%% md\n"
    }
   }
  },
  {
   "cell_type": "markdown",
   "source": [
    "### 1214. Two Sum BSTs\n",
    "\n",
    "Given two binary search trees, return True if and only if\n",
    "there is a node in the first tree and a node in the second\n",
    "tree whose values sum up to a given integer target.\n",
    "\n",
    "\n",
    "最笨的办法如下， 铁定超时，问题可能是指数？"
   ],
   "metadata": {
    "collapsed": false,
    "pycharm": {
     "name": "#%% md\n"
    }
   }
  },
  {
   "cell_type": "code",
   "execution_count": 12,
   "outputs": [],
   "source": [
    "class Solution:\n",
    "    def twoSumBSTs(self, root1: TreeNode, root2: TreeNode, target: int) -> bool:\n",
    "        if not root1 or not root2:\n",
    "            return False\n",
    "        s = root1.val + root2.val\n",
    "        if s == target:\n",
    "            return True\n",
    "        if s < target:\n",
    "            return self.twoSumBSTs(root1, root2.right, target) or self.twoSumBSTs(root1.right, root2, target)\n",
    "        return self.twoSumBSTs(root1.left, root2, target) or self.twoSumBSTs(root1, root2.left, target)"
   ],
   "metadata": {
    "collapsed": false,
    "pycharm": {
     "name": "#%%\n"
    }
   }
  },
  {
   "cell_type": "code",
   "execution_count": 13,
   "outputs": [],
   "source": [
    "\"\"\"\n",
    "第二种方法，直接转换为list来做，但是可以进一步简化\n",
    "\"\"\"\n",
    "\n",
    "class Solution:\n",
    "    def twoSumBSTs(self, root1: TreeNode, root2: TreeNode, target: int) -> bool:\n",
    "\n",
    "        def toArray(root):\n",
    "            if not root: return []\n",
    "            return toArray(root.left) + [root.val] + toArray(root.right)\n",
    "\n",
    "\n",
    "        nums1, nums2 = toArray(root1), toArray(root2)\n",
    "        memo = dict()\n",
    "        for n in nums1:\n",
    "            memo[target-n] = True\n",
    "        for n in nums2:\n",
    "            if n in memo:\n",
    "                return True\n",
    "        return False"
   ],
   "metadata": {
    "collapsed": false,
    "pycharm": {
     "name": "#%%\n"
    }
   }
  },
  {
   "cell_type": "code",
   "execution_count": 14,
   "outputs": [],
   "source": [
    "\"\"\"\n",
    "可以在遍历的时候直接记录和查找\n",
    "\"\"\"\n",
    "\n",
    "class Solution:\n",
    "    def twoSumBSTs(self, root1: TreeNode, root2: TreeNode, target: int) -> bool:\n",
    "\n",
    "        def remember(root):\n",
    "            nonlocal memo\n",
    "            if not root: return\n",
    "            memo[target-root.val] = True\n",
    "            remember(root.left)\n",
    "            remember(root.right)\n",
    "\n",
    "        def search(root):\n",
    "            nonlocal memo\n",
    "            if not root: return False\n",
    "            if root.val in memo: return True\n",
    "            return search(root.left) or search(root.right)\n",
    "\n",
    "        memo = dict()\n",
    "        remember(root1)\n",
    "        return search(root2)"
   ],
   "metadata": {
    "collapsed": false,
    "pycharm": {
     "name": "#%%\n"
    }
   }
  },
  {
   "cell_type": "markdown",
   "source": [
    "能不能再树上直接操作？\n"
   ],
   "metadata": {
    "collapsed": false,
    "pycharm": {
     "name": "#%% md\n"
    }
   }
  },
  {
   "cell_type": "code",
   "execution_count": null,
   "outputs": [],
   "source": [],
   "metadata": {
    "collapsed": false,
    "pycharm": {
     "name": "#%%\n"
    }
   }
  }
 ],
 "metadata": {
  "kernelspec": {
   "display_name": "Python 3",
   "language": "python",
   "name": "python3"
  },
  "language_info": {
   "codemirror_mode": {
    "name": "ipython",
    "version": 2
   },
   "file_extension": ".py",
   "mimetype": "text/x-python",
   "name": "python",
   "nbconvert_exporter": "python",
   "pygments_lexer": "ipython2",
   "version": "2.7.6"
  }
 },
 "nbformat": 4,
 "nbformat_minor": 0
}