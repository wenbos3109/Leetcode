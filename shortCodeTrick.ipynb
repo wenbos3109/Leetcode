{
 "cells": [
  {
   "cell_type": "markdown",
   "metadata": {
    "collapsed": true,
    "pycharm": {
     "name": "#%% md\n"
    }
   },
   "source": [
    "#### 292. Nim game\n",
    "\n",
    "Share\n",
    "You are playing the following Nim Game with your friend:\n",
    "\n",
    "Initially, there is a heap of stones on the table.\n",
    "You and your friend will alternate taking turns, and you go first.\n",
    "On each turn, the person whose turn it is will remove 1 to 3 stones from the heap.\n",
    "The one who removes the last stone is the winner.\n",
    "Given n, the number of stones in the heap, return true if you can win\n",
    "the game assuming both you and your friend play optimally, otherwise\n",
    "return false."
   ]
  },
  {
   "cell_type": "code",
   "execution_count": 2,
   "outputs": [],
   "source": [
    "# dp[n]指在有n个石头的时候先手是否能赢，那么只需要对方先手n-1, n-2, n-3时候有任何一个\n",
    "# 必输就行\n",
    "\n",
    "class Solution:\n",
    "    def canWinNim(self, n: int) -> bool:\n",
    "        dp = [True for _ in range(n+1)]\n",
    "        for i in range(4, n+1):\n",
    "            dp[i] = not dp[i-1] or not dp[i-2] or not dp[i-3]\n",
    "        return dp[n]"
   ],
   "metadata": {
    "collapsed": false,
    "pycharm": {
     "name": "#%%\n"
    }
   }
  },
  {
   "cell_type": "code",
   "execution_count": 3,
   "outputs": [
    {
     "name": "stdout",
     "output_type": "stream",
     "text": [
      "1 True\n",
      "2 True\n",
      "3 True\n",
      "4 False\n",
      "5 True\n",
      "6 True\n",
      "7 True\n",
      "8 False\n",
      "9 True\n",
      "10 True\n",
      "11 True\n",
      "12 False\n",
      "13 True\n",
      "14 True\n",
      "15 True\n",
      "16 False\n",
      "17 True\n",
      "18 True\n",
      "19 True\n",
      "20 False\n",
      "21 True\n",
      "22 True\n",
      "23 True\n",
      "24 False\n",
      "25 True\n",
      "26 True\n",
      "27 True\n",
      "28 False\n",
      "29 True\n",
      "30 True\n",
      "31 True\n",
      "32 False\n",
      "33 True\n",
      "34 True\n",
      "35 True\n",
      "36 False\n",
      "37 True\n",
      "38 True\n",
      "39 True\n",
      "40 False\n",
      "41 True\n",
      "42 True\n",
      "43 True\n",
      "44 False\n",
      "45 True\n",
      "46 True\n",
      "47 True\n",
      "48 False\n",
      "49 True\n",
      "50 True\n",
      "51 True\n",
      "52 False\n",
      "53 True\n",
      "54 True\n",
      "55 True\n",
      "56 False\n",
      "57 True\n",
      "58 True\n",
      "59 True\n",
      "60 False\n",
      "61 True\n",
      "62 True\n",
      "63 True\n",
      "64 False\n",
      "65 True\n",
      "66 True\n",
      "67 True\n",
      "68 False\n",
      "69 True\n",
      "70 True\n",
      "71 True\n",
      "72 False\n",
      "73 True\n",
      "74 True\n",
      "75 True\n",
      "76 False\n",
      "77 True\n",
      "78 True\n",
      "79 True\n",
      "80 False\n",
      "81 True\n",
      "82 True\n",
      "83 True\n",
      "84 False\n",
      "85 True\n",
      "86 True\n",
      "87 True\n",
      "88 False\n",
      "89 True\n",
      "90 True\n",
      "91 True\n",
      "92 False\n",
      "93 True\n",
      "94 True\n",
      "95 True\n",
      "96 False\n",
      "97 True\n",
      "98 True\n",
      "99 True\n"
     ]
    }
   ],
   "source": [
    "for n in range(1, 100):\n",
    "    print(n, Solution().canWinNim(n))"
   ],
   "metadata": {
    "collapsed": false,
    "pycharm": {
     "name": "#%%\n"
    }
   }
  },
  {
   "cell_type": "code",
   "execution_count": null,
   "outputs": [],
   "source": [],
   "metadata": {
    "collapsed": false,
    "pycharm": {
     "name": "#%%\n"
    }
   }
  }
 ],
 "metadata": {
  "kernelspec": {
   "display_name": "Python 3",
   "language": "python",
   "name": "python3"
  },
  "language_info": {
   "codemirror_mode": {
    "name": "ipython",
    "version": 2
   },
   "file_extension": ".py",
   "mimetype": "text/x-python",
   "name": "python",
   "nbconvert_exporter": "python",
   "pygments_lexer": "ipython2",
   "version": "2.7.6"
  }
 },
 "nbformat": 4,
 "nbformat_minor": 0
}