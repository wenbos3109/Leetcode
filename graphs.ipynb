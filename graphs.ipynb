{
 "cells": [
  {
   "cell_type": "markdown",
   "metadata": {
    "collapsed": true,
    "pycharm": {
     "name": "#%% md\n"
    }
   },
   "source": [
    "### 785. Is Graph Bipartite?\n",
    "\n",
    "Given an undirected graph, return true if and only if it is bipartite.\n",
    "\n",
    "Recall that a graph is bipartite if we can split its set of nodes into two independent subsets A and B, such that every edge in the graph has one node in A and another node in B.\n",
    "\n",
    "The graph is given in the following form: graph[i] is a list of indexes j for which the edge between nodes i and j exists.  Each node is an integer between 0 and graph.length - 1.  There are no self edges or parallel edges: graph[i] does not contain i, and it doesn't contain any element twice.\n"
   ]
  },
  {
   "cell_type": "code",
   "execution_count": 3,
   "outputs": [],
   "source": [
    "import networkx as nx"
   ],
   "metadata": {
    "collapsed": false,
    "pycharm": {
     "name": "#%%\n"
    }
   }
  },
  {
   "cell_type": "code",
   "execution_count": 40,
   "outputs": [],
   "source": [
    "class Solution:\n",
    "    def isBipartite(self, graph) -> bool:\n",
    "        def solve(u, color, visited):\n",
    "            for v in graph[u]:\n",
    "                if not visited[v]:\n",
    "                    visited[v] = True\n",
    "                    color[v] = 1 - color[u]\n",
    "                    if not solve(v, color, visited):\n",
    "                        return False\n",
    "                elif color[u] == color[v]:\n",
    "                    return False\n",
    "            return True\n",
    "\n",
    "        n = len(graph)\n",
    "        color = [0] * n\n",
    "        visited = [False] * n\n",
    "        for i in range(len(graph)):\n",
    "            if not visited[i]:\n",
    "                visited[i] = True\n",
    "                color[i] = 0\n",
    "                if not solve(i, color, visited):\n",
    "                    return False\n",
    "        return True"
   ],
   "metadata": {
    "collapsed": false,
    "pycharm": {
     "name": "#%%\n"
    }
   }
  },
  {
   "cell_type": "code",
   "execution_count": 41,
   "outputs": [
    {
     "data": {
      "text/plain": "<Figure size 432x288 with 1 Axes>",
      "image/png": "[encoded data removed]"
     },
     "metadata": {},
     "output_type": "display_data"
    }
   ],
   "source": [
    "graph = [[],[2,4,6],[1,4,8,9],[7,8],[1,2,8,9],[6,9],[1,5,7,8,9],[3,6,9],[2,3,4,6,9],[2,4,5,6,7,8]]\n",
    "g = nx.Graph()\n",
    "for i in range(len(graph)):\n",
    "    g.add_edges_from([(i, j) for j in graph[i]])\n",
    "\n",
    "nx.draw_networkx(g)"
   ],
   "metadata": {
    "collapsed": false,
    "pycharm": {
     "name": "#%%\n"
    }
   }
  },
  {
   "cell_type": "code",
   "execution_count": 42,
   "outputs": [
    {
     "name": "stdout",
     "output_type": "stream",
     "text": [
      "visited 0\n",
      "visited 1\n",
      "(1, 2) not visited\n",
      "visited 2\n",
      "(2, 4) not visited\n",
      "visited 4\n"
     ]
    },
    {
     "data": {
      "text/plain": "False"
     },
     "execution_count": 42,
     "metadata": {},
     "output_type": "execute_result"
    }
   ],
   "source": [
    "sol = Solution()\n",
    "\n",
    "sol.isBipartite(graph)\n"
   ],
   "metadata": {
    "collapsed": false,
    "pycharm": {
     "name": "#%%\n"
    }
   }
  },
  {
   "cell_type": "markdown",
   "source": [
    "### 133. Clone Graph\n",
    "\n",
    "Given a reference of a node in a connected undirected graph.\n",
    "\n",
    "Return a deep copy (clone) of the graph.\n",
    "\n",
    "Each node in the graph contains a val (int) and a list (List[Node])\n",
    "of its neighbors."
   ],
   "metadata": {
    "collapsed": false,
    "pycharm": {
     "name": "#%% md\n"
    }
   }
  },
  {
   "cell_type": "code",
   "execution_count": 1,
   "outputs": [],
   "source": [
    "# definition\n",
    "class Node:\n",
    "    def __init__(self, val = 0, neighbors = None):\n",
    "        self.val = val\n",
    "        self.neighbors = neighbors if neighbors is not None else []"
   ],
   "metadata": {
    "collapsed": false,
    "pycharm": {
     "name": "#%%\n"
    }
   }
  },
  {
   "cell_type": "code",
   "execution_count": 2,
   "outputs": [],
   "source": [
    "class Solution:\n",
    "    def cloneGraph(self, node: 'Node') -> 'Node':\n",
    "        if not node: return None\n",
    "\n",
    "        def clone(node):\n",
    "            if node in self.memo:\n",
    "                return self.memo[node]\n",
    "            \"\"\"\n",
    "            这样不行，永远都无法完成赋值，一直在递归。\n",
    "\n",
    "            self.memo[node] = Node(node.val, [clone(u) for u in node.neighbors])\n",
    "            \"\"\"\n",
    "\n",
    "            self.memo[node] = Node(node.val)\n",
    "            self.memo[node].neighbors = [clone(u) for u in node.neighbors]\n",
    "            return self.memo[node]\n",
    "\n",
    "        self.memo = dict()\n",
    "        return clone(node)\n",
    "\n",
    "    def cloneGraph(self, node: 'Node') -> 'Node':\n",
    "        if not node: return node\n",
    "        queue = [node]\n",
    "        memo = {node: Node(node.val)}\n",
    "        while queue:\n",
    "            head = queue.pop(0)\n",
    "            for u in head.neighbors:\n",
    "                if u not in memo:\n",
    "                    memo[u] = Node(u.val)\n",
    "                    queue.append(u)\n",
    "                memo[head].neighbors.append(memo[u])\n",
    "        return memo[node]\n"
   ],
   "metadata": {
    "collapsed": false,
    "pycharm": {
     "name": "#%%\n"
    }
   }
  }
 ],
 "metadata": {
  "kernelspec": {
   "display_name": "Python 3",
   "language": "python",
   "name": "python3"
  },
  "language_info": {
   "codemirror_mode": {
    "name": "ipython",
    "version": 2
   },
   "file_extension": ".py",
   "mimetype": "text/x-python",
   "name": "python",
   "nbconvert_exporter": "python",
   "pygments_lexer": "ipython2",
   "version": "2.7.6"
  }
 },
 "nbformat": 4,
 "nbformat_minor": 0
}