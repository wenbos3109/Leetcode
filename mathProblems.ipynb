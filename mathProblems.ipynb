{
 "cells": [
  {
   "cell_type": "markdown",
   "metadata": {
    "collapsed": true,
    "pycharm": {
     "name": "#%% md\n"
    }
   },
   "source": [
    "## 1. 位运算"
   ]
  },
  {
   "cell_type": "code",
   "execution_count": null,
   "outputs": [],
   "source": [
    "print(10, ord('1'))"
   ],
   "metadata": {
    "collapsed": false,
    "pycharm": {
     "name": "#%%\n"
    }
   }
  },
  {
   "cell_type": "markdown",
   "source": [
    "#### Unsigned Integer\n",
    "Unsigned Integers\n",
    "In programming languages like C, you choose whether to use the\n",
    " signed or unsigned flavor of a given numeric type. Unsigned data\n",
    " ypes are more suitable when you know for sure that you’ll never\n",
    " need to deal with negative numbers. By allocating that one extra bit, which would otherwise serve as a sign bit, you practically double the range of available values.\n",
    "\n"
   ],
   "metadata": {
    "collapsed": false,
    "pycharm": {
     "name": "#%% md\n",
     "is_executing": true
    }
   }
  },
  {
   "cell_type": "markdown",
   "source": [
    "#### Bitwise NOT\n",
    "\n",
    "Flip all bits. While the bitwise NOT operator seems to be\n",
    "the most straightforward of them all, you need to exercise\n",
    "extreme caution when using it in Python. Everything\n",
    "you’ve read so far is based on the assumption that\n",
    "numbers are represented with unsigned integers.\n",
    "\n",
    "* $156_{10}=10011100_2$\n",
    "* $99_{10}=1100011_2$"
   ],
   "metadata": {
    "collapsed": false,
    "pycharm": {
     "name": "#%% md\n"
    }
   }
  },
  {
   "cell_type": "code",
   "execution_count": null,
   "outputs": [],
   "source": [
    "a = 156\n",
    "print(bin(a), a)\n",
    "print(bin(-a), -a)\n",
    "print(bin(~a), eval(bin(~a)))\n",
    "print(bin(~-a), eval(bin(~-a)))"
   ],
   "metadata": {
    "collapsed": false,
    "pycharm": {
     "name": "#%%\n"
    }
   }
  },
  {
   "cell_type": "markdown",
   "source": [
    "Python使用的是signed integer。"
   ],
   "metadata": {
    "collapsed": false,
    "pycharm": {
     "name": "#%% md\n"
    }
   }
  },
  {
   "cell_type": "code",
   "execution_count": null,
   "outputs": [],
   "source": [
    "from ctypes import c_uint8 as unsigned_byte\n",
    "a = 156\n",
    "a1 = unsigned_byte(~a).value\n",
    "a2 = unsigned_byte(a).value\n",
    "a3 = ~a\n",
    "print(a, a1, a3)"
   ],
   "metadata": {
    "collapsed": false,
    "pycharm": {
     "name": "#%%\n"
    }
   }
  },
  {
   "cell_type": "code",
   "execution_count": null,
   "outputs": [],
   "source": [
    "# 加1\n",
    "n = 1\n",
    "for _ in range(3):\n",
    "    print(bin(n), bin(-n), bin(-~n), eval(bin(-~n)))\n",
    "    n = -~n"
   ],
   "metadata": {
    "collapsed": false,
    "pycharm": {
     "name": "#%%\n"
    }
   }
  },
  {
   "cell_type": "code",
   "execution_count": null,
   "outputs": [],
   "source": [
    "for n in range(4):\n",
    "    print(n, bin(n), bin(~n), bin(-~n))\n"
   ],
   "metadata": {
    "collapsed": false,
    "pycharm": {
     "name": "#%%\n"
    }
   }
  },
  {
   "cell_type": "code",
   "execution_count": null,
   "outputs": [],
   "source": [
    "for _ in range(3):\n",
    "    n = ~-n\n",
    "    print(n)"
   ],
   "metadata": {
    "collapsed": false,
    "pycharm": {
     "name": "#%%\n"
    }
   }
  },
  {
   "cell_type": "code",
   "execution_count": null,
   "outputs": [],
   "source": [
    "for n in range(4):\n",
    "    print(n, bin(n), bin(-n), bin(~-n))"
   ],
   "metadata": {
    "collapsed": false,
    "pycharm": {
     "name": "#%%\n"
    }
   }
  },
  {
   "cell_type": "code",
   "execution_count": null,
   "outputs": [],
   "source": [
    "n = 39\n",
    "while n:\n",
    "    print(n, bin(n))\n",
    "    n >>= 1"
   ],
   "metadata": {
    "collapsed": false,
    "pycharm": {
     "name": "#%%\n"
    }
   }
  },
  {
   "cell_type": "markdown",
   "source": [
    "### Bit mask"
   ],
   "metadata": {
    "collapsed": false,
    "pycharm": {
     "name": "#%% md\n"
    }
   }
  },
  {
   "cell_type": "code",
   "execution_count": null,
   "outputs": [],
   "source": [
    "def get_bit(value, bit_index):\n",
    "    return value & (1 << bit_index)\n",
    "n = 97\n",
    "print(bin(n), get_bit(n, 5))"
   ],
   "metadata": {
    "collapsed": false,
    "pycharm": {
     "name": "#%%\n"
    }
   }
  },
  {
   "cell_type": "code",
   "execution_count": null,
   "outputs": [],
   "source": [
    "def get_normalized_bit(value, bit_index):\n",
    "    return (value >> bit_index) & 1\n",
    "\n",
    "for i in range(len(bin(n))):\n",
    "    print(bin(n), get_normalized_bit(n, i))"
   ],
   "metadata": {
    "collapsed": false,
    "pycharm": {
     "name": "#%%\n"
    }
   }
  },
  {
   "cell_type": "code",
   "execution_count": null,
   "outputs": [],
   "source": [
    "n = 15\n",
    "# To unset a bit\n",
    "def clear_bit(value, bit_index):\n",
    "    return value & ~(1 << bit_index)\n",
    "\n",
    "for i in range(len(bin(n))-2):\n",
    "    print(bin(n), bin(clear_bit(n, i)))"
   ],
   "metadata": {
    "collapsed": false,
    "pycharm": {
     "name": "#%%\n"
    }
   }
  },
  {
   "cell_type": "code",
   "execution_count": null,
   "outputs": [],
   "source": [
    "def toggle_bit(value, bit_index):\n",
    "     return value ^ (1 << bit_index)\n",
    "n = 13\n",
    "for i in range(len(bin(n))-2):\n",
    "    print(bin(n), bin(toggle_bit(n, i)))"
   ],
   "metadata": {
    "collapsed": false,
    "pycharm": {
     "name": "#%%\n"
    }
   }
  },
  {
   "cell_type": "markdown",
   "source": [
    "### 消除二进制最后一个1"
   ],
   "metadata": {
    "collapsed": false
   }
  },
  {
   "cell_type": "code",
   "execution_count": null,
   "outputs": [],
   "source": [
    "for n in range(15, 25):\n",
    "    print(n, bin(n), bin(n&(n-1)))\n",
    "\n"
   ],
   "metadata": {
    "collapsed": false,
    "pycharm": {
     "name": "#%%\n"
    }
   }
  },
  {
   "cell_type": "markdown",
   "source": [
    "### 371. Sum of Two Integers\n",
    "Medium\n",
    "\n",
    "\n",
    "Calculate the sum of two integers a and b, but you are not allowed to use the operator + and -.\n",
    "\n"
   ],
   "metadata": {
    "collapsed": false,
    "pycharm": {
     "name": "#%% md\n"
    }
   }
  },
  {
   "cell_type": "markdown",
   "source": [
    "#### 461. Hamming distance\n"
   ],
   "metadata": {
    "collapsed": false,
    "pycharm": {
     "name": "#%% md\n"
    }
   }
  },
  {
   "cell_type": "code",
   "execution_count": null,
   "outputs": [],
   "source": [
    "class Solution:\n",
    "    def hammingDistance(self, x: int, y: int) -> int:\n",
    "        z = x ^ y\n",
    "        count = 0\n",
    "        while z:\n",
    "            count += z & 1\n",
    "            z >>= 1\n",
    "        return count"
   ],
   "metadata": {
    "collapsed": false,
    "pycharm": {
     "name": "#%%\n"
    }
   }
  },
  {
   "cell_type": "markdown",
   "source": [
    "### 78. Subset\n",
    "\n",
    "\n"
   ],
   "metadata": {
    "collapsed": false,
    "pycharm": {
     "name": "#%% md\n"
    }
   }
  },
  {
   "cell_type": "code",
   "execution_count": null,
   "outputs": [],
   "source": [
    "class Solution:\n",
    "    def subsets(self, nums):\n",
    "        # if not nums: return []\n",
    "        n = len(nums)\n",
    "        res = []\n",
    "        for i in range(1<<n):\n",
    "            res.append([nums[j] for j in range(n) if i & (1 << j)])\n",
    "        return res"
   ],
   "metadata": {
    "collapsed": false,
    "pycharm": {
     "name": "#%%\n"
    }
   }
  },
  {
   "cell_type": "code",
   "execution_count": null,
   "outputs": [],
   "source": [
    "Solution().subsets([])"
   ],
   "metadata": {
    "collapsed": false,
    "pycharm": {
     "name": "#%%\n"
    }
   }
  },
  {
   "cell_type": "code",
   "execution_count": null,
   "outputs": [],
   "source": [],
   "metadata": {
    "collapsed": false,
    "pycharm": {
     "name": "#%%\n"
    }
   }
  },
  {
   "cell_type": "markdown",
   "source": [
    " ### 7. Reverse Integer\n"
   ],
   "metadata": {
    "collapsed": false,
    "pycharm": {
     "name": "#%% md\n"
    }
   }
  },
  {
   "cell_type": "code",
   "source": [],
   "metadata": {
    "collapsed": false,
    "pycharm": {
     "name": "#%%\n"
    }
   },
   "execution_count": null,
   "outputs": []
  },
  {
   "cell_type": "markdown",
   "source": [
    "### 311. Sparse Matrix Multiplication\n",
    "\n",
    "\n",
    "直接算会非常慢\n",
    "* Runtime: 204 ms, faster than 11.21% of Python3 online submissions for Sparse Matrix Multiplication.\n",
    "* Memory Usage: 14.8 MB, less than 31.95% of Python3 online submissions for Sparse Matrix Multiplication."
   ],
   "metadata": {
    "collapsed": false,
    "pycharm": {
     "name": "#%% md\n"
    }
   }
  },
  {
   "cell_type": "code",
   "execution_count": null,
   "outputs": [],
   "source": [
    "class Solution:\n",
    "    def multiply(self, A: List[List[int]], B: List[List[int]]) -> List[List[int]]:\n",
    "        m, n, p = len(A), len(A[0]), len(B[0])\n",
    "        C = [[0 for _ in range(p)] for _ in range(m)]\n",
    "        for i in range(m):\n",
    "            for j in range(p):\n",
    "                for k in range(n):\n",
    "                    C[i][j] += A[i][k] * B[k][j]\n",
    "        return C\n"
   ],
   "metadata": {
    "collapsed": false,
    "pycharm": {
     "name": "#%%\n"
    }
   }
  },
  {
   "cell_type": "markdown",
   "source": [
    "这样就快很多了\n",
    "* Runtime: 56 ms, faster than 79.31% of Python3 online submissions for Sparse Matrix Multiplication.\n",
    "* Memory Usage: 14.6 MB, less than 68.91% of Python3 online submissions for Sparse Matrix Multiplication."
   ],
   "metadata": {
    "collapsed": false,
    "pycharm": {
     "name": "#%% md\n"
    }
   }
  },
  {
   "cell_type": "code",
   "execution_count": null,
   "outputs": [],
   "source": [
    "class Solution:\n",
    "    def multiply(self, A: List[List[int]], B: List[List[int]]) -> List[List[int]]:\n",
    "        m, n, p = len(A), len(A[0]), len(B[0])\n",
    "        C = [[0 for _ in range(p)] for _ in range(m)]\n",
    "        for j in range(p):\n",
    "            # use B[0:n, p] to update\n",
    "            for k in range(n):\n",
    "                if B[k][j] == 0:\n",
    "                    continue\n",
    "                for i in range(m):\n",
    "                    C[i][j] += A[i][k] * B[k][j]\n",
    "        return C"
   ],
   "metadata": {
    "collapsed": false,
    "pycharm": {
     "name": "#%%\n"
    }
   }
  },
  {
   "cell_type": "markdown",
   "source": [
    "### 172. Factorial Trailing Zeroes\n"
   ],
   "metadata": {
    "collapsed": false,
    "pycharm": {
     "name": "#%% md\n"
    }
   }
  },
  {
   "cell_type": "code",
   "execution_count": null,
   "outputs": [],
   "source": [
    "class Solution:\n",
    "    def trailingZeroes(self, n: int) -> int:\n",
    "        count = 0\n",
    "        for i in range(5, n+1, 5):\n",
    "            j = i\n",
    "            while j >= 5 and j % 5 == 0:\n",
    "                count += 1\n",
    "                j //= 5\n",
    "        return count"
   ],
   "metadata": {
    "collapsed": false,
    "pycharm": {
     "name": "#%%\n"
    }
   }
  },
  {
   "cell_type": "code",
   "execution_count": null,
   "outputs": [],
   "source": [
    "Solution().trailingZeroes(25)"
   ],
   "metadata": {
    "collapsed": false,
    "pycharm": {
     "name": "#%%\n"
    }
   }
  },
  {
   "cell_type": "code",
   "execution_count": null,
   "outputs": [],
   "source": [
    "\"\"\"\n",
    "除了很多遍，重复计算\n",
    "\"\"\"\n",
    "class Solution:\n",
    "    def trailingZeroes(self, n: int) -> int:\n",
    "        count = 0\n",
    "        num = 5\n",
    "        while num <= n:\n",
    "            count += n // num\n",
    "            num *= 5\n",
    "        return count"
   ],
   "metadata": {
    "collapsed": false,
    "pycharm": {
     "name": "#%%\n"
    }
   }
  },
  {
   "cell_type": "code",
   "execution_count": null,
   "outputs": [],
   "source": [
    "Solution().trailingZeroes(25)"
   ],
   "metadata": {
    "collapsed": false,
    "pycharm": {
     "name": "#%%\n"
    }
   }
  },
  {
   "cell_type": "code",
   "execution_count": null,
   "outputs": [],
   "source": [],
   "metadata": {
    "collapsed": false,
    "pycharm": {
     "name": "#%%\n"
    }
   }
  },
  {
   "cell_type": "code",
   "execution_count": null,
   "outputs": [],
   "source": [],
   "metadata": {
    "collapsed": false,
    "pycharm": {
     "name": "#%%\n"
    }
   }
  },
  {
   "cell_type": "code",
   "execution_count": null,
   "outputs": [],
   "source": [
    "### 326. Power of Three"
   ],
   "metadata": {
    "collapsed": false,
    "pycharm": {
     "name": "#%%md\n"
    }
   }
  },
  {
   "cell_type": "code",
   "execution_count": null,
   "outputs": [],
   "source": [
    "class Solution:\n",
    "    def isPowerOfThree(self, n: int) -> bool:\n",
    "        if n < 0: return False\n",
    "        while n and n % 3 == 0:\n",
    "            print(n)\n",
    "            n //= 3\n",
    "        return n == 1"
   ],
   "metadata": {
    "collapsed": false,
    "pycharm": {
     "name": "#%%\n"
    }
   }
  },
  {
   "cell_type": "code",
   "execution_count": null,
   "outputs": [],
   "source": [
    "import math\n",
    "\n",
    "def is_power3(n):\n",
    "    d = math.log(n, 3)\n",
    "    return d == int(d)\n",
    "\n",
    "is_power3(243)"
   ],
   "metadata": {
    "collapsed": false,
    "pycharm": {
     "name": "#%%\n"
    }
   }
  },
  {
   "cell_type": "code",
   "execution_count": 3,
   "outputs": [
    {
     "name": "stdout",
     "output_type": "stream",
     "text": [
      "1 3\n",
      "2 9\n",
      "3 27\n",
      "4 81\n",
      "5 243\n",
      "6 729\n",
      "7 2187\n",
      "8 6561\n",
      "9 19683\n",
      "10 59049\n",
      "11 177147\n",
      "12 531441\n",
      "13 1594323\n",
      "14 4782969\n",
      "15 14348907\n",
      "16 43046721\n",
      "17 129140163\n",
      "18 387420489\n",
      "19 1162261467\n"
     ]
    }
   ],
   "source": [
    "i = 3\n",
    "MAX = 1 << 32-1\n",
    "t = 1\n",
    "while i <= MAX:\n",
    "    print(t,i)\n",
    "    i *= 3\n",
    "    t += 1"
   ],
   "metadata": {
    "collapsed": false,
    "pycharm": {
     "name": "#%%\n"
    }
   }
  },
  {
   "cell_type": "code",
   "execution_count": null,
   "outputs": [],
   "source": [],
   "metadata": {
    "collapsed": false,
    "pycharm": {
     "name": "#%%\n"
    }
   }
  },
  {
   "cell_type": "code",
   "execution_count": 6,
   "outputs": [],
   "source": [
    "class Solution:\n",
    "    def myPow(self, x: float, n: int) -> float:\n",
    "        if n == 0: return 1\n",
    "        if n < 0: return self.myPow(1/x, -n)\n",
    "        num = self.myPow(x, n//2)\n",
    "        if n % 2 == 0: return num * num\n",
    "        return num * num * x"
   ],
   "metadata": {
    "collapsed": false,
    "pycharm": {
     "name": "#%%\n"
    }
   }
  },
  {
   "cell_type": "code",
   "execution_count": 7,
   "outputs": [
    {
     "data": {
      "text/plain": "0.25"
     },
     "execution_count": 7,
     "metadata": {},
     "output_type": "execute_result"
    }
   ],
   "source": [
    "Solution().myPow(2, -2)"
   ],
   "metadata": {
    "collapsed": false,
    "pycharm": {
     "name": "#%%\n"
    }
   }
  },
  {
   "cell_type": "code",
   "execution_count": null,
   "outputs": [],
   "source": [],
   "metadata": {
    "collapsed": false,
    "pycharm": {
     "name": "#%%\n"
    }
   }
  }
 ],
 "metadata": {
  "kernelspec": {
   "display_name": "Python 3",
   "language": "python",
   "name": "python3"
  },
  "language_info": {
   "codemirror_mode": {
    "name": "ipython",
    "version": 2
   },
   "file_extension": ".py",
   "mimetype": "text/x-python",
   "name": "python",
   "nbconvert_exporter": "python",
   "pygments_lexer": "ipython2",
   "version": "2.7.6"
  }
 },
 "nbformat": 4,
 "nbformat_minor": 0
}