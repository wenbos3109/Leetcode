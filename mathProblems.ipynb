{
 "cells": [
  {
   "cell_type": "markdown",
   "metadata": {
    "collapsed": true,
    "pycharm": {
     "name": "#%% md\n"
    }
   },
   "source": [
    "## 1. 位运算"
   ]
  },
  {
   "cell_type": "code",
   "execution_count": 9,
   "outputs": [
    {
     "name": "stdout",
     "output_type": "stream",
     "text": [
      "10 49\n"
     ]
    }
   ],
   "source": [
    "print(10, ord('1'))"
   ],
   "metadata": {
    "collapsed": false,
    "pycharm": {
     "name": "#%%\n"
    }
   }
  },
  {
   "cell_type": "markdown",
   "source": [
    "#### Unsigned Integer\n",
    "Unsigned Integers\n",
    "In programming languages like C, you choose whether to use the\n",
    " signed or unsigned flavor of a given numeric type. Unsigned data\n",
    " ypes are more suitable when you know for sure that you’ll never\n",
    " need to deal with negative numbers. By allocating that one extra bit, which would otherwise serve as a sign bit, you practically double the range of available values.\n",
    "\n"
   ],
   "metadata": {
    "collapsed": false,
    "pycharm": {
     "name": "#%% md\n",
     "is_executing": true
    }
   }
  },
  {
   "cell_type": "markdown",
   "source": [
    "#### Bitwise NOT\n",
    "\n",
    "Flip all bits. While the bitwise NOT operator seems to be\n",
    "the most straightforward of them all, you need to exercise\n",
    "extreme caution when using it in Python. Everything\n",
    "you’ve read so far is based on the assumption that\n",
    "numbers are represented with unsigned integers.\n",
    "\n",
    "* $156_{10}=10011100_2$\n",
    "* $99_{10}=1100011_2$"
   ],
   "metadata": {
    "collapsed": false,
    "pycharm": {
     "name": "#%% md\n"
    }
   }
  },
  {
   "cell_type": "code",
   "execution_count": 33,
   "outputs": [
    {
     "name": "stdout",
     "output_type": "stream",
     "text": [
      "0b10011100 156\n",
      "-0b10011100 -156\n",
      "-0b10011101 -157\n",
      "0b10011011 155\n"
     ]
    }
   ],
   "source": [
    "a = 156\n",
    "print(bin(a), a)\n",
    "print(bin(-a), -a)\n",
    "print(bin(~a), eval(bin(~a)))\n",
    "print(bin(~-a), eval(bin(~-a)))"
   ],
   "metadata": {
    "collapsed": false,
    "pycharm": {
     "name": "#%%\n"
    }
   }
  },
  {
   "cell_type": "markdown",
   "source": [
    "Python使用的是signed integer。"
   ],
   "metadata": {
    "collapsed": false,
    "pycharm": {
     "name": "#%% md\n"
    }
   }
  },
  {
   "cell_type": "code",
   "execution_count": 50,
   "outputs": [
    {
     "name": "stdout",
     "output_type": "stream",
     "text": [
      "156 99 -157\n"
     ]
    }
   ],
   "source": [
    "from ctypes import c_uint8 as unsigned_byte\n",
    "a = 156\n",
    "a1 = unsigned_byte(~a).value\n",
    "a2 = unsigned_byte(a).value\n",
    "a3 = ~a\n",
    "print(a, a1, a3)"
   ],
   "metadata": {
    "collapsed": false,
    "pycharm": {
     "name": "#%%\n"
    }
   }
  },
  {
   "cell_type": "code",
   "execution_count": 52,
   "outputs": [
    {
     "name": "stdout",
     "output_type": "stream",
     "text": [
      "0b1 -0b1 0b10 2\n",
      "0b10 -0b10 0b11 3\n",
      "0b11 -0b11 0b100 4\n"
     ]
    }
   ],
   "source": [
    "# 加1\n",
    "n = 1\n",
    "for _ in range(3):\n",
    "    print(bin(n), bin(-n), bin(-~n), eval(bin(-~n)))\n",
    "    n = -~n"
   ],
   "metadata": {
    "collapsed": false,
    "pycharm": {
     "name": "#%%\n"
    }
   }
  },
  {
   "cell_type": "code",
   "execution_count": null,
   "outputs": [],
   "source": [
    "for n in range(4):\n",
    "    print(n, bin(n), bin(~n), bin(-~n))\n"
   ],
   "metadata": {
    "collapsed": false,
    "pycharm": {
     "name": "#%%\n"
    }
   }
  },
  {
   "cell_type": "code",
   "execution_count": 41,
   "outputs": [
    {
     "name": "stdout",
     "output_type": "stream",
     "text": [
      "2\n",
      "1\n",
      "0\n"
     ]
    }
   ],
   "source": [
    "for _ in range(3):\n",
    "    n = ~-n\n",
    "    print(n)"
   ],
   "metadata": {
    "collapsed": false,
    "pycharm": {
     "name": "#%%\n"
    }
   }
  },
  {
   "cell_type": "code",
   "execution_count": 42,
   "outputs": [
    {
     "name": "stdout",
     "output_type": "stream",
     "text": [
      "0 0b0 0b0 -0b1\n",
      "1 0b1 -0b1 0b0\n",
      "2 0b10 -0b10 0b1\n",
      "3 0b11 -0b11 0b10\n"
     ]
    }
   ],
   "source": [
    "for n in range(4):\n",
    "    print(n, bin(n), bin(-n), bin(~-n))"
   ],
   "metadata": {
    "collapsed": false,
    "pycharm": {
     "name": "#%%\n"
    }
   }
  },
  {
   "cell_type": "code",
   "execution_count": 12,
   "outputs": [
    {
     "name": "stdout",
     "output_type": "stream",
     "text": [
      "39 0b100111\n",
      "19 0b10011\n",
      "9 0b1001\n",
      "4 0b100\n",
      "2 0b10\n",
      "1 0b1\n"
     ]
    }
   ],
   "source": [
    "n = 39\n",
    "while n:\n",
    "    print(n, bin(n))\n",
    "    n >>= 1"
   ],
   "metadata": {
    "collapsed": false,
    "pycharm": {
     "name": "#%%\n"
    }
   }
  },
  {
   "cell_type": "markdown",
   "source": [
    "### Bit mask"
   ],
   "metadata": {
    "collapsed": false,
    "pycharm": {
     "name": "#%% md\n"
    }
   }
  },
  {
   "cell_type": "code",
   "execution_count": 20,
   "outputs": [
    {
     "name": "stdout",
     "output_type": "stream",
     "text": [
      "0b1100001 32\n"
     ]
    }
   ],
   "source": [
    "def get_bit(value, bit_index):\n",
    "    return value & (1 << bit_index)\n",
    "n = 97\n",
    "print(bin(n), get_bit(n, 5))"
   ],
   "metadata": {
    "collapsed": false,
    "pycharm": {
     "name": "#%%\n"
    }
   }
  },
  {
   "cell_type": "code",
   "execution_count": 21,
   "outputs": [
    {
     "name": "stdout",
     "output_type": "stream",
     "text": [
      "0b1100001 1\n",
      "0b1100001 0\n",
      "0b1100001 0\n",
      "0b1100001 0\n",
      "0b1100001 0\n",
      "0b1100001 1\n",
      "0b1100001 1\n",
      "0b1100001 0\n",
      "0b1100001 0\n"
     ]
    }
   ],
   "source": [
    "def get_normalized_bit(value, bit_index):\n",
    "    return (value >> bit_index) & 1\n",
    "\n",
    "for i in range(len(bin(n))):\n",
    "    print(bin(n), get_normalized_bit(n, i))"
   ],
   "metadata": {
    "collapsed": false,
    "pycharm": {
     "name": "#%%\n"
    }
   }
  },
  {
   "cell_type": "code",
   "execution_count": 26,
   "outputs": [
    {
     "name": "stdout",
     "output_type": "stream",
     "text": [
      "0b1111 0b1110\n",
      "0b1111 0b1101\n",
      "0b1111 0b1011\n",
      "0b1111 0b111\n"
     ]
    }
   ],
   "source": [
    "n = 15\n",
    "# To unset a bit\n",
    "def clear_bit(value, bit_index):\n",
    "    return value & ~(1 << bit_index)\n",
    "\n",
    "for i in range(len(bin(n))-2):\n",
    "    print(bin(n), bin(clear_bit(n, i)))"
   ],
   "metadata": {
    "collapsed": false,
    "pycharm": {
     "name": "#%%\n"
    }
   }
  },
  {
   "cell_type": "code",
   "execution_count": 28,
   "outputs": [
    {
     "name": "stdout",
     "output_type": "stream",
     "text": [
      "0b1101 0b1100\n",
      "0b1101 0b1111\n",
      "0b1101 0b1001\n",
      "0b1101 0b101\n"
     ]
    }
   ],
   "source": [
    "def toggle_bit(value, bit_index):\n",
    "     return value ^ (1 << bit_index)\n",
    "n = 13\n",
    "for i in range(len(bin(n))-2):\n",
    "    print(bin(n), bin(toggle_bit(n, i)))"
   ],
   "metadata": {
    "collapsed": false,
    "pycharm": {
     "name": "#%%\n"
    }
   }
  },
  {
   "cell_type": "markdown",
   "source": [
    "### 消除二进制最后一个1"
   ],
   "metadata": {
    "collapsed": false
   }
  },
  {
   "cell_type": "code",
   "execution_count": 53,
   "outputs": [
    {
     "name": "stdout",
     "output_type": "stream",
     "text": [
      "15 0b1111 0b1110\n",
      "16 0b10000 0b0\n",
      "17 0b10001 0b10000\n",
      "18 0b10010 0b10000\n",
      "19 0b10011 0b10010\n",
      "20 0b10100 0b10000\n",
      "21 0b10101 0b10100\n",
      "22 0b10110 0b10100\n",
      "23 0b10111 0b10110\n",
      "24 0b11000 0b10000\n"
     ]
    }
   ],
   "source": [
    "for n in range(15, 25):\n",
    "    print(n, bin(n), bin(n&(n-1)))\n",
    "\n"
   ],
   "metadata": {
    "collapsed": false,
    "pycharm": {
     "name": "#%%\n"
    }
   }
  },
  {
   "cell_type": "markdown",
   "source": [
    "#### 461. Hamming distance\n"
   ],
   "metadata": {
    "collapsed": false,
    "pycharm": {
     "name": "#%% md\n"
    }
   }
  },
  {
   "cell_type": "code",
   "execution_count": null,
   "outputs": [],
   "source": [
    "class Solution:\n",
    "    def hammingDistance(self, x: int, y: int) -> int:\n",
    "        z = x ^ y\n",
    "        count = 0\n",
    "        while z:\n",
    "            count += z & 1\n",
    "            z >>= 1\n",
    "        return count"
   ],
   "metadata": {
    "collapsed": false,
    "pycharm": {
     "name": "#%%\n"
    }
   }
  }
 ],
 "metadata": {
  "kernelspec": {
   "display_name": "Python 3",
   "language": "python",
   "name": "python3"
  },
  "language_info": {
   "codemirror_mode": {
    "name": "ipython",
    "version": 2
   },
   "file_extension": ".py",
   "mimetype": "text/x-python",
   "name": "python",
   "nbconvert_exporter": "python",
   "pygments_lexer": "ipython2",
   "version": "2.7.6"
  }
 },
 "nbformat": 4,
 "nbformat_minor": 0
}