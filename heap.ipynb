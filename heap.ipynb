{
 "cells": [
  {
   "cell_type": "code",
   "execution_count": 2,
   "metadata": {
    "collapsed": true
   },
   "outputs": [],
   "source": [
    "\n",
    "class ListNode:\n",
    "    def __init__(self, val=0, next=None):\n",
    "        self.val = val\n",
    "        self.next = next"
   ]
  },
  {
   "cell_type": "code",
   "execution_count": 3,
   "outputs": [],
   "source": [
    "from queue import PriorityQueue"
   ],
   "metadata": {
    "collapsed": false,
    "pycharm": {
     "name": "#%%\n"
    }
   }
  },
  {
   "cell_type": "markdown",
   "source": [
    "Questions\n",
    "1. how to use customize comparator.\n",
    "2. how to update value."
   ],
   "metadata": {
    "collapsed": false,
    "pycharm": {
     "name": "#%% md\n"
    }
   }
  },
  {
   "cell_type": "code",
   "source": [
    "PriorityQueue??"
   ],
   "metadata": {
    "collapsed": false,
    "pycharm": {
     "name": "#%%\n"
    }
   },
   "execution_count": 8,
   "outputs": []
  },
  {
   "cell_type": "code",
   "execution_count": null,
   "outputs": [],
   "source": [
    "\n",
    "q =  PriorityQueue(lambda x: -x)\n",
    "\n",
    "for i in range(10):\n",
    "    q.put(i)"
   ],
   "metadata": {
    "collapsed": false,
    "pycharm": {
     "name": "#%%\n"
    }
   }
  },
  {
   "cell_type": "code",
   "execution_count": 7,
   "outputs": [],
   "source": [
    "# Definition for singly-linked list.\n",
    "class Solution:\n",
    "\n",
    "    def mergeKLists(self, lists) -> ListNode:\n",
    "        def cmp(a, b):\n",
    "            return a.val <= b.val\n",
    "        setattr(ListNode, '__lt__',  cmp)\n",
    "        q = PriorityQueue()\n",
    "        for node in lists:\n",
    "            if node:\n",
    "                q.put(node)\n",
    "\n",
    "        head = cur = ListNode()\n",
    "        while q.qsize():\n",
    "            node = q.get()\n",
    "            cur.next = node\n",
    "            cur = cur.next\n",
    "            if node.next:\n",
    "                q.put(node.next)\n",
    "        return head.next"
   ],
   "metadata": {
    "collapsed": false,
    "pycharm": {
     "name": "#%%\n"
    }
   }
  },
  {
   "cell_type": "markdown",
   "source": [
    "\n",
    "### 253. Meeting Rooms II"
   ],
   "metadata": {
    "collapsed": false,
    "pycharm": {
     "name": "#%% md\n",
     "is_executing": true
    }
   }
  },
  {
   "cell_type": "code",
   "execution_count": 8,
   "outputs": [],
   "source": [
    "q = PriorityQueue()\n"
   ],
   "metadata": {
    "collapsed": false,
    "pycharm": {
     "name": "#%%\n"
    }
   }
  },
  {
   "cell_type": "code",
   "execution_count": 13,
   "outputs": [],
   "source": [
    "q.put(3)\n",
    "q.put(2)\n",
    "q.put(1)"
   ],
   "metadata": {
    "collapsed": false,
    "pycharm": {
     "name": "#%%\n"
    }
   }
  },
  {
   "cell_type": "code",
   "execution_count": 14,
   "outputs": [
    {
     "data": {
      "text/plain": "1"
     },
     "execution_count": 14,
     "metadata": {},
     "output_type": "execute_result"
    }
   ],
   "source": [
    "q.queue[0]"
   ],
   "metadata": {
    "collapsed": false,
    "pycharm": {
     "name": "#%%\n"
    }
   }
  },
  {
   "cell_type": "markdown",
   "source": [
    "### 253. Meeting Rooms II\n",
    "Given an array of meeting time intervals consisting of start and end\n",
    " times [[s1,e1],[s2,e2],...] (si < ei), find the minimum number of conference rooms required."
   ],
   "metadata": {
    "collapsed": false,
    "pycharm": {
     "name": "#%% md\n"
    }
   }
  },
  {
   "cell_type": "code",
   "execution_count": 18,
   "outputs": [],
   "source": [
    "from queue import PriorityQueue\n",
    "class Solution:\n",
    "    def minMeetingRooms(self, intervals: List[List[int]]) -> int:\n",
    "        if not intervals: return 0\n",
    "        q = PriorityQueue()\n",
    "        intervals.sort(key = lambda x: x[0])\n",
    "        q.put(intervals[0][1])\n",
    "        for i in range(1, len(intervals)):\n",
    "            start, end = intervals[i]\n",
    "            # 找出最早结束的\n",
    "            if start >= q.queue[0]:\n",
    "                q.get()\n",
    "            q.put(end)\n",
    "        return q.qsize()"
   ],
   "metadata": {
    "collapsed": false,
    "pycharm": {
     "name": "#%%\n"
    }
   }
  },
  {
   "cell_type": "code",
   "execution_count": 19,
   "outputs": [
    {
     "data": {
      "text/plain": "1"
     },
     "execution_count": 19,
     "metadata": {},
     "output_type": "execute_result"
    }
   ],
   "source": [
    "Solution().minMeetingRooms([[1,5],[8,9],[8,9]])"
   ],
   "metadata": {
    "collapsed": false,
    "pycharm": {
     "name": "#%%\n"
    }
   }
  },
  {
   "cell_type": "markdown",
   "source": [
    "## 264. Ugly Number II\n",
    "\n",
    "Write a program to find the n-th ugly number.\n",
    "\n",
    "Ugly numbers are positive numbers whose prime factors only include 2, 3, 5."
   ],
   "metadata": {
    "collapsed": false,
    "pycharm": {
     "name": "#%% md\n"
    }
   }
  },
  {
   "cell_type": "code",
   "execution_count": 20,
   "outputs": [],
   "source": [
    "\n",
    "class Solution:\n",
    "    def nthUglyNumber(self, n: int) -> int:\n",
    "        ugly = 1\n",
    "        q = PriorityQueue()\n",
    "        visited = set()\n",
    "        q.put(ugly)\n",
    "        for _ in range(n):\n",
    "            ugly = q.get()\n",
    "            for i in [2, 3, 5]:\n",
    "                num = ugly*i\n",
    "                if num not in visited:\n",
    "                    q.put(num)\n",
    "                    visited.add(num)\n",
    "        return ugly"
   ],
   "metadata": {
    "collapsed": false,
    "pycharm": {
     "name": "#%%\n"
    }
   }
  },
  {
   "cell_type": "code",
   "execution_count": null,
   "outputs": [],
   "source": [],
   "metadata": {
    "collapsed": false,
    "pycharm": {
     "name": "#%%\n"
    }
   }
  }
 ],
 "metadata": {
  "kernelspec": {
   "display_name": "Python 3",
   "language": "python",
   "name": "python3"
  },
  "language_info": {
   "codemirror_mode": {
    "name": "ipython",
    "version": 2
   },
   "file_extension": ".py",
   "mimetype": "text/x-python",
   "name": "python",
   "nbconvert_exporter": "python",
   "pygments_lexer": "ipython2",
   "version": "2.7.6"
  }
 },
 "nbformat": 4,
 "nbformat_minor": 0
}