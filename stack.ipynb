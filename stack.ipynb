{
 "cells": [
  {
   "cell_type": "markdown",
   "metadata": {
    "collapsed": true,
    "pycharm": {
     "name": "#%% md\n"
    }
   },
   "source": [
    "### 42. Trapping Rain Water"
   ]
  },
  {
   "cell_type": "code",
   "execution_count": 100,
   "outputs": [],
   "source": [
    "class Solution:\n",
    "    def trap(self, height) -> int:\n",
    "        # 我觉得要用stack， 保持左边高度的递减\n",
    "        stack = []\n",
    "        ans = 0\n",
    "        for i, h in enumerate(height):\n",
    "            if len(stack) < 2 or h <= stack[-1][1]:\n",
    "                stack.append((i, h))\n",
    "            else:\n",
    "                pre_i, pre_height = stack.pop()\n",
    "                while stack and min(h, stack[-1][1]) >= pre_height:\n",
    "                    ans += (min(h, stack[-1][1])-pre_height) * (i-stack[-1][0]-1)\n",
    "                    if stack[-1][1] > h:\n",
    "                        break\n",
    "                    pre_i, pre_height = stack.pop()\n",
    "                stack.append((i, h))\n",
    "        return ans\n"
   ],
   "metadata": {
    "collapsed": false,
    "pycharm": {
     "name": "#%%\n"
    }
   }
  },
  {
   "cell_type": "code",
   "execution_count": 101,
   "outputs": [
    {
     "name": "stdout",
     "output_type": "stream",
     "text": [
      "0, stack: [], append (0, 0)\n",
      "1, stack: [(0, 0)], append (1, 1)\n",
      "2, stack: [(0, 0), (1, 1)], append (2, 0)\n",
      "3 [(0, 0), (1, 1)], pre_i, pre_height = (2, 0)\n",
      "1, 1, 1\n",
      "4, stack: [(0, 0), (3, 2)], append (4, 1)\n",
      "5, stack: [(0, 0), (3, 2), (4, 1)], append (5, 0)\n",
      "6 [(0, 0), (3, 2), (4, 1)], pre_i, pre_height = (5, 0)\n",
      "1, 1, 2\n",
      "6 [(0, 0), (3, 2)], pre_i, pre_height = (4, 1)\n",
      "0, 2, 2\n",
      "7 [(0, 0), (3, 2)], pre_i, pre_height = (6, 1)\n",
      "1, 3, 5\n",
      "8, stack: [(0, 0), (7, 3)], append (8, 2)\n",
      "9, stack: [(0, 0), (7, 3), (8, 2)], append (9, 1)\n",
      "10 [(0, 0), (7, 3), (8, 2)], pre_i, pre_height = (9, 1)\n",
      "1, 1, 6\n",
      "10 [(0, 0), (7, 3)], pre_i, pre_height = (8, 2)\n",
      "0, 2, 6\n",
      "11, stack: [(0, 0), (7, 3), (10, 2)], append (11, 1)\n",
      "6\n"
     ]
    }
   ],
   "source": [
    "height = [0,1,0,2,1,0,1,3,2,1,2,1]\n",
    "\n",
    "print(Solution().trap(height))"
   ],
   "metadata": {
    "collapsed": false,
    "pycharm": {
     "name": "#%%\n"
    }
   }
  },
  {
   "cell_type": "code",
   "execution_count": 97,
   "outputs": [],
   "source": [
    "\"\"\"\n",
    "这题也可以用如下方法来做，每个点可以获得的水量是左右两边最大高度的较小值决定。\n",
    "\"\"\"\n",
    "\n",
    "class Solution:\n",
    "    def trap(self, height) -> int:\n",
    "        n = len(height)\n",
    "        ans = 0\n",
    "        for i in range(1, n-1):\n",
    "            max_left = max(height[:i])\n",
    "            max_right = max(height[i+1:])\n",
    "            ans += max(min(max_right, max_left) - height[i], 0)\n",
    "        return ans\n",
    "\n",
    "    def trap(self, height) -> int:\n",
    "        n = len(height)\n",
    "        max_right = [0] * n\n",
    "        max_left = [0] * n\n",
    "        ans = 0\n",
    "        for i in range(1, n):\n",
    "            max_left[i] = max(height[i-1], max_left[i-1])\n",
    "        for i in range(n-2, -1, -1):\n",
    "            max_right[i] = max(height[i+1], max_right[i+1])\n",
    "        for i in range(1, n-1):\n",
    "            ans += max(min(max_right[i], max_left[i]) - height[i], 0)\n",
    "        return ans"
   ],
   "metadata": {
    "collapsed": false,
    "pycharm": {
     "name": "#%%\n"
    }
   }
  },
  {
   "cell_type": "code",
   "execution_count": null,
   "outputs": [],
   "source": [],
   "metadata": {
    "collapsed": false,
    "pycharm": {
     "name": "#%%\n"
    }
   }
  }
 ],
 "metadata": {
  "kernelspec": {
   "display_name": "Python 3",
   "language": "python",
   "name": "python3"
  },
  "language_info": {
   "codemirror_mode": {
    "name": "ipython",
    "version": 2
   },
   "file_extension": ".py",
   "mimetype": "text/x-python",
   "name": "python",
   "nbconvert_exporter": "python",
   "pygments_lexer": "ipython2",
   "version": "2.7.6"
  }
 },
 "nbformat": 4,
 "nbformat_minor": 0
}