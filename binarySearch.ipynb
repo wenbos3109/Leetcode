{
 "cells": [
  {
   "cell_type": "code",
   "execution_count": 3,
   "outputs": [],
   "source": [
    "import math"
   ],
   "metadata": {
    "collapsed": false,
    "pycharm": {
     "name": "#%%\n"
    }
   }
  },
  {
   "cell_type": "markdown",
   "source": [
    "## 二分搜索基本\n",
    "\n",
    "### 1. 搜索一个数，如果找到就返回下标，找不到就返回-1。\n"
   ],
   "metadata": {
    "collapsed": false
   }
  },
  {
   "cell_type": "code",
   "execution_count": 19,
   "outputs": [],
   "source": [
    "def binSearchOpen(nums, target):\n",
    "    # 注意此时为开区间，这要保持\n",
    "    low, high = 0, len(nums)\n",
    "    while low < high:\n",
    "        mid = (low+high) >> 1\n",
    "        if nums[mid] == target:\n",
    "            return mid\n",
    "        elif target < nums[mid]:\n",
    "            high = mid\n",
    "        else:\n",
    "            low = mid+1\n",
    "    return -1"
   ],
   "metadata": {
    "collapsed": false,
    "pycharm": {
     "name": "#%%\n"
    }
   }
  },
  {
   "cell_type": "code",
   "execution_count": 20,
   "outputs": [
    {
     "name": "stdout",
     "output_type": "stream",
     "text": [
      "2\n",
      "-1\n"
     ]
    }
   ],
   "source": [
    "nums = [1,2,3,4,5]\n",
    "print(binSearchOpen(nums, 3))\n",
    "print(binSearchOpen(nums, -2))"
   ],
   "metadata": {
    "collapsed": false,
    "pycharm": {
     "name": "#%%\n"
    }
   }
  },
  {
   "cell_type": "markdown",
   "source": [
    "接下来是闭区间"
   ],
   "metadata": {
    "collapsed": false,
    "pycharm": {
     "name": "#%% md\n"
    }
   }
  },
  {
   "cell_type": "code",
   "execution_count": 21,
   "outputs": [],
   "source": [
    "def binSearchClose(nums, target):\n",
    "    # 注意此时为开区间，这要保持\n",
    "    low, high = 0, len(nums)-1\n",
    "    while low <= high:\n",
    "        mid = (low+high) >> 1\n",
    "        if nums[mid]== target:\n",
    "            return mid\n",
    "        elif target < nums[mid]:\n",
    "            high = mid-1\n",
    "        else:\n",
    "            low = mid+1\n",
    "    return -1"
   ],
   "metadata": {
    "collapsed": false,
    "pycharm": {
     "name": "#%%\n"
    }
   }
  },
  {
   "cell_type": "code",
   "execution_count": 22,
   "outputs": [
    {
     "name": "stdout",
     "output_type": "stream",
     "text": [
      "2\n",
      "-1\n",
      "2\n"
     ]
    }
   ],
   "source": [
    "nums = [1,2,3,4,5]\n",
    "print(binSearchClose(nums, 3))\n",
    "print(binSearchClose(nums, -2))\n",
    "\n",
    "nums = [1,2,2,2,5]\n",
    "print(binSearchClose(nums, 2))"
   ],
   "metadata": {
    "collapsed": false,
    "pycharm": {
     "name": "#%%\n"
    }
   }
  },
  {
   "cell_type": "markdown",
   "source": [
    "### 2. 寻找左侧或者右侧边界的二分搜索\n",
    "对于nums=[1,2,2,2,2,3]这种情况， 如果我们要搜索最左边的2，\n",
    "那上面那种方式就不行了。"
   ],
   "metadata": {
    "collapsed": false,
    "pycharm": {
     "name": "#%% md\n"
    }
   }
  },
  {
   "cell_type": "code",
   "execution_count": 50,
   "outputs": [],
   "source": [
    "def binSearchLeftOpen(nums, target):\n",
    "    # 注意此时为开区间，这要保持\n",
    "    low, high = 0, len(nums)\n",
    "    while low < high:\n",
    "        mid = (low+high) >> 1\n",
    "        if target <= nums[mid]:\n",
    "            high = mid\n",
    "        else:\n",
    "            low = mid+1\n",
    "    # if low == len(nums) or nums[low] != target:\n",
    "    #     return -1\n",
    "    return low\n",
    "\n",
    "def binSearchRightOpen(nums, target):\n",
    "    # 注意此时为开区间，这要保持\n",
    "    low, high = 0, len(nums)\n",
    "    while low < high:\n",
    "        mid = (low+high) >> 1\n",
    "        if target < nums[mid]:\n",
    "            high = mid\n",
    "        else:\n",
    "            low = mid+1\n",
    "    if low-1 < 0 or nums[low-1] != target:\n",
    "        return -1\n",
    "    return low-1"
   ],
   "metadata": {
    "collapsed": false,
    "pycharm": {
     "name": "#%%\n"
    }
   }
  },
  {
   "cell_type": "code",
   "execution_count": 51,
   "outputs": [
    {
     "name": "stdout",
     "output_type": "stream",
     "text": [
      "1\n",
      "3\n"
     ]
    }
   ],
   "source": [
    "nums = [1,2,2,2,5]\n",
    "print(binSearchLeftOpen(nums, 2))\n",
    "print(binSearchRightOpen(nums, 2))"
   ],
   "metadata": {
    "collapsed": false,
    "pycharm": {
     "name": "#%%\n"
    }
   }
  },
  {
   "cell_type": "code",
   "execution_count": 53,
   "outputs": [
    {
     "name": "stdout",
     "output_type": "stream",
     "text": [
      "0\n",
      "5\n",
      "-1\n",
      "-1\n"
     ]
    }
   ],
   "source": [
    "# 当寻找不存在的值, 结果就不对了\n",
    "\n",
    "# 看来左侧是属于寻找插入位置该用的。\n",
    "print(binSearchLeftOpen(nums, 0.5))\n",
    "print(binSearchLeftOpen(nums, 10))\n",
    "\n",
    "print(binSearchRightOpen(nums, 0.5))\n",
    "print(binSearchRightOpen(nums, 10))\n",
    "\n"
   ],
   "metadata": {
    "collapsed": false,
    "pycharm": {
     "name": "#%%\n"
    }
   }
  },
  {
   "cell_type": "markdown",
   "metadata": {
    "collapsed": true,
    "pycharm": {
     "name": "#%% md\n"
    }
   },
   "source": [
    "## 875. Koko Eating Bananas\n",
    "\n",
    "Koko loves to eat bananas.  There are N piles of bananas, the i-th pile has piles[i] bananas.  The guards have gone and will come back in H hours.\n",
    "\n",
    "Koko can decide her bananas-per-hour eating speed of K.  Each hour, she chooses some pile of bananas, and eats K bananas from that pile.  If the pile has less than K bananas, she eats all of them instead, and won't eat any more bananas during this hour.\n",
    "\n",
    "Koko likes to eat slowly, but still wants to finish eating all the bananas before the guards come back.\n",
    "\n",
    "Return the minimum integer K such that she can eat all the bananas within H hours.\n",
    "\n",
    "Example 1:"
   ]
  },
  {
   "cell_type": "raw",
   "source": [
    "Input: piles = [3,6,7,11], H = 8\n",
    "Output: 4"
   ],
   "metadata": {
    "collapsed": false,
    "pycharm": {
     "name": "#%% raw\n"
    }
   }
  },
  {
   "cell_type": "markdown",
   "source": [
    "如何暴力解决？感觉上来说贪心好像没用。吃香蕉的速度，最小是1，最\n",
    "大应该是max(piles), 因为一小时只能吃一堆，再多没意义。\n",
    "    * 问题： 给定速度，如何判断多久吃完？\n",
    "用题目中的例子，一小时4根。\n"
   ],
   "metadata": {
    "collapsed": false,
    "pycharm": {
     "name": "#%% md\n"
    }
   }
  },
  {
   "cell_type": "code",
   "execution_count": 5,
   "outputs": [],
   "source": [
    "class Solution:\n",
    "    def minEatingSpeed(self, piles: List[int], H: int) -> int:\n",
    "\n",
    "        def canFinish(piles, speed, H):\n",
    "            time = 0;\n",
    "            for n in piles:\n",
    "                time += math.ceil(n/speed);\n",
    "            return time <= H;\n",
    "\n",
    "        low, high = 1, max(piles)\n",
    "        while low < high:\n",
    "            mid = (low+high) >> 1\n",
    "            if canFinish(piles, mid, H):\n",
    "                high = mid\n",
    "            else:\n",
    "                low = mid+1\n",
    "        return low"
   ],
   "metadata": {
    "collapsed": false,
    "pycharm": {
     "name": "#%%\n"
    }
   }
  },
  {
   "cell_type": "code",
   "execution_count": null,
   "outputs": [],
   "source": [],
   "metadata": {
    "collapsed": false,
    "pycharm": {
     "name": "#%%\n"
    }
   }
  }
 ],
 "metadata": {
  "kernelspec": {
   "name": "pycharm-96410332",
   "language": "python",
   "display_name": "PyCharm (leetcode)"
  },
  "language_info": {
   "codemirror_mode": {
    "name": "ipython",
    "version": 2
   },
   "file_extension": ".py",
   "mimetype": "text/x-python",
   "name": "python",
   "nbconvert_exporter": "python",
   "pygments_lexer": "ipython2",
   "version": "2.7.6"
  }
 },
 "nbformat": 4,
 "nbformat_minor": 0
}