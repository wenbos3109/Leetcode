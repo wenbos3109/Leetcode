{
 "cells": [
  {
   "cell_type": "code",
   "execution_count": 5,
   "metadata": {
    "collapsed": true
   },
   "outputs": [
    {
     "ename": "TypeError",
     "evalue": "setattr() takes no keyword arguments",
     "output_type": "error",
     "traceback": [
      "\u001B[0;31m---------------------------------------------------------------------------\u001B[0m",
      "\u001B[0;31mTypeError\u001B[0m                                 Traceback (most recent call last)",
      "\u001B[0;32m<ipython-input-5-4becc7a14d36>\u001B[0m in \u001B[0;36m<module>\u001B[0;34m\u001B[0m\n\u001B[1;32m     11\u001B[0m     \u001B[0;32mreturn\u001B[0m \u001B[0;34m\",\"\u001B[0m\u001B[0;34m.\u001B[0m\u001B[0mjoin\u001B[0m\u001B[0;34m(\u001B[0m\u001B[0ms\u001B[0m\u001B[0;34m)\u001B[0m\u001B[0;34m\u001B[0m\u001B[0;34m\u001B[0m\u001B[0m\n\u001B[1;32m     12\u001B[0m \u001B[0;34m\u001B[0m\u001B[0m\n\u001B[0;32m---> 13\u001B[0;31m \u001B[0msetattr\u001B[0m\u001B[0;34m(\u001B[0m\u001B[0mListNode\u001B[0m\u001B[0;34m,\u001B[0m \u001B[0mstr\u001B[0m\u001B[0;34m=\u001B[0m\u001B[0ml_str\u001B[0m\u001B[0;34m)\u001B[0m\u001B[0;34m\u001B[0m\u001B[0;34m\u001B[0m\u001B[0m\n\u001B[0m\u001B[1;32m     14\u001B[0m \u001B[0;34m\u001B[0m\u001B[0m\n\u001B[1;32m     15\u001B[0m \u001B[0;34m\u001B[0m\u001B[0m\n",
      "\u001B[0;31mTypeError\u001B[0m: setattr() takes no keyword arguments"
     ]
    }
   ],
   "source": [
    "class ListNode:\n",
    "    def __init__(self, val=0, next=None):\n",
    "        self.val = val\n",
    "        self.next = next\n",
    "\n",
    "def l_str(head):\n",
    "    s = []\n",
    "    while head:\n",
    "        s.append(str(head.val))\n",
    "        head = head.next\n",
    "    return \",\".join(s)\n",
    "\n",
    "setattr(ListNode, ListNode.__str__=l_str)\n"
   ]
  },
  {
   "cell_type": "markdown",
   "source": [
    "## 查找链表中点"
   ],
   "metadata": {
    "collapsed": false,
    "pycharm": {
     "name": "#%% md\n"
    }
   }
  },
  {
   "cell_type": "code",
   "execution_count": 6,
   "outputs": [],
   "source": [
    "def find_mid(head):\n",
    "    if not head or not head.next:\n",
    "        return head\n",
    "    fast, slow = head, head\n",
    "    while fast and fast.next:\n",
    "        fast = fast.next.next\n",
    "        slow = slow.next\n",
    "    return slow.val"
   ],
   "metadata": {
    "collapsed": false,
    "pycharm": {
     "name": "#%%\n"
    }
   }
  },
  {
   "cell_type": "code",
   "execution_count": 7,
   "outputs": [],
   "source": [
    "def construct_linkedlist(nums):\n",
    "    if not nums: return None\n",
    "    head = ListNode(nums[0])\n",
    "    head.next = construct_linkedlist(nums[1:])\n",
    "    return head"
   ],
   "metadata": {
    "collapsed": false,
    "pycharm": {
     "name": "#%%\n"
    }
   }
  },
  {
   "cell_type": "code",
   "execution_count": 8,
   "outputs": [
    {
     "name": "stdout",
     "output_type": "stream",
     "text": [
      "5 4\n",
      "<__main__.ListNode object at 0x7fc1e85e8850>\n"
     ]
    }
   ],
   "source": [
    "a = [1,2,3,4,5,6,7,8]\n",
    "b = [1,2,3,4,5,6,7]\n",
    "headA = construct_linkedlist(a)\n",
    "headB = construct_linkedlist(b)\n",
    "print(find_mid(headA), find_mid(headB))\n",
    "\n",
    "print(headA)"
   ],
   "metadata": {
    "collapsed": false,
    "pycharm": {
     "name": "#%%\n"
    }
   }
  },
  {
   "cell_type": "markdown",
   "source": [
    "206. 反转链表的两种做法"
   ],
   "metadata": {
    "collapsed": false
   }
  },
  {
   "cell_type": "code",
   "execution_count": 6,
   "outputs": [],
   "source": [
    "class Solution:\n",
    "    # iterative\n",
    "    def reverseList(self, head: ListNode) -> ListNode:\n",
    "        pre = None\n",
    "        while head:\n",
    "            nxt = head.next\n",
    "            head.next = pre\n",
    "            pre = head\n",
    "            head = nxt\n",
    "        return pre\n",
    "\n",
    "    # recursive\n",
    "    def reverseList(self, head: ListNode) -> ListNode:\n",
    "        if not head or not head.next:\n",
    "            return head\n",
    "        new_head = self.reverseList(head.next)\n",
    "        head.next.next = head\n",
    "        head.next = None\n",
    "        return new_head"
   ],
   "metadata": {
    "collapsed": false,
    "pycharm": {
     "name": "#%%\n"
    }
   }
  },
  {
   "cell_type": "markdown",
   "source": [
    "## 92. Reverse Linked List II\n",
    "Reverse a linked list from position m to n. Do it in one-pass.\n",
    "\n",
    "Note: $1 \\leq m \\leq n \\leq l $ of list."
   ],
   "metadata": {
    "collapsed": false,
    "pycharm": {
     "name": "#%% md\n"
    }
   }
  },
  {
   "cell_type": "code",
   "execution_count": 7,
   "outputs": [],
   "source": [
    "class Solution:\n",
    "    def __init__(self):\n",
    "        self.successor = None\n",
    "\n",
    "    def reverseN(self, head, n):\n",
    "        if n == 1:\n",
    "            self.successor = head.next\n",
    "            return head\n",
    "        new_head = self.reverseN(head.next, n-1)\n",
    "        head.next.next = head\n",
    "        head.next = self.successor\n",
    "        return new_head\n",
    "\n",
    "    def reverseBetween(self, head: ListNode, m: int, n: int) -> ListNode:\n",
    "        if m == 1:\n",
    "            return self.reverseN(head, n)\n",
    "        head.next = self.reverseBetween(head.next, m-1, n-1)\n",
    "        return head"
   ],
   "metadata": {
    "collapsed": false,
    "pycharm": {
     "name": "#%%\n"
    }
   }
  },
  {
   "cell_type": "markdown",
   "source": [
    "## 141. LinkedList Cycle\n",
    "\n"
   ],
   "metadata": {
    "collapsed": false,
    "pycharm": {
     "name": "#%% md\n"
    }
   }
  },
  {
   "cell_type": "code",
   "execution_count": 8,
   "outputs": [],
   "source": [
    "class Solution:\n",
    "    def hasCycle(self, head: ListNode) -> bool:\n",
    "        fast, slow = head, head\n",
    "        while fast and fast.next:\n",
    "            fast = fast.next.next\n",
    "            slow = slow.next\n",
    "            if fast == slow:\n",
    "                return True\n",
    "        return False"
   ],
   "metadata": {
    "collapsed": false,
    "pycharm": {
     "name": "#%%\n"
    }
   }
  },
  {
   "cell_type": "markdown",
   "source": [
    "## 142. Linked List Cycle II\n",
    "Given a linked list, return the node where the cycle begins. If there is no cycle, return null.\n",
    "\n",
    "There is a cycle in a linked list if there is some node in the list that can be reached again by continuously following the next pointer. Internally, pos is used to denote the index of the node that tail's next pointer is connected to. Note that pos is not passed as a parameter.\n",
    "\n",
    "Notice that you should not modify the linked list.\n",
    "\n",
    "思路，首先让快慢指针相遇， 环内相遇的点距离环的起点为a, 这时fast走了2k步，slow走了k\n",
    "步，很明显k是环长度l的整数倍。（猜想，是不是slow还没有走完第一圈就被撞上了？）所以\n",
    " * 从head开始走$k-a$步就到达了环的起点\n",
    " * 从相遇处走$k-a$步也到达环的起点（$(k-a+a)\\mod l =0$）。\n"
   ],
   "metadata": {
    "collapsed": false,
    "pycharm": {
     "name": "#%% md\n"
    }
   }
  },
  {
   "cell_type": "code",
   "execution_count": 9,
   "outputs": [],
   "source": [
    "class Solution:\n",
    "    def detectCycle(self, head: ListNode) -> ListNode:\n",
    "        slow, fast = head, head\n",
    "        while fast and fast.next:\n",
    "            fast = fast.next.next\n",
    "            slow = slow.next\n",
    "            if slow == fast:\n",
    "                fast = head\n",
    "                while fast != slow:\n",
    "                    fast = fast.next\n",
    "                    slow = slow.next\n",
    "                return fast\n",
    "        return None"
   ],
   "metadata": {
    "collapsed": false,
    "pycharm": {
     "name": "#%%\n"
    }
   }
  },
  {
   "cell_type": "markdown",
   "source": [
    "### 287. Find the Duplicate Number\n",
    "另一变种，只是用的是数组"
   ],
   "metadata": {
    "collapsed": false,
    "pycharm": {
     "name": "#%% md\n"
    }
   }
  },
  {
   "cell_type": "code",
   "execution_count": null,
   "outputs": [],
   "source": [
    "class Solution:\n",
    "    # def findDuplicate(self, nums: List[int]) -> int:\n",
    "    #     nums.sort()\n",
    "    #     for i in range(1, len(nums)):\n",
    "    #         if nums[i] == nums[i-1]:\n",
    "    #             return nums[i]\n",
    "\n",
    "    # def findDuplicate(self, nums: List[int]) -> int:\n",
    "    #     count = [0] * len(nums)\n",
    "    #     for n in nums:\n",
    "    #         count[n] += 1\n",
    "    #         if count[n] >= 2:\n",
    "    #             return n\n",
    "\n",
    "    def findDuplicate(self, nums: List[int]) -> int:\n",
    "        fast = slow = nums[0]\n",
    "        while True:\n",
    "            fast = nums[nums[fast]]\n",
    "            slow = nums[slow]\n",
    "            if slow != fast:\n",
    "                break\n",
    "        slow = nums[0]\n",
    "        while slow == fast:\n",
    "            slow = nums[slow]\n",
    "            fast = nums[fast]\n",
    "        return slow"
   ],
   "metadata": {
    "collapsed": false,
    "pycharm": {
     "name": "#%%\n"
    }
   }
  },
  {
   "cell_type": "markdown",
   "source": [
    "### 234. Palindrome Linked List\n",
    "\n",
    "Given a singly linked list, determine if it is a palindrome.\n",
    "\n",
    "第一种做法，从中间反转，然后比对。"
   ],
   "metadata": {
    "collapsed": false,
    "pycharm": {
     "name": "#%% md\n"
    }
   }
  },
  {
   "cell_type": "code",
   "execution_count": 10,
   "outputs": [],
   "source": [
    "class Solution:\n",
    "    def isPalindrome(self, head: ListNode) -> bool:\n",
    "        if not head or not head.next: return True\n",
    "\n",
    "        def reverse(head):\n",
    "            pre = None\n",
    "            while head:\n",
    "                nxt = head.next\n",
    "                head.next = pre\n",
    "                pre = head\n",
    "                head = nxt\n",
    "            return pre\n",
    "\n",
    "        fast, slow = head, head\n",
    "        while fast and fast.next:\n",
    "            slow = slow.next\n",
    "            fast = fast.next.next\n",
    "\n",
    "        head2 = reverse(slow)\n",
    "        while head and head2:\n",
    "            if head.val != head2.val:\n",
    "                return False\n",
    "            head = head.next\n",
    "            head2 = head2.next\n",
    "        return True"
   ],
   "metadata": {
    "collapsed": false,
    "pycharm": {
     "name": "#%%\n"
    }
   }
  },
  {
   "cell_type": "markdown",
   "source": [
    "如何用递归来做呢？如果我们一直保存左侧指针，然后比对和\n"
   ],
   "metadata": {
    "collapsed": false,
    "pycharm": {
     "name": "#%% md\n"
    }
   }
  },
  {
   "cell_type": "code",
   "execution_count": 21,
   "outputs": [],
   "source": [
    "class Solution:\n",
    "    def isPalindrome(self, right: ListNode) -> bool:\n",
    "        self.left = head\n",
    "        def helper(right):\n",
    "            # 判断以left开始以head结束的链表是不是回文\n",
    "            if not right:\n",
    "                return True\n",
    "            res = helper(right.next) and (right.val == self.left.val)\n",
    "            print(right.val, self.left.val)\n",
    "            self.left = self.left.next\n",
    "\n",
    "            return res\n",
    "        return helper(head)"
   ],
   "metadata": {
    "collapsed": false,
    "pycharm": {
     "name": "#%%\n"
    }
   }
  },
  {
   "cell_type": "code",
   "execution_count": 1,
   "outputs": [
    {
     "ename": "NameError",
     "evalue": "name 'construct_linkedlist' is not defined",
     "output_type": "error",
     "traceback": [
      "\u001B[0;31m---------------------------------------------------------------------------\u001B[0m",
      "\u001B[0;31mNameError\u001B[0m                                 Traceback (most recent call last)",
      "\u001B[0;32m<ipython-input-1-93992a0aba75>\u001B[0m in \u001B[0;36m<module>\u001B[0;34m\u001B[0m\n\u001B[1;32m      1\u001B[0m \u001B[0ma\u001B[0m \u001B[0;34m=\u001B[0m \u001B[0;34m[\u001B[0m\u001B[0;36m1\u001B[0m\u001B[0;34m,\u001B[0m\u001B[0;36m2\u001B[0m\u001B[0;34m,\u001B[0m\u001B[0;36m3\u001B[0m\u001B[0;34m,\u001B[0m\u001B[0;36m4\u001B[0m\u001B[0;34m,\u001B[0m\u001B[0;36m5\u001B[0m\u001B[0;34m]\u001B[0m\u001B[0;34m\u001B[0m\u001B[0;34m\u001B[0m\u001B[0m\n\u001B[0;32m----> 2\u001B[0;31m \u001B[0mhead\u001B[0m \u001B[0;34m=\u001B[0m \u001B[0mconstruct_linkedlist\u001B[0m\u001B[0;34m(\u001B[0m\u001B[0ma\u001B[0m\u001B[0;34m)\u001B[0m\u001B[0;34m\u001B[0m\u001B[0;34m\u001B[0m\u001B[0m\n\u001B[0m\u001B[1;32m      3\u001B[0m \u001B[0mprint\u001B[0m\u001B[0;34m(\u001B[0m\u001B[0mSolution\u001B[0m\u001B[0;34m(\u001B[0m\u001B[0;34m)\u001B[0m\u001B[0;34m.\u001B[0m\u001B[0misPalindrome\u001B[0m\u001B[0;34m(\u001B[0m\u001B[0mhead\u001B[0m\u001B[0;34m)\u001B[0m\u001B[0;34m)\u001B[0m\u001B[0;34m\u001B[0m\u001B[0;34m\u001B[0m\u001B[0m\n",
      "\u001B[0;31mNameError\u001B[0m: name 'construct_linkedlist' is not defined"
     ]
    }
   ],
   "source": [
    "a = [1,2,3,4,5]\n",
    "head = construct_linkedlist(a)\n",
    "print(Solution().isPalindrome(head))"
   ],
   "metadata": {
    "collapsed": false,
    "pycharm": {
     "name": "#%%\n"
    }
   }
  },
  {
   "cell_type": "markdown",
   "source": [
    "### 19. Remove Nth Node From End of List"
   ],
   "metadata": {
    "collapsed": false,
    "pycharm": {
     "name": "#%% md\n"
    }
   }
  },
  {
   "cell_type": "code",
   "execution_count": 2,
   "outputs": [
    {
     "ename": "NameError",
     "evalue": "name 'ListNode' is not defined",
     "output_type": "error",
     "traceback": [
      "\u001B[0;31m---------------------------------------------------------------------------\u001B[0m",
      "\u001B[0;31mNameError\u001B[0m                                 Traceback (most recent call last)",
      "\u001B[0;32m<ipython-input-2-d0a1cc49a98b>\u001B[0m in \u001B[0;36m<module>\u001B[0;34m\u001B[0m\n\u001B[0;32m----> 1\u001B[0;31m \u001B[0;32mclass\u001B[0m \u001B[0mSolution\u001B[0m\u001B[0;34m:\u001B[0m\u001B[0;34m\u001B[0m\u001B[0;34m\u001B[0m\u001B[0m\n\u001B[0m\u001B[1;32m      2\u001B[0m     \u001B[0;32mdef\u001B[0m \u001B[0mremoveNthFromEnd\u001B[0m\u001B[0;34m(\u001B[0m\u001B[0mself\u001B[0m\u001B[0;34m,\u001B[0m \u001B[0mhead\u001B[0m\u001B[0;34m:\u001B[0m \u001B[0mListNode\u001B[0m\u001B[0;34m,\u001B[0m \u001B[0mn\u001B[0m\u001B[0;34m:\u001B[0m \u001B[0mint\u001B[0m\u001B[0;34m)\u001B[0m \u001B[0;34m->\u001B[0m \u001B[0mListNode\u001B[0m\u001B[0;34m:\u001B[0m\u001B[0;34m\u001B[0m\u001B[0;34m\u001B[0m\u001B[0m\n\u001B[1;32m      3\u001B[0m         \u001B[0;32mdef\u001B[0m \u001B[0msolve\u001B[0m\u001B[0;34m(\u001B[0m\u001B[0mhead\u001B[0m\u001B[0;34m)\u001B[0m\u001B[0;34m:\u001B[0m\u001B[0;34m\u001B[0m\u001B[0;34m\u001B[0m\u001B[0m\n\u001B[1;32m      4\u001B[0m             \u001B[0;32mif\u001B[0m \u001B[0;32mnot\u001B[0m \u001B[0mhead\u001B[0m\u001B[0;34m:\u001B[0m\u001B[0;34m\u001B[0m\u001B[0;34m\u001B[0m\u001B[0m\n\u001B[1;32m      5\u001B[0m                 \u001B[0;32mreturn\u001B[0m \u001B[0;36m0\u001B[0m\u001B[0;34m\u001B[0m\u001B[0;34m\u001B[0m\u001B[0m\n",
      "\u001B[0;32m<ipython-input-2-d0a1cc49a98b>\u001B[0m in \u001B[0;36mSolution\u001B[0;34m()\u001B[0m\n\u001B[1;32m      1\u001B[0m \u001B[0;32mclass\u001B[0m \u001B[0mSolution\u001B[0m\u001B[0;34m:\u001B[0m\u001B[0;34m\u001B[0m\u001B[0;34m\u001B[0m\u001B[0m\n\u001B[0;32m----> 2\u001B[0;31m     \u001B[0;32mdef\u001B[0m \u001B[0mremoveNthFromEnd\u001B[0m\u001B[0;34m(\u001B[0m\u001B[0mself\u001B[0m\u001B[0;34m,\u001B[0m \u001B[0mhead\u001B[0m\u001B[0;34m:\u001B[0m \u001B[0mListNode\u001B[0m\u001B[0;34m,\u001B[0m \u001B[0mn\u001B[0m\u001B[0;34m:\u001B[0m \u001B[0mint\u001B[0m\u001B[0;34m)\u001B[0m \u001B[0;34m->\u001B[0m \u001B[0mListNode\u001B[0m\u001B[0;34m:\u001B[0m\u001B[0;34m\u001B[0m\u001B[0;34m\u001B[0m\u001B[0m\n\u001B[0m\u001B[1;32m      3\u001B[0m         \u001B[0;32mdef\u001B[0m \u001B[0msolve\u001B[0m\u001B[0;34m(\u001B[0m\u001B[0mhead\u001B[0m\u001B[0;34m)\u001B[0m\u001B[0;34m:\u001B[0m\u001B[0;34m\u001B[0m\u001B[0;34m\u001B[0m\u001B[0m\n\u001B[1;32m      4\u001B[0m             \u001B[0;32mif\u001B[0m \u001B[0;32mnot\u001B[0m \u001B[0mhead\u001B[0m\u001B[0;34m:\u001B[0m\u001B[0;34m\u001B[0m\u001B[0;34m\u001B[0m\u001B[0m\n\u001B[1;32m      5\u001B[0m                 \u001B[0;32mreturn\u001B[0m \u001B[0;36m0\u001B[0m\u001B[0;34m\u001B[0m\u001B[0;34m\u001B[0m\u001B[0m\n",
      "\u001B[0;31mNameError\u001B[0m: name 'ListNode' is not defined"
     ]
    }
   ],
   "source": [
    "class Solution:\n",
    "    def removeNthFromEnd(self, head: ListNode, n: int) -> ListNode:\n",
    "        def solve(head):\n",
    "            if not head:\n",
    "                return 0\n",
    "            i = solve(head.next) + 1\n",
    "            if i == n+1:\n",
    "                head.next = head.next.next\n",
    "            return i\n",
    "        self.dummy = ListNode(0, head)\n",
    "        return self.dummy.next\n",
    "\n",
    "    def removeNthFromEnd(self, head: ListNode, n: int) -> ListNode:\n",
    "        # 最简单，快慢指针\n",
    "        fast, slow = head, head\n",
    "        for _ in range(n):\n",
    "            fast = fast.next\n",
    "        pre = dummy = ListNode()\n",
    "        pre.next = head\n",
    "        while fast:\n",
    "            pre = slow\n",
    "            fast = fast.next\n",
    "            slow = slow.next\n",
    "        pre.next = pre.next.next\n",
    "        return dummy.next"
   ],
   "metadata": {
    "collapsed": false,
    "pycharm": {
     "name": "#%%\n"
    }
   }
  },
  {
   "cell_type": "code",
   "execution_count": 2,
   "outputs": [],
   "source": [],
   "metadata": {
    "collapsed": false,
    "pycharm": {
     "name": "#%%\n"
    }
   }
  },
  {
   "cell_type": "markdown",
   "source": [
    "### 148. Sort List\n",
    "\n",
    "Merge sort"
   ],
   "metadata": {
    "collapsed": false,
    "pycharm": {
     "name": "#%% md\n"
    }
   }
  },
  {
   "cell_type": "code",
   "execution_count": 9,
   "outputs": [],
   "source": [
    "class Solution:\n",
    "    def sortList(self, head: ListNode) -> ListNode:\n",
    "        if not head or not head.next:\n",
    "            return head\n",
    "        fast, slow = head, head\n",
    "        pre = None\n",
    "        while fast and fast.next:\n",
    "            pre = slow\n",
    "            fast = fast.next.next\n",
    "            slow = slow.next\n",
    "        head2 = pre.next\n",
    "\n",
    "\n",
    "        pre.next = None\n",
    "        head = self.sortList(head)\n",
    "        head2 = self.sortList(head2)\n",
    "\n",
    "        cur = dummy = ListNode()\n",
    "        while head and head2:\n",
    "            if head.val < head2.val:\n",
    "                cur.next = head\n",
    "                head = head.next\n",
    "            else:\n",
    "                cur.next = head2\n",
    "                head2 = head2.next\n",
    "            cur = cur.next\n",
    "        cur.next = head2 if head2 else head\n",
    "        return dummy.next\n"
   ],
   "metadata": {
    "collapsed": false,
    "pycharm": {
     "name": "#%%\n"
    }
   }
  },
  {
   "cell_type": "markdown",
   "source": [
    "### 328. Odd even linkedlist"
   ],
   "metadata": {
    "collapsed": false,
    "pycharm": {
     "name": "#%% md\n"
    }
   }
  },
  {
   "cell_type": "code",
   "execution_count": 10,
   "outputs": [],
   "source": [
    "class Solution:\n",
    "\n",
    "    def oddEvenList(self, head: ListNode) -> ListNode:\n",
    "        if not head or not head.next: return head\n",
    "        odd, even = head, head.next\n",
    "        even_head = even\n",
    "        while even and even.next:\n",
    "            odd.next = even.next\n",
    "            odd = odd.next\n",
    "            even.next = odd.next\n",
    "            even = even.next\n",
    "        odd.next = even_head\n",
    "        return head\n",
    "\n",
    "\n",
    "\n",
    "    def oddEvenList(self, head: ListNode) -> ListNode:\n",
    "        def solve(head):\n",
    "            if not head or not head.next:\n",
    "                return head or None, None\n",
    "            h1, h2 = solve(head.next.next)\n",
    "            head2 = head.next\n",
    "            head.next = h1\n",
    "            head2.next = h2\n",
    "            return head, head2\n",
    "        h1, h2 = solve(head)\n",
    "        cur = h1\n",
    "        while cur and cur.next:\n",
    "            cur = cur.next\n",
    "        if cur:\n",
    "            cur.next = h2\n",
    "        return h1\n",
    "\n"
   ],
   "metadata": {
    "collapsed": false,
    "pycharm": {
     "name": "#%%\n"
    }
   }
  },
  {
   "cell_type": "markdown",
   "source": [
    "### 430. Flatten a multilevel linkedlist\n",
    "\n",
    "\n"
   ],
   "metadata": {
    "collapsed": false,
    "pycharm": {
     "name": "#%% md\n"
    }
   }
  },
  {
   "cell_type": "code",
   "execution_count": 1,
   "outputs": [],
   "source": [
    "class Node:\n",
    "    def __init__(self, val, prev, next, child):\n",
    "        self.val = val\n",
    "        self.prev = prev\n",
    "        self.next = next\n",
    "        self.child = child\n",
    "\n",
    "\n",
    "class Solution:\n",
    "\n",
    "    def flatten(self, head: 'Node') -> 'Node':\n",
    "\n",
    "        \"\"\"\n",
    "        solve 可以把child，和head后面已经压缩成的链表，合成一个链表。\n",
    "        \"\"\"\n",
    "        def solve(head, tail=None):\n",
    "            if not head:\n",
    "                return tail\n",
    "\n",
    "            head.next = solve(head.child, solve(head.next, tail))\n",
    "            if head.next: head.next.prev = head\n",
    "            head.child = None\n",
    "            return head\n",
    "\n",
    "        return solve(head)\n",
    "\n",
    "\n",
    "    def flatten(self, head: 'Node') -> 'Node':\n",
    "        if not head: return head\n",
    "\n",
    "        def flatten(prev, curr):\n",
    "            if not curr:\n",
    "                return prev\n",
    "            curr.prev = prev\n",
    "            prev.next = curr\n",
    "\n",
    "            temp_next = curr.next\n",
    "            tail = flatten(curr, curr.child)\n",
    "            curr.child = None\n",
    "            return flatten(tail, temp_next)\n",
    "\n",
    "        dummy = Node(None, None, head, None)\n",
    "        flatten(dummy, head)\n",
    "        dummy.next.prev = None\n",
    "        return dummy.next\n",
    "\n",
    "\n",
    "    def flatten(self, head: 'Node') -> 'Node':\n",
    "        if not head: return head\n",
    "        prev = dummy = Node(0, None, head, None)\n",
    "        stack = [head]\n",
    "        while stack:\n",
    "            node = stack.pop()\n",
    "            node.prev = prev\n",
    "            prev.next = node\n",
    "            prev = node\n",
    "            if node.next:\n",
    "                stack.append(node.next)\n",
    "            if node.child:\n",
    "                stack.append(node.child)\n",
    "                node.child = None\n",
    "        dummy.next.prev = None\n",
    "        return dummy.next\n",
    "\n",
    "\n"
   ],
   "metadata": {
    "collapsed": false,
    "pycharm": {
     "name": "#%%\n"
    }
   }
  },
  {
   "cell_type": "markdown",
   "source": [
    "### 426. Convert Binary Search Tree to Sorted Doubly Linked List\n",
    "\n",
    "J"
   ],
   "metadata": {
    "collapsed": false,
    "pycharm": {
     "name": "#%% md\n"
    }
   }
  },
  {
   "cell_type": "code",
   "execution_count": 2,
   "outputs": [],
   "source": [
    "class Solution:\n",
    "\n",
    "\n",
    "    def treeToDoublyList(self, root: 'Node') -> 'Node':\n",
    "\n",
    "\n",
    "        def helper(root):\n",
    "            nonlocal head, tail\n",
    "            if not root: return\n",
    "            helper(root.left)\n",
    "            if tail:\n",
    "                tail.right = root\n",
    "                root.left = tail\n",
    "            else:\n",
    "                head = root\n",
    "            tail = root\n",
    "            helper(root.right)\n",
    "\n",
    "        if not root: return None\n",
    "        head, tail = None, None\n",
    "        helper(root)\n",
    "        head.left = tail\n",
    "        tail.right = head\n",
    "        return head\n"
   ],
   "metadata": {
    "collapsed": false,
    "pycharm": {
     "name": "#%%\n"
    }
   }
  },
  {
   "cell_type": "code",
   "execution_count": null,
   "outputs": [],
   "source": [],
   "metadata": {
    "collapsed": false,
    "pycharm": {
     "name": "#%%\n"
    }
   }
  }
 ],
 "metadata": {
  "kernelspec": {
   "display_name": "Python 3",
   "language": "python",
   "name": "python3"
  },
  "language_info": {
   "codemirror_mode": {
    "name": "ipython",
    "version": 2
   },
   "file_extension": ".py",
   "mimetype": "text/x-python",
   "name": "python",
   "nbconvert_exporter": "python",
   "pygments_lexer": "ipython2",
   "version": "2.7.6"
  }
 },
 "nbformat": 4,
 "nbformat_minor": 0
}