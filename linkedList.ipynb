{
 "cells": [
  {
   "cell_type": "code",
   "execution_count": 8,
   "metadata": {
    "collapsed": true
   },
   "outputs": [],
   "source": [
    "class ListNode:\n",
    "    def __init__(self, val=0, next=None):\n",
    "        self.val = val\n",
    "        self.next = next"
   ]
  },
  {
   "cell_type": "markdown",
   "source": [
    "## 查找链表中点"
   ],
   "metadata": {
    "collapsed": false,
    "pycharm": {
     "name": "#%% md\n"
    }
   }
  },
  {
   "cell_type": "code",
   "execution_count": 13,
   "outputs": [],
   "source": [
    "def find_mid(head):\n",
    "    if not head or not head.next:\n",
    "        return head\n",
    "    fast, slow = head, head\n",
    "    while fast and fast.next:\n",
    "        fast = fast.next.next\n",
    "        slow = slow.next\n",
    "    return slow.val"
   ],
   "metadata": {
    "collapsed": false,
    "pycharm": {
     "name": "#%%\n"
    }
   }
  },
  {
   "cell_type": "code",
   "execution_count": 14,
   "outputs": [],
   "source": [
    "def construct_linkedlist(nums):\n",
    "    if not nums: return None\n",
    "    head = ListNode(nums[0])\n",
    "    head.next = construct_linkedlist(nums[1:])\n",
    "    return head"
   ],
   "metadata": {
    "collapsed": false,
    "pycharm": {
     "name": "#%%\n"
    }
   }
  },
  {
   "cell_type": "code",
   "execution_count": 15,
   "outputs": [
    {
     "name": "stdout",
     "output_type": "stream",
     "text": [
      "5 4\n"
     ]
    }
   ],
   "source": [
    "a = [1,2,3,4,5,6,7,8]\n",
    "b = [1,2,3,4,5,6,7]\n",
    "headA = construct_linkedlist(a)\n",
    "headB = construct_linkedlist(b)\n",
    "print(find_mid(headA), find_mid(headB))"
   ],
   "metadata": {
    "collapsed": false,
    "pycharm": {
     "name": "#%%\n"
    }
   }
  },
  {
   "cell_type": "markdown",
   "source": [
    "206. 反转链表的两种做法"
   ],
   "metadata": {
    "collapsed": false
   }
  },
  {
   "cell_type": "code",
   "execution_count": 5,
   "outputs": [],
   "source": [
    "class Solution:\n",
    "    # iterative\n",
    "    def reverseList(self, head: ListNode) -> ListNode:\n",
    "        pre = None\n",
    "        while head:\n",
    "            nxt = head.next\n",
    "            head.next = pre\n",
    "            pre = head\n",
    "            head = nxt\n",
    "        return pre\n",
    "\n",
    "    # recursive\n",
    "    def reverseList(self, head: ListNode) -> ListNode:\n",
    "        if not head or not head.next:\n",
    "            return head\n",
    "        new_head = self.reverseList(head.next)\n",
    "        head.next.next = head\n",
    "        head.next = None\n",
    "        return new_head"
   ],
   "metadata": {
    "collapsed": false,
    "pycharm": {
     "name": "#%%\n"
    }
   }
  },
  {
   "cell_type": "markdown",
   "source": [
    "## 92. Reverse Linked List II\n",
    "Reverse a linked list from position m to n. Do it in one-pass.\n",
    "\n",
    "Note: $1 \\leq m \\leq n \\leq l $ of list."
   ],
   "metadata": {
    "collapsed": false,
    "pycharm": {
     "name": "#%% md\n"
    }
   }
  },
  {
   "cell_type": "code",
   "execution_count": 6,
   "outputs": [],
   "source": [
    "class Solution:\n",
    "    def __init__(self):\n",
    "        self.successor = None\n",
    "\n",
    "    def reverseN(self, head, n):\n",
    "        if n == 1:\n",
    "            self.successor = head.next\n",
    "            return head\n",
    "        new_head = self.reverseN(head.next, n-1)\n",
    "        head.next.next = head\n",
    "        head.next = self.successor\n",
    "        return new_head\n",
    "\n",
    "    def reverseBetween(self, head: ListNode, m: int, n: int) -> ListNode:\n",
    "        if m == 1:\n",
    "            return self.reverseN(head, n)\n",
    "        head.next = self.reverseBetween(head.next, m-1, n-1)\n",
    "        return head"
   ],
   "metadata": {
    "collapsed": false,
    "pycharm": {
     "name": "#%%\n"
    }
   }
  },
  {
   "cell_type": "markdown",
   "source": [
    "## 141. LinkedList Cycle\n",
    "\n"
   ],
   "metadata": {
    "collapsed": false,
    "pycharm": {
     "name": "#%% md\n"
    }
   }
  },
  {
   "cell_type": "code",
   "execution_count": 7,
   "outputs": [],
   "source": [
    "class Solution:\n",
    "    def hasCycle(self, head: ListNode) -> bool:\n",
    "        fast, slow = head, head\n",
    "        while fast and fast.next:\n",
    "            fast = fast.next.next\n",
    "            slow = slow.next\n",
    "            if fast == slow:\n",
    "                return True\n",
    "        return False"
   ],
   "metadata": {
    "collapsed": false,
    "pycharm": {
     "name": "#%%\n"
    }
   }
  },
  {
   "cell_type": "markdown",
   "source": [
    "## 142. Linked List Cycle II\n",
    "Given a linked list, return the node where the cycle begins. If there is no cycle, return null.\n",
    "\n",
    "There is a cycle in a linked list if there is some node in the list that can be reached again by continuously following the next pointer. Internally, pos is used to denote the index of the node that tail's next pointer is connected to. Note that pos is not passed as a parameter.\n",
    "\n",
    "Notice that you should not modify the linked list.\n",
    "\n",
    "思路，首先让快慢指针相遇， 环内相遇的点距离环的起点为a, 这时fast走了2k步，slow走了k\n",
    "步，很明显k是环长度l的整数倍。（猜想，是不是slow还没有走完第一圈就被撞上了？）所以\n",
    " * 从head开始走$k-a$步就到达了环的起点\n",
    " * 从相遇处走$k-a$步也到达环的起点（$(k-a+a)\\mod l =0$）。\n"
   ],
   "metadata": {
    "collapsed": false,
    "pycharm": {
     "name": "#%% md\n"
    }
   }
  },
  {
   "cell_type": "code",
   "execution_count": null,
   "outputs": [],
   "source": [
    "class Solution:\n",
    "    def detectCycle(self, head: ListNode) -> ListNode:\n",
    "        slow, fast = head, head\n",
    "        while fast and fast.next:\n",
    "            fast = fast.next.next\n",
    "            slow = slow.next\n",
    "            if slow == fast:\n",
    "                fast = head\n",
    "                while fast != slow:\n",
    "                    fast = fast.next\n",
    "                    slow = slow.next\n",
    "                return fast\n",
    "        return None\n",
    "\n"
   ],
   "metadata": {
    "collapsed": false,
    "pycharm": {
     "name": "#%%\n"
    }
   }
  }
 ],
 "metadata": {
  "kernelspec": {
   "display_name": "Python 3",
   "language": "python",
   "name": "python3"
  },
  "language_info": {
   "codemirror_mode": {
    "name": "ipython",
    "version": 2
   },
   "file_extension": ".py",
   "mimetype": "text/x-python",
   "name": "python",
   "nbconvert_exporter": "python",
   "pygments_lexer": "ipython2",
   "version": "2.7.6"
  }
 },
 "nbformat": 4,
 "nbformat_minor": 0
}