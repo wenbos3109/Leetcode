{
 "cells": [
  {
   "cell_type": "markdown",
   "source": [
    "### 还有子集问题，多维数组初始化问题。"
   ],
   "metadata": {
    "collapsed": false,
    "pycharm": {
     "name": "#%% md\n"
    }
   }
  },
  {
   "cell_type": "markdown",
   "metadata": {
    "collapsed": true,
    "pycharm": {
     "name": "#%% md\n"
    }
   },
   "source": [
    "\n",
    "\n",
    "## 1. 0-1背包问题\n",
    "\n",
    "给你一个可装载重量为 W 的背包和 N 个物品，每个物品有重量和价值两个属性。\n",
    "其中第 i 个物品的重量为 wt[i]，价值为 val[i]，现在让你用这个背包装物品，\n",
    "最多能装的价值是多少？"
   ]
  },
  {
   "cell_type": "raw",
   "source": [
    "Input: val[] = {60, 100, 120};\n",
    "        wt[] = {10, 20, 30};\n",
    "        W = 50;\n",
    "Output: 220 //maximum value that can be obtained\n",
    "         30 20 //weights 20 and 30 are included.\n",
    "\n",
    "Input: val[] = {40, 100, 50, 60};\n",
    "        wt[] = {20, 10, 40, 30};\n",
    "        W = 60;\n",
    "Output: 200\n",
    "         30 20 10"
   ],
   "metadata": {
    "collapsed": false,
    "pycharm": {
     "name": "#%% raw\n"
    }
   }
  },
  {
   "cell_type": "markdown",
   "source": [
    "状态转移方程为：\n",
    "\n",
    "$$F[i, v]=\\max \\left\\{F[i-1, v], F\\left[i-1, v-C_{i}\\right]+W_{i}\\right\\}$$\n",
    "\n",
    "取决于你第i个物品拿不拿。"
   ],
   "metadata": {
    "collapsed": false
   }
  },
  {
   "cell_type": "code",
   "execution_count": 6,
   "outputs": [],
   "source": [
    "def knapsack01(values, weights, capacity):\n",
    "    n = len(values)\n",
    "    dp = [[0 for _ in range(capacity+1)] for _ in range(n+1)]\n",
    "    for i in range(n+1):\n",
    "        for j in range(weights[i-1], capacity+1):\n",
    "            dp[i][j] = max(dp[i-1][j], dp[i-1][j-weights[i-1]] + values[i-1])\n",
    "    return dp[n-1][capacity]"
   ],
   "metadata": {
    "collapsed": false,
    "pycharm": {
     "name": "#%%\n"
    }
   }
  },
  {
   "cell_type": "code",
   "execution_count": 7,
   "outputs": [
    {
     "name": "stdout",
     "output_type": "stream",
     "text": [
      "200\n"
     ]
    }
   ],
   "source": [
    "print(knapsack01([40, 100, 50, 60],  [20, 10, 40, 30], 60))\n"
   ],
   "metadata": {
    "collapsed": false,
    "pycharm": {
     "name": "#%%\n"
    }
   }
  },
  {
   "cell_type": "markdown",
   "source": [
    "因为dp[i][j]只用到了dp[i-1]相关的东西，我们可以只保留一行。如果倒着运算，dp[j]\n",
    "用到的是dp[j-weights[i-1]]，这个还没有被更新，是之前i-1时候算的值。所以\n",
    "\n"
   ],
   "metadata": {
    "collapsed": false,
    "pycharm": {
     "name": "#%% md\n"
    }
   }
  },
  {
   "cell_type": "code",
   "execution_count": 17,
   "outputs": [],
   "source": [
    "def knapsack01_compress(values, weights, capacity):\n",
    "    n = len(values)\n",
    "    dp = [0 for _ in range(capacity+1)]\n",
    "    for i in range(n+1):\n",
    "        for j in range(capacity, weights[i-1]-1, -1):\n",
    "            dp[j] = max(dp[j], dp[j-weights[i-1]] + values[i-1])\n",
    "    return dp[capacity]"
   ],
   "metadata": {
    "collapsed": false,
    "pycharm": {
     "name": "#%%\n"
    }
   }
  },
  {
   "cell_type": "code",
   "execution_count": 18,
   "outputs": [
    {
     "name": "stdout",
     "output_type": "stream",
     "text": [
      "200\n"
     ]
    }
   ],
   "source": [
    "print(knapsack01_compress([40, 100, 50, 60],  [20, 10, 40, 30], 60))"
   ],
   "metadata": {
    "collapsed": false,
    "pycharm": {
     "name": "#%%\n"
    }
   }
  },
  {
   "cell_type": "code",
   "execution_count": null,
   "outputs": [],
   "source": [],
   "metadata": {
    "collapsed": false,
    "pycharm": {
     "name": "#%%\n"
    }
   }
  }
 ],
 "metadata": {
  "kernelspec": {
   "name": "pycharm-96410332",
   "language": "python",
   "display_name": "PyCharm (leetcode)"
  },
  "language_info": {
   "codemirror_mode": {
    "name": "ipython",
    "version": 2
   },
   "file_extension": ".py",
   "mimetype": "text/x-python",
   "name": "python",
   "nbconvert_exporter": "python",
   "pygments_lexer": "ipython2",
   "version": "2.7.6"
  }
 },
 "nbformat": 4,
 "nbformat_minor": 0
}