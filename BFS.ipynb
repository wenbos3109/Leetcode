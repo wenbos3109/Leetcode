{
 "cells": [
  {
   "cell_type": "markdown",
   "metadata": {
    "collapsed": true,
    "pycharm": {
     "name": "#%% md\n"
    }
   },
   "source": [
    "### 103. Binary Tree Zigzag Level Order Traversal"
   ]
  },
  {
   "cell_type": "code",
   "execution_count": null,
   "outputs": [],
   "source": [
    "# Definition for a binary tree node.\n",
    "# class TreeNode:\n",
    "#     def __init__(self, val=0, left=None, right=None):\n",
    "#         self.val = val\n",
    "#         self.left = left\n",
    "#         self.right = right\n",
    "\n",
    "from collections import deque\n",
    "\n",
    "\n",
    "class Solution:\n",
    "    def zigzagLevelOrder(self, root: TreeNode) -> List[List[int]]:\n",
    "        if not root: return []\n",
    "        q = deque([(root, 0)])\n",
    "        level_list = deque()\n",
    "        res = []\n",
    "        while q:\n",
    "            root, level = q.popleft()\n",
    "            if level == len(res) + 1:\n",
    "                # finished one level\n",
    "                res.append(level_list)\n",
    "                level_list = deque()\n",
    "            if level % 2 == 0:\n",
    "                # from left to right\n",
    "                level_list.append(root.val)\n",
    "            else:\n",
    "                # from right to left\n",
    "                level_list.appendleft(root.val)\n",
    "            if root.left:\n",
    "                q.append((root.left, level+1))\n",
    "            if root.right:\n",
    "                q.append((root.right, level+1))\n",
    "        res.append(level_list)\n",
    "        return res\n",
    "\n",
    "\n"
   ],
   "metadata": {
    "collapsed": false,
    "pycharm": {
     "name": "#%%\n"
    }
   }
  }
 ],
 "metadata": {
  "kernelspec": {
   "display_name": "Python 3",
   "language": "python",
   "name": "python3"
  },
  "language_info": {
   "codemirror_mode": {
    "name": "ipython",
    "version": 2
   },
   "file_extension": ".py",
   "mimetype": "text/x-python",
   "name": "python",
   "nbconvert_exporter": "python",
   "pygments_lexer": "ipython2",
   "version": "2.7.6"
  }
 },
 "nbformat": 4,
 "nbformat_minor": 0
}