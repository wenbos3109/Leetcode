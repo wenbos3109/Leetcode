{
 "cells": [
  {
   "cell_type": "code",
   "metadata": {
    "collapsed": true,
    "pycharm": {
     "name": "#%%\n"
    }
   },
   "source": [],
   "execution_count": 0,
   "outputs": []
  },
  {
   "cell_type": "markdown",
   "source": [
    "### 55. Jump Game\n",
    "\n",
    "Given an array of non-negative integers nums, you are initially positioned at the first index of the array.\n",
    "\n",
    "Each element in the array represents your maximum jump length at that position.\n",
    "\n",
    "Determine if you are able to reach the last index.\n",
    "\n"
   ],
   "metadata": {
    "collapsed": false,
    "pycharm": {
     "name": "#%% md\n",
     "is_executing": true
    }
   }
  },
  {
   "cell_type": "code",
   "execution_count": 1,
   "outputs": [
    {
     "ename": "NameError",
     "evalue": "name 'List' is not defined",
     "output_type": "error",
     "traceback": [
      "\u001B[0;31m---------------------------------------------------------------------------\u001B[0m",
      "\u001B[0;31mNameError\u001B[0m                                 Traceback (most recent call last)",
      "\u001B[0;32m<ipython-input-1-ce7a68c2ff06>\u001B[0m in \u001B[0;36m<module>\u001B[0;34m\u001B[0m\n\u001B[0;32m----> 1\u001B[0;31m \u001B[0;32mclass\u001B[0m \u001B[0mSolution\u001B[0m\u001B[0;34m:\u001B[0m\u001B[0;34m\u001B[0m\u001B[0;34m\u001B[0m\u001B[0m\n\u001B[0m\u001B[1;32m      2\u001B[0m \u001B[0;34m\u001B[0m\u001B[0m\n\u001B[1;32m      3\u001B[0m     \u001B[0;32mdef\u001B[0m \u001B[0mcanJump\u001B[0m\u001B[0;34m(\u001B[0m\u001B[0mself\u001B[0m\u001B[0;34m,\u001B[0m \u001B[0mnums\u001B[0m\u001B[0;34m:\u001B[0m \u001B[0mList\u001B[0m\u001B[0;34m[\u001B[0m\u001B[0mint\u001B[0m\u001B[0;34m]\u001B[0m\u001B[0;34m)\u001B[0m \u001B[0;34m->\u001B[0m \u001B[0mbool\u001B[0m\u001B[0;34m:\u001B[0m\u001B[0;34m\u001B[0m\u001B[0;34m\u001B[0m\u001B[0m\n\u001B[1;32m      4\u001B[0m         \u001B[0mn\u001B[0m \u001B[0;34m=\u001B[0m \u001B[0mlen\u001B[0m\u001B[0;34m(\u001B[0m\u001B[0mnums\u001B[0m\u001B[0;34m)\u001B[0m\u001B[0;34m\u001B[0m\u001B[0;34m\u001B[0m\u001B[0m\n\u001B[1;32m      5\u001B[0m         \u001B[0mdp\u001B[0m \u001B[0;34m=\u001B[0m \u001B[0;34m[\u001B[0m\u001B[0;36m0\u001B[0m\u001B[0;34m]\u001B[0m \u001B[0;34m*\u001B[0m \u001B[0mn\u001B[0m\u001B[0;34m\u001B[0m\u001B[0;34m\u001B[0m\u001B[0m\n",
      "\u001B[0;32m<ipython-input-1-ce7a68c2ff06>\u001B[0m in \u001B[0;36mSolution\u001B[0;34m()\u001B[0m\n\u001B[1;32m      1\u001B[0m \u001B[0;32mclass\u001B[0m \u001B[0mSolution\u001B[0m\u001B[0;34m:\u001B[0m\u001B[0;34m\u001B[0m\u001B[0;34m\u001B[0m\u001B[0m\n\u001B[1;32m      2\u001B[0m \u001B[0;34m\u001B[0m\u001B[0m\n\u001B[0;32m----> 3\u001B[0;31m     \u001B[0;32mdef\u001B[0m \u001B[0mcanJump\u001B[0m\u001B[0;34m(\u001B[0m\u001B[0mself\u001B[0m\u001B[0;34m,\u001B[0m \u001B[0mnums\u001B[0m\u001B[0;34m:\u001B[0m \u001B[0mList\u001B[0m\u001B[0;34m[\u001B[0m\u001B[0mint\u001B[0m\u001B[0;34m]\u001B[0m\u001B[0;34m)\u001B[0m \u001B[0;34m->\u001B[0m \u001B[0mbool\u001B[0m\u001B[0;34m:\u001B[0m\u001B[0;34m\u001B[0m\u001B[0;34m\u001B[0m\u001B[0m\n\u001B[0m\u001B[1;32m      4\u001B[0m         \u001B[0mn\u001B[0m \u001B[0;34m=\u001B[0m \u001B[0mlen\u001B[0m\u001B[0;34m(\u001B[0m\u001B[0mnums\u001B[0m\u001B[0;34m)\u001B[0m\u001B[0;34m\u001B[0m\u001B[0;34m\u001B[0m\u001B[0m\n\u001B[1;32m      5\u001B[0m         \u001B[0mdp\u001B[0m \u001B[0;34m=\u001B[0m \u001B[0;34m[\u001B[0m\u001B[0;36m0\u001B[0m\u001B[0;34m]\u001B[0m \u001B[0;34m*\u001B[0m \u001B[0mn\u001B[0m\u001B[0;34m\u001B[0m\u001B[0;34m\u001B[0m\u001B[0m\n",
      "\u001B[0;31mNameError\u001B[0m: name 'List' is not defined"
     ]
    }
   ],
   "source": [
    "class Solution:\n",
    "\n",
    "    def canJump(self, nums: List[int]) -> bool:\n",
    "        n = len(nums)\n",
    "        dp = [0] * n\n",
    "        dp[0] = nums[0]\n",
    "        for i in range(1, n):\n",
    "            if i > dp[i-1]:\n",
    "                return False\n",
    "            dp[i] = max(dp[i-1], nums[i] + i)\n",
    "        return True\n",
    "\n",
    "    def canJump(self, nums: List[int]) -> bool:\n",
    "        n = len(nums)\n",
    "        max_pos = nums[0]\n",
    "        for i in range(1, n):\n",
    "            if i > max_pos:\n",
    "                return False\n",
    "            max_pos = max(max_pos, i + nums[i])\n",
    "        return True"
   ],
   "metadata": {
    "collapsed": false,
    "pycharm": {
     "name": "#%%\n"
    }
   }
  },
  {
   "cell_type": "code",
   "execution_count": null,
   "outputs": [],
   "source": [],
   "metadata": {
    "collapsed": false,
    "pycharm": {
     "name": "#%%\n"
    }
   }
  },
  {
   "cell_type": "code",
   "execution_count": 9,
   "outputs": [],
   "source": [
    "\"\"\"\n",
    "超时了\n",
    "\"\"\"\n",
    "class Solution:\n",
    "    def jump(self, nums) -> int:\n",
    "        n = len(nums)\n",
    "        dp = [float('inf')] * n\n",
    "        dp[0] = 0\n",
    "        # dp[i]\n",
    "        for i in range(1, n):\n",
    "            for j in range(i):\n",
    "                # j不用每次都重头算\n",
    "                if j + nums[j] >= i:\n",
    "                    dp[i] = min(dp[i], dp[j]+1)\n",
    "        return dp[n-1]"
   ],
   "metadata": {
    "collapsed": false,
    "pycharm": {
     "name": "#%%\n"
    }
   }
  },
  {
   "cell_type": "code",
   "execution_count": 10,
   "outputs": [
    {
     "name": "stdout",
     "output_type": "stream",
     "text": [
      "[0, 1, 2, 3, 4, 5, 6, 7, 8, 8, 8, 8, 8]\n"
     ]
    },
    {
     "data": {
      "text/plain": "8"
     },
     "execution_count": 10,
     "metadata": {},
     "output_type": "execute_result"
    }
   ],
   "source": [
    "nums = [1,1,1,1,1,1,1,60,1,1,1,1,1]\n",
    "Solution().jump(nums)"
   ],
   "metadata": {
    "collapsed": false,
    "pycharm": {
     "name": "#%%\n"
    }
   }
  },
  {
   "cell_type": "markdown",
   "source": [
    "注意，一个观察，如果$a<b$, 则$dp[a]\\leq dp[b]$。可以用反证法，\n",
    "如果用更少的步骤可以到达更远，则不需要更多步骤。所以对于i，其实我们需要\n",
    "最小的j，满足从j可以至少跳到i。从另一方面来说，每当碰到一个更远的pos，\n",
    "我们一定多花了一步"
   ],
   "metadata": {
    "collapsed": false,
    "pycharm": {
     "name": "#%% md\n"
    }
   }
  },
  {
   "cell_type": "code",
   "execution_count": 29,
   "outputs": [
    {
     "name": "stdout",
     "output_type": "stream",
     "text": [
      "0 7\n",
      "1 7\n",
      "2 11\n",
      "3 11\n",
      "4 13\n",
      "5 13\n",
      "6 13\n",
      "4\n"
     ]
    }
   ],
   "source": [
    "nums = [7,0,9,6,9,6,1,7,9,0,1,2,9,0,3]\n",
    "print(Solution().jump(nums))"
   ],
   "metadata": {
    "collapsed": false,
    "pycharm": {
     "name": "#%%\n"
    }
   }
  },
  {
   "cell_type": "code",
   "execution_count": 15,
   "outputs": [],
   "source": [
    "def jump(self, nums: List[int]) -> int:\n",
    "    \"\"\"\n",
    "    贪心：\n",
    "    如果对于i-1来说，他选择了j作为起跳点，那对于i来说，就不可能选择j之前的\n",
    "    起跳点。所以j只增不减。\n",
    "    \"\"\"\n",
    "    n = len(nums)\n",
    "    dp = [float('inf')] * n\n",
    "    dp[0] = 0\n",
    "    j = 0\n",
    "    for i in range(1, n):\n",
    "        while nums[j] + j < i:\n",
    "            j += 1\n",
    "        dp[i] = dp[j] + 1\n",
    "    return dp[n-1]"
   ],
   "metadata": {
    "collapsed": false,
    "pycharm": {
     "name": "#%%\n"
    }
   }
  },
  {
   "cell_type": "markdown",
   "source": [
    "### BFS?\n",
    "从一个点出发，可以抵达的点"
   ],
   "metadata": {
    "collapsed": false,
    "pycharm": {
     "name": "#%% md\n"
    }
   }
  },
  {
   "cell_type": "code",
   "execution_count": 3,
   "outputs": [],
   "source": [
    "  def jump(self, nums: List[int]) -> int:\n",
    "        \"\"\"\n",
    "        BFS:\n",
    "            1. 记录i步所能到达的最远距离\n",
    "            2. 队列里push两个东西，下标，以及所需要的步数\n",
    "            3. 保持d-1步所能到达的最远距离\n",
    "        \"\"\"\n",
    "        queue = [(0, 0)]\n",
    "        max_pos = 0\n",
    "        n = len(nums)\n",
    "        if n < 2: return 0\n",
    "        while queue:\n",
    "            i, step = queue.pop()\n",
    "            furthest = max_pos\n",
    "            while i <= max_pos:\n",
    "                furthest = max(furthest, i + nums[i])\n",
    "                i += 1\n",
    "                if furthest >= n-1:\n",
    "                    return step + 1\n",
    "            max_pos = furthest\n",
    "            queue.append((i, step+1))"
   ],
   "metadata": {
    "collapsed": false,
    "pycharm": {
     "name": "#%%\n"
    }
   }
  },
  {
   "cell_type": "code",
   "execution_count": 4,
   "outputs": [
    {
     "name": "stdout",
     "output_type": "stream",
     "text": [
      "0 2\n"
     ]
    },
    {
     "data": {
      "text/plain": "1"
     },
     "execution_count": 4,
     "metadata": {},
     "output_type": "execute_result"
    }
   ],
   "source": [
    "nums = [2,3,1,1,4]\n",
    "Solution().jump(nums)\n"
   ],
   "metadata": {
    "collapsed": false,
    "pycharm": {
     "name": "#%%\n"
    }
   }
  },
  {
   "cell_type": "code",
   "execution_count": 45,
   "outputs": [],
   "source": [
    "\"\"\"\n",
    "总结来看，我们并不需要一个queue，因为每次只加入一个元素\n",
    "\"\"\"\n",
    "\n",
    "    def jump(self, nums: List[int]) -> int:\n",
    "        \"\"\"\n",
    "        BFS:\n",
    "            1. 记录i步所能到达的最远距离\n",
    "            2. 队列里push两个东西，下标，以及所需要的步数\n",
    "            3. 保持d-1步所能到达的最远距离\n",
    "        \"\"\"\n",
    "        n = len(nums)\n",
    "        if n < 2: return 0\n",
    "        max_pos = step = i = 0\n",
    "        while i <= max_pos:\n",
    "            furthest = max_pos\n",
    "            while i <= max_pos:\n",
    "                furthest = max(furthest, i + nums[i])\n",
    "                i += 1\n",
    "                if furthest >= n-1:\n",
    "                    return step + 1\n",
    "            max_pos = furthest\n",
    "            step += 1"
   ],
   "metadata": {
    "collapsed": false,
    "pycharm": {
     "name": "#%%\n"
    }
   }
  },
  {
   "cell_type": "code",
   "execution_count": 46,
   "outputs": [
    {
     "data": {
      "text/plain": "2"
     },
     "execution_count": 46,
     "metadata": {},
     "output_type": "execute_result"
    }
   ],
   "source": [
    "nums = [2,3,1,1,4]\n",
    "\n",
    "Solution().jump(nums)"
   ],
   "metadata": {
    "collapsed": false,
    "pycharm": {
     "name": "#%%\n"
    }
   }
  },
  {
   "cell_type": "markdown",
   "source": [
    "#### 贪心，每次都往最远跳\n"
   ],
   "metadata": {
    "collapsed": false,
    "pycharm": {
     "name": "#%% md\n"
    }
   }
  },
  {
   "cell_type": "code",
   "execution_count": 40,
   "outputs": [],
   "source": [
    "class Solution:\n",
    "    def jump(self, nums) -> int:\n",
    "        n = len(nums)\n",
    "        start, end, step = 0, 0, 0\n",
    "        while end < n-1:\n",
    "            step += 1\n",
    "            max_end = end + 1\n",
    "            for i in range(start, end+1):\n",
    "                if i + nums[i] >= n-1:\n",
    "                    return step\n",
    "                max_end = max(end, i + nums[i])\n",
    "            start, end = end + 1, max_end\n",
    "        return step"
   ],
   "metadata": {
    "collapsed": false,
    "pycharm": {
     "name": "#%%\n"
    }
   }
  },
  {
   "cell_type": "code",
   "execution_count": 41,
   "outputs": [
    {
     "name": "stdout",
     "output_type": "stream",
     "text": [
      "2\n"
     ]
    }
   ],
   "source": [
    "nums = [7,0,9,6,9,6,1,7,9,0,1,2,9,0,3]\n",
    "print(Solution().jump(nums))\n"
   ],
   "metadata": {
    "collapsed": false,
    "pycharm": {
     "name": "#%%\n"
    }
   }
  },
  {
   "cell_type": "code",
   "execution_count": null,
   "outputs": [],
   "source": [],
   "metadata": {
    "collapsed": false,
    "pycharm": {
     "name": "#%%\n"
    }
   }
  }
 ],
 "metadata": {
  "kernelspec": {
   "display_name": "Python 3",
   "language": "python",
   "name": "python3"
  },
  "language_info": {
   "codemirror_mode": {
    "name": "ipython",
    "version": 2
   },
   "file_extension": ".py",
   "mimetype": "text/x-python",
   "name": "python",
   "nbconvert_exporter": "python",
   "pygments_lexer": "ipython2",
   "version": "2.7.6"
  }
 },
 "nbformat": 4,
 "nbformat_minor": 0
}