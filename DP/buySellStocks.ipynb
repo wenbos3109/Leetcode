{
 "cells": [
  {
   "cell_type": "code",
   "execution_count": null,
   "outputs": [],
   "source": [
    "class List:\n",
    "    pass"
   ],
   "metadata": {
    "collapsed": false,
    "pycharm": {
     "name": "#%%\n"
    }
   }
  },
  {
   "cell_type": "markdown",
   "metadata": {
    "collapsed": true,
    "pycharm": {
     "name": "#%% md\n"
    }
   },
   "source": [
    "### 121.  Best Time to Buy and Sell Stock\n",
    "\n",
    "只允许买卖一次。\n",
    "\n",
    "#### 穷举法，查看任何一段区间，超时了"
   ]
  },
  {
   "cell_type": "code",
   "execution_count": null,
   "outputs": [],
   "source": [
    "def maxProfit(self, prices) -> int:\n",
    "    # 超时了\n",
    "    ans = 0\n",
    "    n = len(prices)\n",
    "    profit = [0] * n\n",
    "    for i in range(1, n):\n",
    "        profit[i] += profit[i-1] + prices[i] - prices[i-1]\n",
    "    for i in range(n):\n",
    "        for j in range(i+1, n):\n",
    "            ans = max(ans, profit[j]-profit[i])\n",
    "    return ans"
   ],
   "metadata": {
    "collapsed": false,
    "pycharm": {
     "name": "#%%\n"
    }
   }
  },
  {
   "cell_type": "markdown",
   "source": [
    "#### 动态规划：令dp[i]表示第i天卖出时的最大收益，\n",
    "则dp[i] = max(0, dp[i-1]+prices[i]-prices[i-1]])。因为如果最大收益小于0，\n",
    "就不该包含这次交易。"
   ],
   "metadata": {
    "collapsed": false,
    "pycharm": {
     "name": "#%% md\n"
    }
   }
  },
  {
   "cell_type": "code",
   "execution_count": null,
   "outputs": [],
   "source": [
    "def maxProfit(self, prices: List[int]) -> int:\n",
    "    if not prices: return 0\n",
    "    n = len(prices)\n",
    "    dp = [0] * n\n",
    "    for i in range(1, n):\n",
    "        dp[i] = max(0, dp[i-1] + prices[i] - prices[i-1])\n",
    "    return max(dp)\n",
    "\n",
    "# 节省空间\n",
    "def maxProfit(self, prices: List[int]) -> int:\n",
    "    cur, ans = 0, 0\n",
    "    for i in range(1, len(prices)):\n",
    "        cur = max(0, cur + prices[i] - prices[i-1])\n",
    "        ans = max(ans, cur)\n",
    "    return ans"
   ],
   "metadata": {
    "collapsed": false,
    "pycharm": {
     "name": "#%%\n"
    }
   }
  },
  {
   "cell_type": "markdown",
   "source": [
    "#### 记录最低点\n",
    "一直更新当前值和最低点的差值"
   ],
   "metadata": {
    "collapsed": false,
    "pycharm": {
     "name": "#%% md\n",
     "is_executing": true
    }
   }
  },
  {
   "cell_type": "code",
   "source": [
    "def maxProfit(self, prices: List[int]) -> int:\n",
    "    min_price, max_profit = float('inf'), 0\n",
    "    for i in range(len(prices)):\n",
    "        min_price = min(min_price, prices[i])\n",
    "        profit = prices[i] - min_price\n",
    "        max_profit = max(max_profit, profit)\n",
    "    return max_profit"
   ],
   "metadata": {
    "collapsed": false,
    "pycharm": {
     "name": "#%%\n"
    }
   },
   "execution_count": null,
   "outputs": []
  },
  {
   "cell_type": "markdown",
   "source": [
    "#### 更加广泛的动态规划\n",
    "\n",
    "    1. dp[i][k][0]表示第i天时，还有k次操作，当前没有股票的最大利润\n",
    "    2. 以此类推"
   ],
   "metadata": {
    "collapsed": false
   }
  },
  {
   "cell_type": "code",
   "execution_count": null,
   "outputs": [],
   "source": [
    "def maxProfit(self, prices: List[int]) -> int:\n",
    "    if not prices: return 0\n",
    "    n = len(prices)\n",
    "    dp = [[0 for _ in range(2)] for _ in range(n)]\n",
    "    \"\"\"\n",
    "        dp[i][0] 第i天，手上没有股票的最大利润\n",
    "        dp[i][1] 第i天，手上有股票的最大利润\n",
    "    \"\"\"\n",
    "    dp[0][1] = -prices[0]\n",
    "    for i in range(1, n):\n",
    "        # 今天也没股票，两种可能，昨天没有，今天没买；或者昨天有，今天卖了\n",
    "        dp[i][0] = max(dp[i-1][0], dp[i-1][1] + prices[i])\n",
    "        # 今天有股票，两种可能，昨天没有，今天买的，或者昨天有，今天没动。\n",
    "        dp[i][1] = max(dp[i-1][1], -prices[i])\n",
    "    # 返回第n天没有股票时的最大利润。\n",
    "    return dp[n-1][0]\n",
    "\n",
    "\n",
    "\n",
    "def maxProfit(self, prices: List[int]) -> int:\n",
    "    if not prices: return 0\n",
    "    n = len(prices)\n",
    "    pre_yes, pre_no = -prices[0], 0\n",
    "    for i in range(1, n):\n",
    "        no = max(pre_no, pre_yes + prices[i])\n",
    "        yes = max(pre_yes, -prices[i])\n",
    "        pre_yes, pre_no = yes, no\n",
    "    return pre_no"
   ],
   "metadata": {
    "collapsed": false,
    "pycharm": {
     "name": "#%%\n"
    }
   }
  },
  {
   "cell_type": "markdown",
   "source": [
    "### 122. Best Time to Buy and Sell Stock II\n",
    "可以购买无数次"
   ],
   "metadata": {
    "collapsed": false,
    "pycharm": {
     "name": "#%% md\n"
    }
   }
  },
  {
   "cell_type": "code",
   "execution_count": null,
   "outputs": [],
   "source": [
    "class Solution:\n",
    "    def maxProfit(self, prices: List[int]) -> int:\n",
    "        if not prices: return 0\n",
    "        n = len(prices)\n",
    "        dp = [[0, 0] for _ in range(n)]\n",
    "        dp[0][1] = -prices[0]\n",
    "        for i in range(1, n):\n",
    "            \"\"\"\n",
    "            对于第i天，两种可能：有或者没有股票\n",
    "                1. 有股票，则\n",
    "                    1. 第i-1天有股票还没卖\n",
    "                    2. 第i-1天没股票，今天买了\n",
    "                2. 没股票，则\n",
    "                    1. 第i-1天也没有\n",
    "                    2. 第i-1有，今天卖了\n",
    "\n",
    "                -prices[i]可以理解为花这么多钱买股票\n",
    "            \"\"\"\n",
    "            dp[i][0] = max(dp[i-1][0], dp[i-1][1] + prices[i])\n",
    "            dp[i][1] = max(dp[i-1][1], dp[i-1][0] - prices[i])\n",
    "        return dp[n-1][0]"
   ],
   "metadata": {
    "collapsed": false,
    "pycharm": {
     "name": "#%%\n"
    }
   }
  },
  {
   "cell_type": "code",
   "execution_count": null,
   "outputs": [],
   "source": [
    "# 这是第二种简单的办法，把所有上升区间全部找到\n",
    "def maxProfit(self, prices: List[int]) -> int:\n",
    "    if not prices: return 0\n",
    "    n = len(prices)\n",
    "    \"\"\"\n",
    "    不断累加差值，一旦差值小于0，就把之前那个区间加到最终结果里\n",
    "    \"\"\"\n",
    "    ans = 0\n",
    "    for i in range(1, n):\n",
    "        ans += max(0, prices[i] - prices[i-1])\n",
    "    return ans"
   ],
   "metadata": {
    "collapsed": false,
    "pycharm": {
     "name": "#%%\n"
    }
   }
  },
  {
   "cell_type": "markdown",
   "source": [
    "### 309. Best Time to Buy and Sell Stock with Cooldown\n",
    "\n",
    "卖了以后，隔一天才能买"
   ],
   "metadata": {
    "collapsed": false,
    "pycharm": {
     "name": "#%% md\n"
    }
   }
  },
  {
   "cell_type": "code",
   "execution_count": 18,
   "outputs": [
    {
     "ename": "TypeError",
     "evalue": "'type' object is not subscriptable",
     "output_type": "error",
     "traceback": [
      "\u001B[0;31m---------------------------------------------------------------------------\u001B[0m",
      "\u001B[0;31mTypeError\u001B[0m                                 Traceback (most recent call last)",
      "\u001B[0;32m<ipython-input-18-b69948f193a0>\u001B[0m in \u001B[0;36m<module>\u001B[0;34m\u001B[0m\n\u001B[0;32m----> 1\u001B[0;31m \u001B[0;32mdef\u001B[0m \u001B[0mmaxProfit\u001B[0m\u001B[0;34m(\u001B[0m\u001B[0mself\u001B[0m\u001B[0;34m,\u001B[0m \u001B[0mprices\u001B[0m\u001B[0;34m:\u001B[0m \u001B[0mList\u001B[0m\u001B[0;34m[\u001B[0m\u001B[0mint\u001B[0m\u001B[0;34m]\u001B[0m\u001B[0;34m)\u001B[0m \u001B[0;34m->\u001B[0m \u001B[0mint\u001B[0m\u001B[0;34m:\u001B[0m\u001B[0;34m\u001B[0m\u001B[0;34m\u001B[0m\u001B[0m\n\u001B[0m\u001B[1;32m      2\u001B[0m     \u001B[0mn\u001B[0m \u001B[0;34m=\u001B[0m \u001B[0mlen\u001B[0m\u001B[0;34m(\u001B[0m\u001B[0mprices\u001B[0m\u001B[0;34m)\u001B[0m\u001B[0;34m\u001B[0m\u001B[0;34m\u001B[0m\u001B[0m\n\u001B[1;32m      3\u001B[0m     \u001B[0;32mif\u001B[0m \u001B[0mn\u001B[0m \u001B[0;34m<=\u001B[0m \u001B[0;36m1\u001B[0m\u001B[0;34m:\u001B[0m \u001B[0;32mreturn\u001B[0m \u001B[0;36m0\u001B[0m\u001B[0;34m\u001B[0m\u001B[0;34m\u001B[0m\u001B[0m\n\u001B[1;32m      4\u001B[0m     \u001B[0mdp\u001B[0m \u001B[0;34m=\u001B[0m \u001B[0;34m[\u001B[0m\u001B[0;34m[\u001B[0m\u001B[0;36m0\u001B[0m\u001B[0;34m,\u001B[0m \u001B[0;36m0\u001B[0m\u001B[0;34m]\u001B[0m \u001B[0;32mfor\u001B[0m \u001B[0m_\u001B[0m \u001B[0;32min\u001B[0m \u001B[0mrange\u001B[0m\u001B[0;34m(\u001B[0m\u001B[0mn\u001B[0m\u001B[0;34m)\u001B[0m\u001B[0;34m]\u001B[0m\u001B[0;34m\u001B[0m\u001B[0;34m\u001B[0m\u001B[0m\n\u001B[1;32m      5\u001B[0m     \u001B[0mdp\u001B[0m\u001B[0;34m[\u001B[0m\u001B[0;36m0\u001B[0m\u001B[0;34m]\u001B[0m\u001B[0;34m[\u001B[0m\u001B[0;36m1\u001B[0m\u001B[0;34m]\u001B[0m \u001B[0;34m=\u001B[0m \u001B[0;34m-\u001B[0m\u001B[0mprices\u001B[0m\u001B[0;34m[\u001B[0m\u001B[0;36m0\u001B[0m\u001B[0;34m]\u001B[0m\u001B[0;34m\u001B[0m\u001B[0;34m\u001B[0m\u001B[0m\n",
      "\u001B[0;31mTypeError\u001B[0m: 'type' object is not subscriptable"
     ]
    }
   ],
   "source": [
    "def maxProfit(self, prices: List[int]) -> int:\n",
    "    n = len(prices)\n",
    "    if n <= 1: return 0\n",
    "    dp = [[0, 0] for _ in range(n)]\n",
    "    dp[0][1] = -prices[0]\n",
    "    dp[1][0] = max(0, prices[1]-prices[0])\n",
    "    dp[1][1] = -min(prices[0], prices[1])\n",
    "    for i in range(2, n):\n",
    "        \"\"\"\n",
    "        对于第i天，两种可能：有或者没有股票\n",
    "            1. 有股票，则\n",
    "                1. 第i-1天有股票还没卖\n",
    "                2. 注意：第i-2天没股票，今天买了\n",
    "            2. 没股票，则\n",
    "                1. 第i-1天也没有\n",
    "                2. 第i-1有，今天卖了\n",
    "\n",
    "            -prices[i]可以理解为花这么多钱买股票\n",
    "        \"\"\"\n",
    "        dp[i][0] = max(dp[i-1][0], dp[i-1][1] + prices[i])\n",
    "        dp[i][1] = max(dp[i-1][1], dp[i-2][0] - prices[i])\n",
    "    return dp[n-1][0]\n",
    "\n",
    "class Solution:\n",
    "\n",
    "    def maxProfit(self, prices: List[int]) -> int:\n",
    "        n = len(prices)\n",
    "        if n <= 1: return 0\n",
    "        pre2 = (0, -prices[0])\n",
    "        pre1 = (max(0, prices[1]-prices[0]), -min(prices[0], prices[1]))\n",
    "        for i in range(2, n):\n",
    "            cur0 = max(pre1[0], pre1[1] + prices[i])\n",
    "            cur1 = max(pre1[1], pre2[0] - prices[i])\n",
    "            pre2 = pre1\n",
    "            pre1 = (cur0, cur1)\n",
    "        return pre1[0]\n"
   ],
   "metadata": {
    "collapsed": false,
    "pycharm": {
     "name": "#%%\n"
    }
   }
  },
  {
   "cell_type": "code",
   "execution_count": 18,
   "outputs": [],
   "source": [],
   "metadata": {
    "collapsed": false,
    "pycharm": {
     "name": "#%%\n"
    }
   }
  },
  {
   "cell_type": "code",
   "execution_count": 19,
   "outputs": [
    {
     "ename": "TypeError",
     "evalue": "'type' object is not subscriptable",
     "output_type": "error",
     "traceback": [
      "\u001B[0;31m---------------------------------------------------------------------------\u001B[0m",
      "\u001B[0;31mTypeError\u001B[0m                                 Traceback (most recent call last)",
      "\u001B[0;32m<ipython-input-19-0defe8df8272>\u001B[0m in \u001B[0;36m<module>\u001B[0;34m\u001B[0m\n\u001B[1;32m      1\u001B[0m \u001B[0;31m# 把费用减掉就行\u001B[0m\u001B[0;34m\u001B[0m\u001B[0;34m\u001B[0m\u001B[0;34m\u001B[0m\u001B[0m\n\u001B[0;32m----> 2\u001B[0;31m \u001B[0;32mclass\u001B[0m \u001B[0mSolution\u001B[0m\u001B[0;34m:\u001B[0m\u001B[0;34m\u001B[0m\u001B[0;34m\u001B[0m\u001B[0m\n\u001B[0m\u001B[1;32m      3\u001B[0m     \u001B[0;32mdef\u001B[0m \u001B[0mmaxProfit\u001B[0m\u001B[0;34m(\u001B[0m\u001B[0mself\u001B[0m\u001B[0;34m,\u001B[0m \u001B[0mprices\u001B[0m\u001B[0;34m:\u001B[0m \u001B[0mList\u001B[0m\u001B[0;34m[\u001B[0m\u001B[0mint\u001B[0m\u001B[0;34m]\u001B[0m\u001B[0;34m,\u001B[0m \u001B[0mfee\u001B[0m\u001B[0;34m:\u001B[0m \u001B[0mint\u001B[0m\u001B[0;34m)\u001B[0m \u001B[0;34m->\u001B[0m \u001B[0mint\u001B[0m\u001B[0;34m:\u001B[0m\u001B[0;34m\u001B[0m\u001B[0;34m\u001B[0m\u001B[0m\n\u001B[1;32m      4\u001B[0m         \u001B[0;32mif\u001B[0m \u001B[0;32mnot\u001B[0m \u001B[0mprices\u001B[0m\u001B[0;34m:\u001B[0m \u001B[0;32mreturn\u001B[0m \u001B[0;36m0\u001B[0m\u001B[0;34m\u001B[0m\u001B[0;34m\u001B[0m\u001B[0m\n\u001B[1;32m      5\u001B[0m         \u001B[0mn\u001B[0m \u001B[0;34m=\u001B[0m \u001B[0mlen\u001B[0m\u001B[0;34m(\u001B[0m\u001B[0mprices\u001B[0m\u001B[0;34m)\u001B[0m\u001B[0;34m\u001B[0m\u001B[0;34m\u001B[0m\u001B[0m\n",
      "\u001B[0;32m<ipython-input-19-0defe8df8272>\u001B[0m in \u001B[0;36mSolution\u001B[0;34m()\u001B[0m\n\u001B[1;32m      1\u001B[0m \u001B[0;31m# 把费用减掉就行\u001B[0m\u001B[0;34m\u001B[0m\u001B[0;34m\u001B[0m\u001B[0;34m\u001B[0m\u001B[0m\n\u001B[1;32m      2\u001B[0m \u001B[0;32mclass\u001B[0m \u001B[0mSolution\u001B[0m\u001B[0;34m:\u001B[0m\u001B[0;34m\u001B[0m\u001B[0;34m\u001B[0m\u001B[0m\n\u001B[0;32m----> 3\u001B[0;31m     \u001B[0;32mdef\u001B[0m \u001B[0mmaxProfit\u001B[0m\u001B[0;34m(\u001B[0m\u001B[0mself\u001B[0m\u001B[0;34m,\u001B[0m \u001B[0mprices\u001B[0m\u001B[0;34m:\u001B[0m \u001B[0mList\u001B[0m\u001B[0;34m[\u001B[0m\u001B[0mint\u001B[0m\u001B[0;34m]\u001B[0m\u001B[0;34m,\u001B[0m \u001B[0mfee\u001B[0m\u001B[0;34m:\u001B[0m \u001B[0mint\u001B[0m\u001B[0;34m)\u001B[0m \u001B[0;34m->\u001B[0m \u001B[0mint\u001B[0m\u001B[0;34m:\u001B[0m\u001B[0;34m\u001B[0m\u001B[0;34m\u001B[0m\u001B[0m\n\u001B[0m\u001B[1;32m      4\u001B[0m         \u001B[0;32mif\u001B[0m \u001B[0;32mnot\u001B[0m \u001B[0mprices\u001B[0m\u001B[0;34m:\u001B[0m \u001B[0;32mreturn\u001B[0m \u001B[0;36m0\u001B[0m\u001B[0;34m\u001B[0m\u001B[0;34m\u001B[0m\u001B[0m\n\u001B[1;32m      5\u001B[0m         \u001B[0mn\u001B[0m \u001B[0;34m=\u001B[0m \u001B[0mlen\u001B[0m\u001B[0;34m(\u001B[0m\u001B[0mprices\u001B[0m\u001B[0;34m)\u001B[0m\u001B[0;34m\u001B[0m\u001B[0;34m\u001B[0m\u001B[0m\n",
      "\u001B[0;31mTypeError\u001B[0m: 'type' object is not subscriptable"
     ]
    }
   ],
   "source": [
    "# 把费用减掉就行\n",
    "class Solution:\n",
    "    def maxProfit(self, prices: List[int], fee: int) -> int:\n",
    "        if not prices: return 0\n",
    "        n = len(prices)\n",
    "        dp = [[0, 0] for _ in range(n)]\n",
    "        dp[0][1] = -prices[0]-fee\n",
    "        for i in range(1, n):\n",
    "            \"\"\"\n",
    "            对于第i天，两种可能：有或者没有股票\n",
    "                1. 有股票，则\n",
    "                    1. 第i-1天有股票还没卖\n",
    "                    2. 第i-1天没股票，今天买了\n",
    "                2. 没股票，则\n",
    "                    1. 第i-1天也没有\n",
    "                    2. 第i-1有，今天卖了\n",
    "\n",
    "                -prices[i]可以理解为花这么多钱买股票\n",
    "            \"\"\"\n",
    "            dp[i][0] = max(dp[i-1][0], dp[i-1][1] + prices[i])\n",
    "            dp[i][1] = max(dp[i-1][1], dp[i-1][0] - prices[i] - fee)\n",
    "        return dp[n-1][0]\n",
    "\n"
   ],
   "metadata": {
    "collapsed": false,
    "pycharm": {
     "name": "#%%\n"
    }
   }
  },
  {
   "cell_type": "markdown",
   "source": [
    "### 任意k\n",
    "\n",
    "试试看\n"
   ],
   "metadata": {
    "collapsed": false,
    "pycharm": {
     "name": "#%% md\n"
    }
   }
  },
  {
   "cell_type": "code",
   "execution_count": null,
   "outputs": [],
   "source": [
    "class Solution:\n",
    "    def maxProfit(self, k: int, prices: List[int]) -> int:\n",
    "        if not prices: return 0\n",
    "        n = len(prices)\n",
    "        if k >= n // 2: return self.quickSolve(prices)\n",
    "        dp = [[[0 for _ in range(2)] for _ in range(k+1)] for _ in range(n)]\n",
    "        for i in range(1, k+1):\n",
    "            dp[0][i][1] = -prices[0]\n",
    "        for i in range(1, n):\n",
    "            for j in range(1, k+1):\n",
    "                dp[i][j][0] = max(dp[i-1][j][0], dp[i-1][j][1] + prices[i])\n",
    "                dp[i][j][1] = max(dp[i-1][j][1], dp[i-1][j-1][0] - prices[i])\n",
    "        return dp[n-1][k][0]\n",
    "\n",
    "    def quickSolve(self, prices: List[int]) -> int:\n",
    "        if not prices: return 0\n",
    "        n = len(prices)\n",
    "        \"\"\"\n",
    "        不断累加差值，一旦差值小于0，就把之前那个区间加到最终结果里\n",
    "        \"\"\"\n",
    "        ans = 0\n",
    "        for i in range(1, n):\n",
    "            ans += max(0, prices[i] - prices[i-1])\n",
    "        return ans"
   ],
   "metadata": {
    "collapsed": false,
    "pycharm": {
     "name": "#%%\n"
    }
   }
  }
 ],
 "metadata": {
  "kernelspec": {
   "display_name": "Python 3",
   "language": "python",
   "name": "python3"
  },
  "language_info": {
   "codemirror_mode": {
    "name": "ipython",
    "version": 2
   },
   "file_extension": ".py",
   "mimetype": "text/x-python",
   "name": "python",
   "nbconvert_exporter": "python",
   "pygments_lexer": "ipython2",
   "version": "2.7.6"
  }
 },
 "nbformat": 4,
 "nbformat_minor": 0
}