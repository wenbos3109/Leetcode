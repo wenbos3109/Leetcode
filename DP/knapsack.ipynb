{
 "cells": [
  {
   "cell_type": "markdown",
   "source": [
    "### 还有子集问题，多维数组初始化问题。"
   ],
   "metadata": {
    "collapsed": false,
    "pycharm": {
     "name": "#%% md\n"
    }
   }
  },
  {
   "cell_type": "markdown",
   "metadata": {
    "collapsed": true,
    "pycharm": {
     "name": "#%% md\n"
    }
   },
   "source": [
    "\n",
    "\n",
    "## 1. 0-1背包问题\n",
    "\n",
    "给你一个可装载重量为 W 的背包和 N 个物品，每个物品有重量和价值两个属性。\n",
    "其中第 i 个物品的重量为 wt[i]，价值为 val[i]，现在让你用这个背包装物品，\n",
    "最多能装的价值是多少？"
   ]
  },
  {
   "cell_type": "raw",
   "source": [
    "Input: val[] = {60, 100, 120};\n",
    "        wt[] = {10, 20, 30};\n",
    "        W = 50;\n",
    "Output: 220 //maximum value that can be obtained\n",
    "         30 20 //weights 20 and 30 are included.\n",
    "\n",
    "Input: val[] = {40, 100, 50, 60};\n",
    "        wt[] = {20, 10, 40, 30};\n",
    "        W = 60;\n",
    "Output: 200\n",
    "         30 20 10"
   ],
   "metadata": {
    "collapsed": false,
    "pycharm": {
     "name": "#%% raw\n"
    }
   }
  },
  {
   "cell_type": "markdown",
   "source": [
    "状态转移方程为：\n",
    "\n",
    "$$F[i, v]=\\max \\left\\{F[i-1, v], F\\left[i-1, v-C_{i}\\right]+W_{i}\\right\\}$$\n",
    "\n",
    "取决于你第i个物品拿不拿。"
   ],
   "metadata": {
    "collapsed": false
   }
  },
  {
   "cell_type": "code",
   "execution_count": 9,
   "outputs": [],
   "source": [
    "\n",
    "def knapsack01(values, weights, capacity):\n",
    "    n = len(values)\n",
    "    dp = [[0 for _ in range(capacity+1)] for _ in range(n+1)]\n",
    "    for i in range(1, n+1):\n",
    "        for j in range(capacity+1):\n",
    "            dp[i][j] = dp[i-1][j]\n",
    "            if j >= weights[i-1]:\n",
    "                dp[i][j] = max(dp[i][j], dp[i-1][j-weights[i-1]] + values[i-1])\n",
    "\n",
    "    # print\n",
    "    val = dp[n][capacity]\n",
    "    res = capacity\n",
    "    for i in range(n, 0, -1):\n",
    "        if val != dp[i-1][res]:\n",
    "            print(weights[i-1], values[i-1])\n",
    "            val -= values[i-1]\n",
    "            res -= weights[i-1]\n",
    "    return dp[n][capacity]"
   ],
   "metadata": {
    "collapsed": false,
    "pycharm": {
     "name": "#%%\n"
    }
   }
  },
  {
   "cell_type": "code",
   "execution_count": 10,
   "outputs": [
    {
     "name": "stdout",
     "output_type": "stream",
     "text": [
      "3 6\n",
      "1 10\n",
      "2 4\n",
      "20\n"
     ]
    }
   ],
   "source": [
    "val = knapsack01([4, 10, 5, 6],  [2, 1, 4, 3], 6)\n",
    "print(val)"
   ],
   "metadata": {
    "collapsed": false,
    "pycharm": {
     "name": "#%%\n"
    }
   }
  },
  {
   "cell_type": "markdown",
   "source": [
    "因为dp[i][j]只用到了dp[i-1]相关的东西，我们可以只保留一行。如果倒着运算，dp[j]\n",
    "用到的是dp[j-weights[i-1]]，这个还没有被更新，是之前i-1时候算的值。所以\n",
    "\n"
   ],
   "metadata": {
    "collapsed": false,
    "pycharm": {
     "name": "#%% md\n"
    }
   }
  },
  {
   "cell_type": "code",
   "execution_count": 11,
   "outputs": [],
   "source": [
    "def knapsack01_compress(values, weights, capacity):\n",
    "    n = len(values)\n",
    "    # 带上备忘录，知道哪个物品被装了\n",
    "    dp = [0 for _ in range(capacity+1)]\n",
    "    memo = [[] for _ in range(capacity+1)]\n",
    "    for i in range(1, n+1):\n",
    "        for j in range(capacity, weights[i-1]-1, -1):\n",
    "            dp[j] = max(dp[j], dp[j-weights[i-1]] + values[i-1])\n",
    "    return dp[capacity]"
   ],
   "metadata": {
    "collapsed": false,
    "pycharm": {
     "name": "#%%\n"
    }
   }
  },
  {
   "cell_type": "code",
   "execution_count": 97,
   "outputs": [
    {
     "name": "stdout",
     "output_type": "stream",
     "text": [
      "20\n"
     ]
    }
   ],
   "source": [
    "val = knapsack01_compress([4, 10, 5, 6],  [2, 1, 4, 3], 7)\n",
    "print(val)"
   ],
   "metadata": {
    "collapsed": false,
    "pycharm": {
     "name": "#%%\n"
    }
   }
  },
  {
   "cell_type": "markdown",
   "source": [
    "然而，不管是滚动数组还是一维数组，在压缩空间的同时，其带来的缺点也很明显，那就是无法通过\n",
    "回溯的方式将所有的最优解求出。若要通过回溯方式求出最优解，那必须对所有的历史状态都进行保留。\n",
    "而压缩存储空间的同时也压缩了问题的解空间，滚动数组的解空间最多仅能容纳2个物品的解，\n",
    "而一维数组的解空间最多只能容纳1个。\n",
    "\n",
    "\n",
    "\n",
    "注意，以上题目要求的是不超过背包容量，而不是恰好装满背包。如果要求恰好装满背包，\n",
    "那初始化就不一样了。"
   ],
   "metadata": {
    "collapsed": false,
    "pycharm": {
     "name": "#%% md\n"
    }
   }
  },
  {
   "cell_type": "code",
   "execution_count": 12,
   "outputs": [],
   "source": [
    "def knapsack01_full_capacity(values, weights, capacity):\n",
    "    n = len(values)\n",
    "    MIN = float('-inf')\n",
    "    dp = [[MIN for _ in range(capacity+1)] for _ in range(n+1)]\n",
    "    dp[0][0] = 0\n",
    "    for i in range(1, n+1):\n",
    "        for j in range(capacity+1):\n",
    "            dp[i][j] = dp[i-1][j]\n",
    "            \"\"\"\n",
    "            In python, MIN == MIN + anything.\n",
    "            \"\"\"\n",
    "            if j >= weights[i-1]:\n",
    "                dp[i][j] = max(dp[i][j], dp[i-1][j-weights[i-1]] + values[i-1])\n",
    "    return dp[n][capacity]"
   ],
   "metadata": {
    "collapsed": false,
    "pycharm": {
     "name": "#%%\n"
    }
   }
  },
  {
   "cell_type": "code",
   "execution_count": 15,
   "outputs": [
    {
     "name": "stdout",
     "output_type": "stream",
     "text": [
      "-inf\n"
     ]
    }
   ],
   "source": [
    "val = knapsack01_full_capacity([4, 10, 5, 6],  [2, 1, 4, 3], 11)\n",
    "print(val)\n",
    "\n"
   ],
   "metadata": {
    "collapsed": false,
    "pycharm": {
     "name": "#%%\n"
    }
   }
  },
  {
   "cell_type": "markdown",
   "source": [
    "## 1. 完全背包问题\n",
    "\n",
    "\n",
    "有 $N$ 种物品和一个容量为 $V$ 的背包，每种物品都有无限件可用。放入第 i 种物品 的费用是 $C_i$，\n",
    "价值是 $W_i$。求解:将哪些物品装入背包，可使这些物品的耗费的费用总 和不超过背包容量，且价值总和最大。\n",
    "\n",
    "状态转移方程为：\n",
    "\n",
    "$$F[i, v]=\\max \\left\\{F\\left[i-1, v-kC_{i}\\right]+kW_{i}\\right|0\\leq kC_i\\leq v\\}$$\n",
    "\n",
    "取决于你第i个物品拿几个。"
   ],
   "metadata": {
    "collapsed": false,
    "pycharm": {
     "name": "#%% md\n"
    }
   }
  },
  {
   "cell_type": "code",
   "execution_count": 130,
   "outputs": [],
   "source": [
    "def knapsack_full(values, weights, capacity):\n",
    "    n = len(values)\n",
    "    dp = [[0 for _ in range(capacity+1)] for _ in range(n+1)]\n",
    "    for i in range(1, n+1):\n",
    "        for j in range(capacity+1):\n",
    "            for k in range(0, j//weights[i-1]+1):\n",
    "                dp[i][j] = max(dp[i][j], dp[i-1][j-k*weights[i-1]] + k*values[i-1])\n",
    "    return dp[n][capacity]"
   ],
   "metadata": {
    "collapsed": false,
    "pycharm": {
     "name": "#%%\n"
    }
   }
  },
  {
   "cell_type": "code",
   "execution_count": 131,
   "outputs": [
    {
     "name": "stdout",
     "output_type": "stream",
     "text": [
      "80\n"
     ]
    }
   ],
   "source": [
    "print(knapsack_full([4, 10, 5, 6],  [2, 1, 4, 3], 8))"
   ],
   "metadata": {
    "collapsed": false,
    "pycharm": {
     "name": "#%%\n"
    }
   }
  },
  {
   "cell_type": "markdown",
   "source": [
    "发现一个问题\n",
    "\n",
    "\n",
    "\\begin{align}\n",
    "F[i, v-C_i] &=\\max \\left\\{F\\left[i-1, (v-C_i) -tC_i\\right]+tW_{i}\\right|0\\leq tC_i\\leq v-C_i\\}\\\\\n",
    "F[i, v] &= \\max \\left\\{F\\left[i-1, v-kC_{i}\\right]+kW_{i}\\right|0\\leq kC_i\\leq v\\}\\\\\n",
    "        &=\\max \\left\\{F\\left[i-1, v\\right], F\\left[i-1, v-kC_{i}\\right]+kW_{i}\\right|C_i\\leq kC_i\\leq v\\}\\\\\n",
    "        &=\\max \\left\\{F\\left[i-1, v\\right], F\\left[i-1, v-(t+1)C_{i}\\right]+kW_{i}\\right|C_i\\leq (t+1)C_i\\leq v\\}\\\\\n",
    "      &=\\max \\left\\{F\\left[i-1, v\\right], F[i, v-C_i] \\right\\}\\\\\n",
    "\\end{align}"
   ],
   "metadata": {
    "collapsed": false,
    "pycharm": {
     "name": "#%% md\n"
    }
   }
  },
  {
   "cell_type": "code",
   "execution_count": 16,
   "outputs": [],
   "source": [
    "def knapsack_full_speedup(values, weights, capacity):\n",
    "    n = len(values)\n",
    "    dp = [[0 for _ in range(capacity+1)] for _ in range(n+1)]\n",
    "    for i in range(1, n+1):\n",
    "        for j in range(capacity+1):\n",
    "            dp[i][j] = dp[i-1][j]\n",
    "            if j >= weights[i-1]:\n",
    "                dp[i][j] = max(dp[i][j], dp[i][j-weights[i-1]] + values[i-1])\n",
    "\n",
    "    # print\n",
    "\n",
    "    val = dp[n][capacity]\n",
    "    res = capacity\n",
    "    for i in range(n, 0, -1):\n",
    "        k = 0\n",
    "        while val != dp[i-1][res]:\n",
    "            val -= values[i-1]\n",
    "            res -= weights[i-1]\n",
    "            k += 1\n",
    "        print(weights[i-1], k)\n",
    "    return dp[n][capacity]"
   ],
   "metadata": {
    "collapsed": false,
    "pycharm": {
     "name": "#%%\n"
    }
   }
  },
  {
   "cell_type": "code",
   "execution_count": 17,
   "outputs": [
    {
     "name": "stdout",
     "output_type": "stream",
     "text": [
      "3 0\n",
      "4 0\n",
      "1 8\n",
      "2 0\n",
      "80\n"
     ]
    }
   ],
   "source": [
    "print(knapsack_full_speedup([4, 10, 5, 6],  [2, 1, 4, 3], 8))\n",
    "\n"
   ],
   "metadata": {
    "collapsed": false,
    "pycharm": {
     "name": "#%%\n"
    }
   }
  },
  {
   "cell_type": "code",
   "execution_count": 138,
   "outputs": [],
   "source": [
    "def knapsack_full_optimize_memo(values, weights, capacity):\n",
    "    n = len(values)\n",
    "    dp = [0 for _ in range(capacity+1)]\n",
    "    for i in range(1, n+1):\n",
    "        for j in range(weights[i-1], capacity+1):\n",
    "            dp[j] = max(dp[j], dp[j-weights[i-1]]+values[i-1])\n",
    "    return dp[capacity]\n"
   ],
   "metadata": {
    "collapsed": false,
    "pycharm": {
     "name": "#%%\n"
    }
   }
  },
  {
   "cell_type": "code",
   "execution_count": 139,
   "outputs": [
    {
     "name": "stdout",
     "output_type": "stream",
     "text": [
      "80\n"
     ]
    }
   ],
   "source": [
    "print(knapsack_full_optimize_memo([4, 10, 5, 6],  [2, 1, 4, 3], 8))"
   ],
   "metadata": {
    "collapsed": false,
    "pycharm": {
     "name": "#%%\n"
    }
   }
  },
  {
   "cell_type": "markdown",
   "source": [
    "### 322. 换硬币\n",
    "You are given coins of different denominations and a total amount of money amount. Write a function to compute the fewest number of coins that you need to make up that amount. If that amount of money cannot be made up by any combination of the coins, return -1.\n",
    "\n",
    "You may assume that you have an infinite number of each kind of coin.\n",
    "\n",
    "Example 1:\n",
    "\n",
    "* Input: coins = [1,2,5], amount = 11\n",
    "* Output: 3\n",
    "* Explanation: 11 = 5 + 5 + 1"
   ],
   "metadata": {
    "collapsed": false,
    "pycharm": {
     "name": "#%% md\n"
    }
   }
  },
  {
   "cell_type": "code",
   "execution_count": 1,
   "outputs": [
    {
     "ename": "NameError",
     "evalue": "name 'List' is not defined",
     "output_type": "error",
     "traceback": [
      "\u001B[0;31m---------------------------------------------------------------------------\u001B[0m",
      "\u001B[0;31mNameError\u001B[0m                                 Traceback (most recent call last)",
      "\u001B[0;32m<ipython-input-1-b6b2529533e6>\u001B[0m in \u001B[0;36m<module>\u001B[0;34m\u001B[0m\n\u001B[0;32m----> 1\u001B[0;31m \u001B[0;32mclass\u001B[0m \u001B[0mSolution\u001B[0m\u001B[0;34m:\u001B[0m\u001B[0;34m\u001B[0m\u001B[0;34m\u001B[0m\u001B[0m\n\u001B[0m\u001B[1;32m      2\u001B[0m     \u001B[0;32mdef\u001B[0m \u001B[0mcoinChange\u001B[0m\u001B[0;34m(\u001B[0m\u001B[0mself\u001B[0m\u001B[0;34m,\u001B[0m \u001B[0mcoins\u001B[0m\u001B[0;34m:\u001B[0m \u001B[0mList\u001B[0m\u001B[0;34m[\u001B[0m\u001B[0mint\u001B[0m\u001B[0;34m]\u001B[0m\u001B[0;34m,\u001B[0m \u001B[0mamount\u001B[0m\u001B[0;34m:\u001B[0m \u001B[0mint\u001B[0m\u001B[0;34m)\u001B[0m \u001B[0;34m->\u001B[0m \u001B[0mint\u001B[0m\u001B[0;34m:\u001B[0m\u001B[0;34m\u001B[0m\u001B[0;34m\u001B[0m\u001B[0m\n\u001B[1;32m      3\u001B[0m         \u001B[0mMAX\u001B[0m \u001B[0;34m=\u001B[0m \u001B[0mfloat\u001B[0m\u001B[0;34m(\u001B[0m\u001B[0;34m'inf'\u001B[0m\u001B[0;34m)\u001B[0m\u001B[0;34m\u001B[0m\u001B[0;34m\u001B[0m\u001B[0m\n\u001B[1;32m      4\u001B[0m         \u001B[0mdp\u001B[0m \u001B[0;34m=\u001B[0m \u001B[0;34m[\u001B[0m\u001B[0mMAX\u001B[0m \u001B[0;32mfor\u001B[0m \u001B[0m_\u001B[0m \u001B[0;32min\u001B[0m \u001B[0mrange\u001B[0m\u001B[0;34m(\u001B[0m\u001B[0mamount\u001B[0m\u001B[0;34m+\u001B[0m\u001B[0;36m1\u001B[0m\u001B[0;34m)\u001B[0m\u001B[0;34m]\u001B[0m\u001B[0;34m\u001B[0m\u001B[0;34m\u001B[0m\u001B[0m\n\u001B[1;32m      5\u001B[0m         \u001B[0mdp\u001B[0m\u001B[0;34m[\u001B[0m\u001B[0;36m0\u001B[0m\u001B[0;34m]\u001B[0m \u001B[0;34m=\u001B[0m \u001B[0;36m0\u001B[0m\u001B[0;34m\u001B[0m\u001B[0;34m\u001B[0m\u001B[0m\n",
      "\u001B[0;32m<ipython-input-1-b6b2529533e6>\u001B[0m in \u001B[0;36mSolution\u001B[0;34m()\u001B[0m\n\u001B[1;32m      1\u001B[0m \u001B[0;32mclass\u001B[0m \u001B[0mSolution\u001B[0m\u001B[0;34m:\u001B[0m\u001B[0;34m\u001B[0m\u001B[0;34m\u001B[0m\u001B[0m\n\u001B[0;32m----> 2\u001B[0;31m     \u001B[0;32mdef\u001B[0m \u001B[0mcoinChange\u001B[0m\u001B[0;34m(\u001B[0m\u001B[0mself\u001B[0m\u001B[0;34m,\u001B[0m \u001B[0mcoins\u001B[0m\u001B[0;34m:\u001B[0m \u001B[0mList\u001B[0m\u001B[0;34m[\u001B[0m\u001B[0mint\u001B[0m\u001B[0;34m]\u001B[0m\u001B[0;34m,\u001B[0m \u001B[0mamount\u001B[0m\u001B[0;34m:\u001B[0m \u001B[0mint\u001B[0m\u001B[0;34m)\u001B[0m \u001B[0;34m->\u001B[0m \u001B[0mint\u001B[0m\u001B[0;34m:\u001B[0m\u001B[0;34m\u001B[0m\u001B[0;34m\u001B[0m\u001B[0m\n\u001B[0m\u001B[1;32m      3\u001B[0m         \u001B[0mMAX\u001B[0m \u001B[0;34m=\u001B[0m \u001B[0mfloat\u001B[0m\u001B[0;34m(\u001B[0m\u001B[0;34m'inf'\u001B[0m\u001B[0;34m)\u001B[0m\u001B[0;34m\u001B[0m\u001B[0;34m\u001B[0m\u001B[0m\n\u001B[1;32m      4\u001B[0m         \u001B[0mdp\u001B[0m \u001B[0;34m=\u001B[0m \u001B[0;34m[\u001B[0m\u001B[0mMAX\u001B[0m \u001B[0;32mfor\u001B[0m \u001B[0m_\u001B[0m \u001B[0;32min\u001B[0m \u001B[0mrange\u001B[0m\u001B[0;34m(\u001B[0m\u001B[0mamount\u001B[0m\u001B[0;34m+\u001B[0m\u001B[0;36m1\u001B[0m\u001B[0;34m)\u001B[0m\u001B[0;34m]\u001B[0m\u001B[0;34m\u001B[0m\u001B[0;34m\u001B[0m\u001B[0m\n\u001B[1;32m      5\u001B[0m         \u001B[0mdp\u001B[0m\u001B[0;34m[\u001B[0m\u001B[0;36m0\u001B[0m\u001B[0;34m]\u001B[0m \u001B[0;34m=\u001B[0m \u001B[0;36m0\u001B[0m\u001B[0;34m\u001B[0m\u001B[0;34m\u001B[0m\u001B[0m\n",
      "\u001B[0;31mNameError\u001B[0m: name 'List' is not defined"
     ]
    }
   ],
   "source": [
    "class Solution:\n",
    "    def coinChange(self, coins: List[int], amount: int) -> int:\n",
    "        MAX = float('inf')\n",
    "        dp = [MAX for _ in range(amount+1)]\n",
    "        dp[0] = 0\n",
    "        for coin in coins:\n",
    "            for j in range(coin, amount+1):\n",
    "                dp[j] = min(dp[j], dp[j-coin] + 1)\n",
    "        return dp[amount] if dp[amount] != MAX else -1"
   ],
   "metadata": {
    "collapsed": false,
    "pycharm": {
     "name": "#%%\n"
    }
   }
  },
  {
   "cell_type": "markdown",
   "source": [
    "### 416. Partition problem"
   ],
   "metadata": {
    "collapsed": false,
    "pycharm": {
     "name": "#%% md\n"
    }
   }
  },
  {
   "cell_type": "code",
   "execution_count": 1,
   "outputs": [
    {
     "ename": "NameError",
     "evalue": "name 'List' is not defined",
     "output_type": "error",
     "traceback": [
      "\u001B[0;31m---------------------------------------------------------------------------\u001B[0m",
      "\u001B[0;31mNameError\u001B[0m                                 Traceback (most recent call last)",
      "\u001B[0;32m<ipython-input-1-925a8a0c7067>\u001B[0m in \u001B[0;36m<module>\u001B[0;34m\u001B[0m\n\u001B[0;32m----> 1\u001B[0;31m \u001B[0;32mclass\u001B[0m \u001B[0mSolution\u001B[0m\u001B[0;34m:\u001B[0m\u001B[0;34m\u001B[0m\u001B[0;34m\u001B[0m\u001B[0m\n\u001B[0m\u001B[1;32m      2\u001B[0m \u001B[0;34m\u001B[0m\u001B[0m\n\u001B[1;32m      3\u001B[0m     \u001B[0;32mdef\u001B[0m \u001B[0mcanPartition\u001B[0m\u001B[0;34m(\u001B[0m\u001B[0mself\u001B[0m\u001B[0;34m,\u001B[0m \u001B[0mnums\u001B[0m\u001B[0;34m:\u001B[0m \u001B[0mList\u001B[0m\u001B[0;34m[\u001B[0m\u001B[0mint\u001B[0m\u001B[0;34m]\u001B[0m\u001B[0;34m)\u001B[0m \u001B[0;34m->\u001B[0m \u001B[0mbool\u001B[0m\u001B[0;34m:\u001B[0m\u001B[0;34m\u001B[0m\u001B[0;34m\u001B[0m\u001B[0m\n\u001B[1;32m      4\u001B[0m         \u001B[0;32mif\u001B[0m \u001B[0;32mnot\u001B[0m \u001B[0mnums\u001B[0m\u001B[0;34m:\u001B[0m \u001B[0;32mreturn\u001B[0m \u001B[0;32mTrue\u001B[0m\u001B[0;34m\u001B[0m\u001B[0;34m\u001B[0m\u001B[0m\n\u001B[1;32m      5\u001B[0m         \u001B[0mtarget\u001B[0m \u001B[0;34m=\u001B[0m \u001B[0msum\u001B[0m\u001B[0;34m(\u001B[0m\u001B[0mnums\u001B[0m\u001B[0;34m)\u001B[0m\u001B[0;34m\u001B[0m\u001B[0;34m\u001B[0m\u001B[0m\n",
      "\u001B[0;32m<ipython-input-1-925a8a0c7067>\u001B[0m in \u001B[0;36mSolution\u001B[0;34m()\u001B[0m\n\u001B[1;32m      1\u001B[0m \u001B[0;32mclass\u001B[0m \u001B[0mSolution\u001B[0m\u001B[0;34m:\u001B[0m\u001B[0;34m\u001B[0m\u001B[0;34m\u001B[0m\u001B[0m\n\u001B[1;32m      2\u001B[0m \u001B[0;34m\u001B[0m\u001B[0m\n\u001B[0;32m----> 3\u001B[0;31m     \u001B[0;32mdef\u001B[0m \u001B[0mcanPartition\u001B[0m\u001B[0;34m(\u001B[0m\u001B[0mself\u001B[0m\u001B[0;34m,\u001B[0m \u001B[0mnums\u001B[0m\u001B[0;34m:\u001B[0m \u001B[0mList\u001B[0m\u001B[0;34m[\u001B[0m\u001B[0mint\u001B[0m\u001B[0;34m]\u001B[0m\u001B[0;34m)\u001B[0m \u001B[0;34m->\u001B[0m \u001B[0mbool\u001B[0m\u001B[0;34m:\u001B[0m\u001B[0;34m\u001B[0m\u001B[0;34m\u001B[0m\u001B[0m\n\u001B[0m\u001B[1;32m      4\u001B[0m         \u001B[0;32mif\u001B[0m \u001B[0;32mnot\u001B[0m \u001B[0mnums\u001B[0m\u001B[0;34m:\u001B[0m \u001B[0;32mreturn\u001B[0m \u001B[0;32mTrue\u001B[0m\u001B[0;34m\u001B[0m\u001B[0;34m\u001B[0m\u001B[0m\n\u001B[1;32m      5\u001B[0m         \u001B[0mtarget\u001B[0m \u001B[0;34m=\u001B[0m \u001B[0msum\u001B[0m\u001B[0;34m(\u001B[0m\u001B[0mnums\u001B[0m\u001B[0;34m)\u001B[0m\u001B[0;34m\u001B[0m\u001B[0;34m\u001B[0m\u001B[0m\n",
      "\u001B[0;31mNameError\u001B[0m: name 'List' is not defined"
     ]
    }
   ],
   "source": [
    "class Solution:\n",
    "\n",
    "    def canPartition(self, nums: List[int]) -> bool:\n",
    "        if not nums: return True\n",
    "        target = sum(nums)\n",
    "        if target % 2 == 1: return False\n",
    "        target //= 2\n",
    "        dp = [False for _ in range(target+1)]\n",
    "        dp[0] = True\n",
    "        for n in nums:\n",
    "            for j in range(target, n-1, -1):\n",
    "                dp[j] = dp[j] or dp[j-n]\n",
    "        return dp[target]"
   ],
   "metadata": {
    "collapsed": false,
    "pycharm": {
     "name": "#%%\n"
    }
   }
  },
  {
   "cell_type": "code",
   "execution_count": null,
   "outputs": [],
   "source": [],
   "metadata": {
    "collapsed": false,
    "pycharm": {
     "name": "#%%\n"
    }
   }
  },
  {
   "cell_type": "markdown",
   "source": [
    "## 39. Combination Sum\n",
    "\n",
    "\n",
    "Given an array of distinct integers candidates and a target integer target, return a list of all unique combinations of candidates where the chosen numbers sum to target. You may return the combinations in any order.\n",
    "\n",
    "The same number may be chosen from candidates an unlimited number of times. Two combinations are unique if the frequency of at least one of the chosen numbers is different.\n",
    "\n",
    "It is guaranteed that the number of unique combinations that sum up to target is less than 150 combinations for the given input.\n"
   ],
   "metadata": {
    "collapsed": false,
    "pycharm": {
     "name": "#%% md\n"
    }
   }
  },
  {
   "cell_type": "code",
   "execution_count": 55,
   "outputs": [],
   "source": [
    "class Solution:\n",
    "    def combinationSum(self, candidates, target: int):\n",
    "        n = len(candidates)\n",
    "        dp = [[] for _ in range(target+1)]\n",
    "        dp[0] = [[]]\n",
    "        for i in range(1, n+1):\n",
    "            s = candidates[i-1]\n",
    "            for j in range(s, target+1):\n",
    "                dp[j] = dp[j] + [res + [s] for res in dp[j-s]]\n",
    "        return dp[target]"
   ],
   "metadata": {
    "collapsed": false,
    "pycharm": {
     "name": "#%%\n"
    }
   }
  },
  {
   "cell_type": "code",
   "execution_count": 56,
   "outputs": [
    {
     "data": {
      "text/plain": "[[2, 2, 3], [7]]"
     },
     "execution_count": 56,
     "metadata": {},
     "output_type": "execute_result"
    }
   ],
   "source": [
    "Solution().combinationSum(candidates = [2,3,6,7], target = 7)"
   ],
   "metadata": {
    "collapsed": false,
    "pycharm": {
     "name": "#%%\n"
    }
   }
  },
  {
   "cell_type": "code",
   "execution_count": 52,
   "outputs": [],
   "source": [],
   "metadata": {
    "collapsed": false,
    "pycharm": {
     "name": "#%%\n"
    }
   }
  },
  {
   "cell_type": "code",
   "execution_count": null,
   "outputs": [],
   "source": [],
   "metadata": {
    "collapsed": false,
    "pycharm": {
     "name": "#%%\n"
    }
   }
  }
 ],
 "metadata": {
  "kernelspec": {
   "name": "pycharm-96410332",
   "language": "python",
   "display_name": "PyCharm (leetcode)"
  },
  "language_info": {
   "codemirror_mode": {
    "name": "ipython",
    "version": 2
   },
   "file_extension": ".py",
   "mimetype": "text/x-python",
   "name": "python",
   "nbconvert_exporter": "python",
   "pygments_lexer": "ipython2",
   "version": "2.7.6"
  }
 },
 "nbformat": 4,
 "nbformat_minor": 0
}