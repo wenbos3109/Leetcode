{
 "cells": [
  {
   "cell_type": "code",
   "execution_count": 1,
   "outputs": [],
   "source": [
    "# Definition for a Node.\n",
    "class Node:\n",
    "    def __init__(self, val: int = 0, left: 'Node' = None, right: 'Node' = None, next: 'Node' = None):\n",
    "        self.val = val\n",
    "        self.left = left\n",
    "        self.right = right\n",
    "        self.next = next\n",
    "\n",
    "class TreeNode:\n",
    "    def __init__(self, val=0, left=None, right=None):\n",
    "        self.val = val\n",
    "        self.left = left\n",
    "        self.right = right"
   ],
   "metadata": {
    "collapsed": false,
    "pycharm": {
     "name": "#%%\n"
    }
   }
  },
  {
   "cell_type": "markdown",
   "source": [
    "# 1. 二叉树的非递归遍历\n",
    "不用递归该怎么做, [去这里看看](https://leetcode.com/problems/binary-tree-inorder-traversal/discuss/713539/Python-3-All-Iterative-Traversals-InOrder-PreOrder-PostOrder-Similar-Solutions)\n",
    "\n",
    "注意一下，看有没有办法用constant memory来解题 (Morris article)\n",
    "\n",
    "如果不用visit会怎么样？\n",
    "## 144. Binary Tree Preorder Traversal"
   ],
   "metadata": {
    "collapsed": false,
    "pycharm": {
     "name": "#%% md\n"
    }
   }
  },
  {
   "cell_type": "code",
   "execution_count": null,
   "outputs": [],
   "source": [
    "class Solution:\n",
    "    def preorderTraversal(self, root: TreeNode) -> List[int]:\n",
    "        res = []\n",
    "        stack = []\n",
    "        while root or stack:\n",
    "            # 有左子树，先访问左子树\n",
    "            while root:\n",
    "                res.append(root.val)\n",
    "                stack.append(root)\n",
    "                root = root.left\n",
    "            root = stack.pop()\n",
    "            root = root.right\n",
    "        return res\n",
    "\n",
    "# 这种做法更符合正常的思维，但是好像不能直接套用在inorder traversal上\n",
    "class Solution:\n",
    "    def preorderTraversal(self, root: TreeNode) -> List[int]:\n",
    "        res = []\n",
    "        stack = [root]\n",
    "        while stack:\n",
    "            root = stack.pop()\n",
    "            if not root:\n",
    "                continue\n",
    "            res.append(root.val)\n",
    "            stack.append(root.right)\n",
    "            stack.append(root.left)\n",
    "        return res\n",
    "\n",
    "# 这种更简单，可以套用模板, 如果不用visit会怎么样？\n",
    "class Solution:\n",
    "    def preorderTraversal(self, root: TreeNode) -> List[int]:\n",
    "        res = []\n",
    "        stack = [(root, False)]\n",
    "        while stack:\n",
    "            root, visited = stack.pop()\n",
    "            if not root:\n",
    "                continue\n",
    "            if visited:\n",
    "                res.append(root.val)\n",
    "            else:\n",
    "                stack.append((root.right, False))\n",
    "                stack.append((root.left, False))\n",
    "                stack.append((root, True))\n",
    "        return res"
   ],
   "metadata": {
    "collapsed": false,
    "pycharm": {
     "name": "#%%\n"
    }
   }
  },
  {
   "cell_type": "markdown",
   "source": [
    "## 94. Binary Tree Inorder Traversal"
   ],
   "metadata": {
    "collapsed": false
   }
  },
  {
   "cell_type": "code",
   "execution_count": null,
   "outputs": [],
   "source": [
    "class Solution:\n",
    "    def inorderTraversal(self, root: TreeNode) -> List[int]:\n",
    "        res = []\n",
    "        stack = []\n",
    "        while root or stack:\n",
    "            # 有左子树，先访问左子树\n",
    "            while root:\n",
    "                stack.append(root)\n",
    "                root = root.left\n",
    "            root = stack.pop()\n",
    "            res.append(root.val)\n",
    "            root = root.right\n",
    "        return res\n",
    "\n",
    "class Solution:\n",
    "    def inorderTraversal(self, root: TreeNode) -> List[int]:\n",
    "        res = []\n",
    "        stack = [(root, False)]\n",
    "        while stack:\n",
    "            root, visited = stack.pop()\n",
    "            if not root:\n",
    "                continue\n",
    "            if visited:\n",
    "                res.append(root.val)\n",
    "            else:\n",
    "                stack.append((root.right, False))\n",
    "                stack.append((root, True))\n",
    "                stack.append((root.left, False))\n",
    "        return res"
   ],
   "metadata": {
    "collapsed": false,
    "pycharm": {
     "name": "#%%\n"
    }
   }
  },
  {
   "cell_type": "markdown",
   "source": [
    "## 145. Binary Tree Postorder Traversal"
   ],
   "metadata": {
    "collapsed": false
   }
  },
  {
   "cell_type": "code",
   "execution_count": null,
   "outputs": [],
   "source": [
    "class Solution:\n",
    "    def postorderTraversal(self, root: TreeNode) -> List[int]:\n",
    "        res = []\n",
    "        stack = [(root, False)]\n",
    "        while stack:\n",
    "            root, visited = stack.pop()\n",
    "            if not root:\n",
    "                continue\n",
    "            if visited:\n",
    "                res.append(root.val)\n",
    "            else:\n",
    "                stack.append((root, True))\n",
    "                stack.append((root.right, False))\n",
    "                stack.append((root.left, False))\n",
    "        return res"
   ],
   "metadata": {
    "collapsed": false,
    "pycharm": {
     "name": "#%%\n"
    }
   }
  },
  {
   "cell_type": "markdown",
   "source": [
    " ## 102. Binary Tree Level Order Traversal\n",
    "Given a binary tree, return the level order\n",
    "traversal of its nodes' values. (ie, from left to right, level by level)."
   ],
   "metadata": {
    "collapsed": false,
    "pycharm": {
     "name": "#%% md\n"
    }
   }
  },
  {
   "cell_type": "code",
   "execution_count": 1,
   "outputs": [],
   "source": [
    "## BFS\n",
    "\n",
    "class Solution:\n",
    "    def levelOrder(self, root: TreeNode) -> List[List[int]]:\n",
    "        if not root: return []\n",
    "        queue = [(0, root)]\n",
    "        result = []\n",
    "        while queue:\n",
    "            d, root = queue.pop(0)\n",
    "            if d == len(result):\n",
    "                result.append([])\n",
    "            result[-1].append(root.val)\n",
    "            if root.left:\n",
    "                queue.append((d+1, root.left))\n",
    "            if root.right:\n",
    "                queue.append((d+1, root.right))\n",
    "        return result"
   ],
   "metadata": {
    "collapsed": false,
    "pycharm": {
     "name": "#%%\n"
    }
   }
  },
  {
   "cell_type": "code",
   "execution_count": null,
   "outputs": [],
   "source": [
    "class Solution:\n",
    "    def levelOrder(self, root: TreeNode) -> List[List[int]]:\n",
    "        def solve(root, d):\n",
    "            if not root: return\n",
    "            if d == len(self.res):\n",
    "                self.res.append([])\n",
    "            self.res[d].append(root.val)\n",
    "            solve(root.left, d+1)\n",
    "            solve(root.right, d+1)\n",
    "\n",
    "        self.res = []\n",
    "        solve(root, 0)\n",
    "        return self.res\n"
   ],
   "metadata": {
    "collapsed": false,
    "pycharm": {
     "name": "#%%\n"
    }
   }
  },
  {
   "cell_type": "markdown",
   "source": [
    "## 116. 填充二叉树的右侧指针\n",
    "\n",
    "You are given a perfect binary tree where all leaves are on the same level, and every parent has two\n",
    "children. The binary tree has the following definition. Populate each next pointer to point to its next\n",
    " right node. If there is no next right node, the next pointer should be set to NULL.\n",
    "\n",
    "Initially, all next pointers are set to NULL.\n",
    "\n",
    "Follow up:\n",
    "    1.  You may only use constant extra space.\n",
    "    2.  Recursive approach is fine, you may assume implicit stack space does not count as extra space for this problem.\n",
    "\n",
    "如果是递归解法该怎么做呢？注意这道题是完美二叉树，除了叶子每个节点都有俩孩子, 而且所有叶子深度一样。那就非常简单了"
   ],
   "metadata": {
    "collapsed": false,
    "pycharm": {
     "name": "#%% md\n"
    }
   }
  },
  {
   "cell_type": "code",
   "execution_count": null,
   "outputs": [],
   "source": [
    "class Solution:\n",
    "    # 递归做法\n",
    "    def connect(self, root: 'Node') -> 'Node':\n",
    "        if not root or not root.left:\n",
    "            return root\n",
    "        left = self.connect(root.left)\n",
    "        right = self.connect(root.right)\n",
    "        while left:\n",
    "            left.next = right\n",
    "            left = left.right\n",
    "            right = right.left\n",
    "        return root"
   ],
   "metadata": {
    "collapsed": false,
    "pycharm": {
     "name": "#%%\n"
    }
   }
  },
  {
   "cell_type": "markdown",
   "source": [
    "上面这种时间复杂度是$N$, 空间复杂度是$\\log N$（因为用了递归）。还可以尝试level order traversal, 保持一个queue，层级访问。"
   ],
   "metadata": {
    "collapsed": false,
    "pycharm": {
     "name": "#%% md\n"
    }
   }
  },
  {
   "cell_type": "code",
   "execution_count": null,
   "outputs": [],
   "source": [
    "class Solution:\n",
    "    def connect(self, root: 'Node') -> 'Node':\n",
    "        if not root: return root\n",
    "        queue = [(root, 0)]\n",
    "        pre_node, pre_level = None, -1\n",
    "        while queue:\n",
    "            node, level = queue.pop(0)\n",
    "            if level == pre_level:\n",
    "                pre_node.next = node\n",
    "            else:\n",
    "                pre_level += 1\n",
    "            pre_node = node\n",
    "            if node.left:\n",
    "                queue.append((node.left, level+1))\n",
    "            if node.right:\n",
    "                queue.append((node.right, level+1))\n",
    "        return root"
   ],
   "metadata": {
    "collapsed": false,
    "pycharm": {
     "name": "#%%\n"
    }
   }
  },
  {
   "cell_type": "markdown",
   "source": [
    "Complexity Analysis\n",
    "\n",
    "* Time Complexity: O(N) since we process each node exactly once. Note that processing a node\n",
    "    in this context means popping the node from the queue and then establishing the next pointers.\n",
    "* Space Complexity: O(N). This is a perfect binary tree which means the last level contains N/2 nodes.\n",
    "    The space complexity for breadth first traversal is the space occupied by the queue which is\n",
    "    dependent upon the maximum number of nodes in particular level. So, in this case, the space complexity would be\n",
    "     O(N).\n",
    "\n",
    "第三种做法呢，能不能只用一个pointer，既然我们已经建立了next，是不是可以靠这个访问下一个元素，而不需要通过queue。但是这有一个问题，\n",
    "就是next指针只能访问本层的节点，那如何跳转到下一层呢？一种思路是，记住本层最左边的元素，这样的话就可以通过这个访问下一层了。"
   ],
   "metadata": {
    "collapsed": false,
    "pycharm": {
     "name": "#%% md\n"
    }
   }
  },
  {
   "cell_type": "code",
   "execution_count": null,
   "outputs": [],
   "source": [
    "class Solution:\n",
    "    def connect(self, root: 'Node') -> 'Node':\n",
    "        node = leftmost = root\n",
    "        while node:\n",
    "            # 确定有下一层\n",
    "            if node.left:\n",
    "                node.left.next = node.right\n",
    "                if node.next:\n",
    "                    node.right.next = node.next.left\n",
    "            if node.next:\n",
    "                node = node.next\n",
    "            else:\n",
    "                node = leftmost.left\n",
    "                leftmost = node\n",
    "        return root"
   ],
   "metadata": {
    "collapsed": false,
    "pycharm": {
     "name": "#%%\n"
    }
   }
  },
  {
   "cell_type": "markdown",
   "source": [
    "确定有下一层的话可以直接在while循环判定leftmost.left == None.\n",
    "\n"
   ],
   "metadata": {
    "collapsed": false,
    "pycharm": {
     "name": "#%% md\n"
    }
   }
  },
  {
   "cell_type": "code",
   "execution_count": null,
   "outputs": [],
   "source": [
    "class Solution:\n",
    "    def connect(self, root: 'Node') -> 'Node':\n",
    "        if not root: return root\n",
    "        leftmost = root\n",
    "        while leftmost.left:\n",
    "            node = leftmost\n",
    "            while node and node.next:\n",
    "                node.left.next = node.right\n",
    "                node.right.next = node.next.left\n",
    "                node = node.next\n",
    "            # 不要忘了本层最后一个节点\n",
    "            node.left.next = node.right\n",
    "            leftmost = leftmost.left\n",
    "        return root\n",
    "\n",
    "# 这两个等价\n",
    "class Solution:\n",
    "    def connect(self, root: 'Node') -> 'Node':\n",
    "        if not root: return root\n",
    "        leftmost = root\n",
    "        while leftmost.left:\n",
    "            node = leftmost\n",
    "            while node:\n",
    "                node.left.next = node.right\n",
    "                if node.next:\n",
    "                    node.right.next = node.next.left\n",
    "                node = node.next\n",
    "            leftmost = leftmost.left\n",
    "        return root"
   ],
   "metadata": {
    "collapsed": false,
    "pycharm": {
     "name": "#%%\n"
    }
   }
  },
  {
   "cell_type": "markdown",
   "source": [
    "## 117. Populating Next Right Pointers in Each Node II\n",
    "Follow up:\n",
    "\n",
    "* You may only use constant extra space.\n",
    "* Recursive approach is fine, you may assume implicit stack space does not count as extra space for this problem.\n",
    "\n",
    "这次不保证是完全二叉树了，但是level order traversal一样可以，不影响。但是这次如何使用constant memory呢？\n"
   ],
   "metadata": {
    "collapsed": false,
    "pycharm": {
     "name": "#%% md\n"
    }
   }
  },
  {
   "cell_type": "code",
   "execution_count": null,
   "outputs": [],
   "source": [
    "# 这个是官方解法，应该也适用于N叉树的情况\n",
    "class Solution:\n",
    "    def process_child(self, child, pre, leftmost):\n",
    "        if child:\n",
    "            if pre:\n",
    "                pre.next = child\n",
    "            else:\n",
    "                leftmost = child\n",
    "            pre = child\n",
    "        return pre, leftmost\n",
    "\n",
    "    def connect(self, root: 'Node') -> 'Node':\n",
    "        if not root: return root\n",
    "        leftmost = root\n",
    "        while leftmost:\n",
    "            pre, cur = None, leftmost\n",
    "            leftmost = None\n",
    "            while cur:\n",
    "                pre, leftmost = self.process_child(cur.left, pre, leftmost)\n",
    "                pre, leftmost = self.process_child(cur.right, pre, leftmost)\n",
    "                cur = cur.next\n",
    "        return root"
   ],
   "metadata": {
    "collapsed": false,
    "pycharm": {
     "name": "#%%\n"
    }
   }
  },
  {
   "cell_type": "markdown",
   "source": [
    "## 114. Flatten Binary Tree to Linked List\n",
    "\n",
    "Given a binary tree, flatten it to a linked list in-place.\n"
   ],
   "metadata": {
    "collapsed": false,
    "pycharm": {
     "name": "#%% md\n"
    }
   }
  },
  {
   "cell_type": "code",
   "execution_count": null,
   "outputs": [],
   "source": [
    "class Solution:\n",
    "    def flatten(self, root: TreeNode) -> None:\n",
    "        \"\"\"\n",
    "        Do not return anything, modify root in-place instead.\n",
    "        \"\"\"\n",
    "        if not root: return\n",
    "        self.flatten(root.left)\n",
    "        self.flatten(root.right)\n",
    "        left = root.left\n",
    "        right = root.right\n",
    "        root.left = None\n",
    "        root.right = left\n",
    "        p = root\n",
    "        while p.right:\n",
    "            p = p.right\n",
    "        p.right = right"
   ],
   "metadata": {
    "collapsed": false,
    "pycharm": {
     "name": "#%%\n"
    }
   }
  },
  {
   "cell_type": "code",
   "source": [
    "# 稍微改写一下遍历顺序，就可以避免这个while loop\n",
    "class Solution:\n",
    "    def flatten(self, root: TreeNode) -> None:\n",
    "        \"\"\"\n",
    "        Do not return anything, modify root in-place instead.\n",
    "        \"\"\"\n",
    "        self.left_head = None\n",
    "        def helper(root):\n",
    "            if not root: return\n",
    "            helper(root.right)\n",
    "            helper(root.left)\n",
    "            root.right, self.left_head = self.left_head, root\n",
    "            root.left = None\n",
    "        helper(root)"
   ],
   "metadata": {
    "collapsed": false,
    "pycharm": {
     "name": "#%%\n"
    }
   },
   "execution_count": null,
   "outputs": []
  },
  {
   "cell_type": "markdown",
   "source": [
    "递归的方法很简单，用栈怎么做？\n",
    "\n"
   ],
   "metadata": {
    "collapsed": false,
    "pycharm": {
     "name": "#%% md\n"
    }
   }
  },
  {
   "cell_type": "code",
   "execution_count": null,
   "outputs": [],
   "source": [
    "# 这个还没搞清楚\n",
    "class Solution:\n",
    "    def flatten(self, root: TreeNode) -> None:\n",
    "        \"\"\"\n",
    "        Do not return anything, modify root in-place instead.\n",
    "        \"\"\"\n",
    "        if not root: return\n",
    "        stack = [root]\n",
    "        pre = None\n",
    "        while stack:\n",
    "            node = stack.pop()\n",
    "            if node.right:\n",
    "                stack.append(node.right)\n",
    "            if node.left:\n",
    "                stack.append(node.left)\n",
    "            if pre:\n",
    "                pre.right = node\n",
    "                pre.left = None\n",
    "                node.left = None\n",
    "            pre = node\n",
    "        return pre"
   ],
   "metadata": {
    "collapsed": false,
    "pycharm": {
     "name": "#%%\n"
    }
   }
  },
  {
   "cell_type": "markdown",
   "source": [
    "### 437. Path Sum III\n",
    "\n",
    "You are given a binary tree in which each node contains an integer value.\n",
    "\n",
    "Find the number of paths that sum to a given value.\n",
    "\n",
    "The path does not need to start or end at the root or a leaf, but it must go downwards (traveling only from parent nodes to child nodes).\n",
    "\n",
    "The tree has no more than 1,000 nodes and the values are in the range -1,000,000 to 1,000,000.\n"
   ],
   "metadata": {
    "collapsed": false,
    "pycharm": {
     "name": "#%% md\n"
    }
   }
  },
  {
   "cell_type": "code",
   "execution_count": 2,
   "outputs": [
    {
     "ename": "NameError",
     "evalue": "name 'TreeNode' is not defined",
     "output_type": "error",
     "traceback": [
      "\u001B[0;31m---------------------------------------------------------------------------\u001B[0m",
      "\u001B[0;31mNameError\u001B[0m                                 Traceback (most recent call last)",
      "\u001B[0;32m<ipython-input-2-10bfaad09ee4>\u001B[0m in \u001B[0;36m<module>\u001B[0;34m\u001B[0m\n\u001B[1;32m      2\u001B[0m \u001B[0m这个结果很差\u001B[0m\u001B[0;31m，\u001B[0m\u001B[0m最差要N平方\u001B[0m\u001B[0;31m，\u001B[0m\u001B[0m有大量的重复计算在\u001B[0m\u001B[0;34m\u001B[0m\u001B[0;34m\u001B[0m\u001B[0m\n\u001B[1;32m      3\u001B[0m \"\"\"\n\u001B[0;32m----> 4\u001B[0;31m \u001B[0;32mclass\u001B[0m \u001B[0mSolution\u001B[0m\u001B[0;34m:\u001B[0m\u001B[0;34m\u001B[0m\u001B[0;34m\u001B[0m\u001B[0m\n\u001B[0m\u001B[1;32m      5\u001B[0m     \u001B[0;32mdef\u001B[0m \u001B[0mpathSum\u001B[0m\u001B[0;34m(\u001B[0m\u001B[0mself\u001B[0m\u001B[0;34m,\u001B[0m \u001B[0mroot\u001B[0m\u001B[0;34m:\u001B[0m \u001B[0mTreeNode\u001B[0m\u001B[0;34m,\u001B[0m \u001B[0msum\u001B[0m\u001B[0;34m:\u001B[0m \u001B[0mint\u001B[0m\u001B[0;34m)\u001B[0m \u001B[0;34m->\u001B[0m \u001B[0mint\u001B[0m\u001B[0;34m:\u001B[0m\u001B[0;34m\u001B[0m\u001B[0;34m\u001B[0m\u001B[0m\n\u001B[1;32m      6\u001B[0m         \u001B[0;32mdef\u001B[0m \u001B[0mfind_paths\u001B[0m\u001B[0;34m(\u001B[0m\u001B[0mroot\u001B[0m\u001B[0;34m,\u001B[0m \u001B[0mtarget\u001B[0m\u001B[0;34m)\u001B[0m\u001B[0;34m:\u001B[0m\u001B[0;34m\u001B[0m\u001B[0;34m\u001B[0m\u001B[0m\n",
      "\u001B[0;32m<ipython-input-2-10bfaad09ee4>\u001B[0m in \u001B[0;36mSolution\u001B[0;34m()\u001B[0m\n\u001B[1;32m      3\u001B[0m \"\"\"\n\u001B[1;32m      4\u001B[0m \u001B[0;32mclass\u001B[0m \u001B[0mSolution\u001B[0m\u001B[0;34m:\u001B[0m\u001B[0;34m\u001B[0m\u001B[0;34m\u001B[0m\u001B[0m\n\u001B[0;32m----> 5\u001B[0;31m     \u001B[0;32mdef\u001B[0m \u001B[0mpathSum\u001B[0m\u001B[0;34m(\u001B[0m\u001B[0mself\u001B[0m\u001B[0;34m,\u001B[0m \u001B[0mroot\u001B[0m\u001B[0;34m:\u001B[0m \u001B[0mTreeNode\u001B[0m\u001B[0;34m,\u001B[0m \u001B[0msum\u001B[0m\u001B[0;34m:\u001B[0m \u001B[0mint\u001B[0m\u001B[0;34m)\u001B[0m \u001B[0;34m->\u001B[0m \u001B[0mint\u001B[0m\u001B[0;34m:\u001B[0m\u001B[0;34m\u001B[0m\u001B[0;34m\u001B[0m\u001B[0m\n\u001B[0m\u001B[1;32m      6\u001B[0m         \u001B[0;32mdef\u001B[0m \u001B[0mfind_paths\u001B[0m\u001B[0;34m(\u001B[0m\u001B[0mroot\u001B[0m\u001B[0;34m,\u001B[0m \u001B[0mtarget\u001B[0m\u001B[0;34m)\u001B[0m\u001B[0;34m:\u001B[0m\u001B[0;34m\u001B[0m\u001B[0;34m\u001B[0m\u001B[0m\n\u001B[1;32m      7\u001B[0m             \u001B[0;32mif\u001B[0m \u001B[0mroot\u001B[0m\u001B[0;34m:\u001B[0m\u001B[0;34m\u001B[0m\u001B[0;34m\u001B[0m\u001B[0m\n",
      "\u001B[0;31mNameError\u001B[0m: name 'TreeNode' is not defined"
     ]
    }
   ],
   "source": [
    "\"\"\"\n",
    "这个结果很差，最差要N平方，有大量的重复计算在\n",
    "\"\"\"\n",
    "class Solution:\n",
    "    def pathSum(self, root: TreeNode, sum: int) -> int:\n",
    "        def find_paths(root, target):\n",
    "            if root:\n",
    "                l = find_paths(root.left, target-root.val)\n",
    "                r = find_paths(root.right, target-root.val)\n",
    "                return (root.val == target) + l + r\n",
    "            return 0\n",
    "\n",
    "        if root:\n",
    "            return find_paths(root, sum) + self.pathSum(root.left, sum) + self.pathSum(root.right, sum)\n",
    "        return 0\n"
   ],
   "metadata": {
    "collapsed": false,
    "pycharm": {
     "name": "#%%\n"
    }
   }
  },
  {
   "cell_type": "code",
   "execution_count": null,
   "outputs": [],
   "source": [
    "\"\"\"\n",
    "记录下来每个值的路径数\n",
    "\"\"\"\n",
    "from collections import Counter\n",
    "class Solution:\n",
    "    def pathSum(self, root: TreeNode, sum: int) -> int:\n",
    "\n",
    "        def solve(root, cur_sum):\n",
    "            nonlocal count\n",
    "            if not root: return\n",
    "            cur_sum += root.val\n",
    "            count += int(cur_sum == sum) + counter[cur_sum-sum]\n",
    "            counter[cur_sum] += 1\n",
    "            solve(root.left, cur_sum)\n",
    "            solve(root.right, cur_sum)\n",
    "            counter[cur_sum] -= 1\n",
    "\n",
    "        count = 0\n",
    "        counter = Counter()\n",
    "        solve(root, 0)\n",
    "        return count"
   ],
   "metadata": {
    "collapsed": false,
    "pycharm": {
     "name": "#%%\n"
    }
   }
  }
 ],
 "metadata": {
  "kernelspec": {
   "display_name": "Python 3",
   "language": "python",
   "name": "python3"
  },
  "language_info": {
   "codemirror_mode": {
    "name": "ipython",
    "version": 2
   },
   "file_extension": ".py",
   "mimetype": "text/x-python",
   "name": "python",
   "nbconvert_exporter": "python",
   "pygments_lexer": "ipython2",
   "version": "2.7.6"
  }
 },
 "nbformat": 4,
 "nbformat_minor": 0
}