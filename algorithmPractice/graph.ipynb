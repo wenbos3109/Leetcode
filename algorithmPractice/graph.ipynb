{
 "cells": [
  {
   "cell_type": "code",
   "execution_count": 12,
   "metadata": {
    "collapsed": true
   },
   "outputs": [],
   "source": [
    "import networkx as nx\n",
    "from collections import deque\n",
    "from queue import PriorityQueue\n",
    "import random\n",
    "\n",
    "weight = 'weight'"
   ]
  },
  {
   "cell_type": "code",
   "execution_count": 17,
   "outputs": [],
   "source": [
    "def prims(g: nx.Graph):\n",
    "    n = len(g)\n",
    "    q = PriorityQueue()\n",
    "    q.put((0, 0, 0))\n",
    "    visited = [False] * n\n",
    "    mst = nx.Graph()\n",
    "    while q.qsize():\n",
    "        d, u, parent = q.get()\n",
    "        if visited[u]:\n",
    "            continue\n",
    "        if u != 0:\n",
    "            mst.add_edge(u, parent)\n",
    "            mst.edges[(u, parent)][weight] = d\n",
    "        visited[u] = True\n",
    "        for v in g.neighbors(u):\n",
    "            q.put((g.edges[(u, v)][weight], v, u))\n",
    "    return mst\n",
    "\n",
    "def check_prims(g, mst):\n",
    "    total_weight = lambda t: sum(nx.get_edge_attributes(t,weight).values())\n",
    "    t = nx.minimum_spanning_tree(g)\n",
    "    return total_weight(t) == total_weight(mst)\n"
   ],
   "metadata": {
    "collapsed": false,
    "pycharm": {
     "name": "#%%\n"
    }
   }
  },
  {
   "cell_type": "code",
   "execution_count": 18,
   "outputs": [],
   "source": [
    "def draw(g, pos):\n",
    "    labels = nx.get_edge_attributes(g, weight)\n",
    "    nx.draw(g, pos, with_labels=True)\n",
    "    nx.draw_networkx_edge_labels(g, pos, edge_labels=labels)"
   ],
   "metadata": {
    "collapsed": false,
    "pycharm": {
     "name": "#%%\n"
    }
   }
  },
  {
   "cell_type": "code",
   "execution_count": 19,
   "outputs": [],
   "source": [
    "g = nx.gnm_random_graph(10, 20)\n",
    "for u, v in g.edges:\n",
    "    g.edges[(u, v)][weight] = random.randint(1, 5)\n",
    "pos = nx.spring_layout(g)"
   ],
   "metadata": {
    "collapsed": false,
    "pycharm": {
     "name": "#%%\n"
    }
   }
  },
  {
   "cell_type": "code",
   "execution_count": 21,
   "outputs": [
    {
     "data": {
      "text/plain": "True"
     },
     "execution_count": 21,
     "metadata": {},
     "output_type": "execute_result"
    }
   ],
   "source": [
    "mst = prims(g)\n",
    "\n",
    "check_prims(g, mst)"
   ],
   "metadata": {
    "collapsed": false,
    "pycharm": {
     "name": "#%%\n"
    }
   }
  },
  {
   "cell_type": "code",
   "execution_count": null,
   "outputs": [],
   "source": [],
   "metadata": {
    "collapsed": false,
    "pycharm": {
     "name": "#%%\n"
    }
   }
  },
  {
   "cell_type": "code",
   "execution_count": 151,
   "outputs": [],
   "source": [
    "class UnionFind:\n",
    "\n",
    "    def __init__(self, n):\n",
    "        self.count = 0\n",
    "        self.parent = {i: i for i in range(n)}\n",
    "        self.size = {i: 1 for i in range(n)}\n",
    "\n",
    "    def find(self, p):\n",
    "        while self.parent[p] != p:\n",
    "            self.parent[p] = self.parent[self.parent[p]]\n",
    "            p = self.parent[p]\n",
    "        return p\n",
    "\n",
    "    def connected(self, p, q):\n",
    "        return self.find(p) == self.find(q)\n",
    "\n",
    "    def union(self, p, q):\n",
    "        rp = self.find(p)\n",
    "        rq = self.find(q)\n",
    "        rp, rq = (rp, rq) if self.size[rp] < self.size[rq] else (rq, rp)\n",
    "        self.parent[rp] = rq\n",
    "        self.size[rq] += self.size[p]"
   ],
   "metadata": {
    "collapsed": false,
    "pycharm": {
     "name": "#%%\n"
    }
   }
  },
  {
   "cell_type": "code",
   "execution_count": 152,
   "outputs": [],
   "source": [
    "def kruskal(g):\n",
    "    n = len(g)\n",
    "    edges = deque(sorted(g.edges, key=lambda e: g.edges[e][weight]))\n",
    "    i = 0\n",
    "    uf = UnionFind(n)\n",
    "    mst = nx.Graph()\n",
    "    while i < n - 1:\n",
    "        u, v = edges.popleft()\n",
    "        if uf.connected(u, v):\n",
    "            continue\n",
    "        uf.union(u, v)\n",
    "        mst.add_edge(u, v)\n",
    "        mst.edges[(u, v)][weight] = g.edges[(u, v)][weight]\n",
    "        i += 1\n",
    "    return mst"
   ],
   "metadata": {
    "collapsed": false,
    "pycharm": {
     "name": "#%%\n"
    }
   }
  },
  {
   "cell_type": "code",
   "execution_count": 153,
   "outputs": [],
   "source": [
    "mst = kruskal(g)"
   ],
   "metadata": {
    "collapsed": false,
    "pycharm": {
     "name": "#%%\n"
    }
   }
  },
  {
   "cell_type": "code",
   "execution_count": 154,
   "outputs": [
    {
     "data": {
      "text/plain": "True"
     },
     "execution_count": 154,
     "metadata": {},
     "output_type": "execute_result"
    }
   ],
   "source": [
    "check_prims(g, mst)"
   ],
   "metadata": {
    "collapsed": false,
    "pycharm": {
     "name": "#%%\n"
    }
   }
  },
  {
   "cell_type": "code",
   "execution_count": 155,
   "outputs": [
    {
     "data": {
      "text/plain": "<Figure size 432x288 with 1 Axes>",
      "image/png": "[encoded data removed]"
     },
     "metadata": {},
     "output_type": "display_data"
    }
   ],
   "source": [
    "draw(mst, nx.spring_layout(g))"
   ],
   "metadata": {
    "collapsed": false,
    "pycharm": {
     "name": "#%%\n"
    }
   }
  },
  {
   "cell_type": "code",
   "execution_count": 150,
   "outputs": [],
   "source": [],
   "metadata": {
    "collapsed": false,
    "pycharm": {
     "name": "#%%\n"
    }
   }
  },
  {
   "cell_type": "markdown",
   "source": [
    "### 1135. Connecting Cities With Minimum Cost\n",
    "q.q"
   ],
   "metadata": {
    "collapsed": false,
    "pycharm": {
     "name": "#%% md\n"
    }
   }
  }
 ],
 "metadata": {
  "kernelspec": {
   "display_name": "Python 3",
   "language": "python",
   "name": "python3"
  },
  "language_info": {
   "codemirror_mode": {
    "name": "ipython",
    "version": 2
   },
   "file_extension": ".py",
   "mimetype": "text/x-python",
   "name": "python",
   "nbconvert_exporter": "python",
   "pygments_lexer": "ipython2",
   "version": "2.7.6"
  }
 },
 "nbformat": 4,
 "nbformat_minor": 0
}