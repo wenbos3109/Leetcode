{
 "cells": [
  {
   "cell_type": "markdown",
   "metadata": {
    "collapsed": true,
    "pycharm": {
     "name": "#%% md\n"
    }
   },
   "source": [
    "### 1. Counting sort\n",
    "\n",
    "#### 75. Sort Colors"
   ]
  },
  {
   "cell_type": "code",
   "execution_count": 1,
   "outputs": [
    {
     "ename": "NameError",
     "evalue": "name 'List' is not defined",
     "output_type": "error",
     "traceback": [
      "\u001B[0;31m---------------------------------------------------------------------------\u001B[0m",
      "\u001B[0;31mNameError\u001B[0m                                 Traceback (most recent call last)",
      "\u001B[0;32m<ipython-input-1-8cee16da5c39>\u001B[0m in \u001B[0;36m<module>\u001B[0;34m\u001B[0m\n\u001B[0;32m----> 1\u001B[0;31m \u001B[0;32mclass\u001B[0m \u001B[0mSolution\u001B[0m\u001B[0;34m:\u001B[0m\u001B[0;34m\u001B[0m\u001B[0;34m\u001B[0m\u001B[0m\n\u001B[0m\u001B[1;32m      2\u001B[0m     \u001B[0;32mdef\u001B[0m \u001B[0msortColors\u001B[0m\u001B[0;34m(\u001B[0m\u001B[0mself\u001B[0m\u001B[0;34m,\u001B[0m \u001B[0mnums\u001B[0m\u001B[0;34m:\u001B[0m \u001B[0mList\u001B[0m\u001B[0;34m[\u001B[0m\u001B[0mint\u001B[0m\u001B[0;34m]\u001B[0m\u001B[0;34m)\u001B[0m \u001B[0;34m->\u001B[0m \u001B[0;32mNone\u001B[0m\u001B[0;34m:\u001B[0m\u001B[0;34m\u001B[0m\u001B[0;34m\u001B[0m\u001B[0m\n\u001B[1;32m      3\u001B[0m         \"\"\"\n\u001B[1;32m      4\u001B[0m         \u001B[0mDo\u001B[0m \u001B[0;32mnot\u001B[0m \u001B[0;32mreturn\u001B[0m \u001B[0manything\u001B[0m\u001B[0;34m,\u001B[0m \u001B[0mmodify\u001B[0m \u001B[0mnums\u001B[0m \u001B[0;32min\u001B[0m\u001B[0;34m-\u001B[0m\u001B[0mplace\u001B[0m \u001B[0minstead\u001B[0m\u001B[0;34m.\u001B[0m\u001B[0;34m\u001B[0m\u001B[0;34m\u001B[0m\u001B[0m\n\u001B[1;32m      5\u001B[0m         \"\"\"\n",
      "\u001B[0;32m<ipython-input-1-8cee16da5c39>\u001B[0m in \u001B[0;36mSolution\u001B[0;34m()\u001B[0m\n\u001B[1;32m      1\u001B[0m \u001B[0;32mclass\u001B[0m \u001B[0mSolution\u001B[0m\u001B[0;34m:\u001B[0m\u001B[0;34m\u001B[0m\u001B[0;34m\u001B[0m\u001B[0m\n\u001B[0;32m----> 2\u001B[0;31m     \u001B[0;32mdef\u001B[0m \u001B[0msortColors\u001B[0m\u001B[0;34m(\u001B[0m\u001B[0mself\u001B[0m\u001B[0;34m,\u001B[0m \u001B[0mnums\u001B[0m\u001B[0;34m:\u001B[0m \u001B[0mList\u001B[0m\u001B[0;34m[\u001B[0m\u001B[0mint\u001B[0m\u001B[0;34m]\u001B[0m\u001B[0;34m)\u001B[0m \u001B[0;34m->\u001B[0m \u001B[0;32mNone\u001B[0m\u001B[0;34m:\u001B[0m\u001B[0;34m\u001B[0m\u001B[0;34m\u001B[0m\u001B[0m\n\u001B[0m\u001B[1;32m      3\u001B[0m         \"\"\"\n\u001B[1;32m      4\u001B[0m         \u001B[0mDo\u001B[0m \u001B[0;32mnot\u001B[0m \u001B[0;32mreturn\u001B[0m \u001B[0manything\u001B[0m\u001B[0;34m,\u001B[0m \u001B[0mmodify\u001B[0m \u001B[0mnums\u001B[0m \u001B[0;32min\u001B[0m\u001B[0;34m-\u001B[0m\u001B[0mplace\u001B[0m \u001B[0minstead\u001B[0m\u001B[0;34m.\u001B[0m\u001B[0;34m\u001B[0m\u001B[0;34m\u001B[0m\u001B[0m\n\u001B[1;32m      5\u001B[0m         \"\"\"\n",
      "\u001B[0;31mNameError\u001B[0m: name 'List' is not defined"
     ]
    }
   ],
   "source": [
    "class Solution:\n",
    "    def sortColors(self, nums: List[int]) -> None:\n",
    "        \"\"\"\n",
    "        Do not return anything, modify nums in-place instead.\n",
    "        \"\"\"\n",
    "\n",
    "        # counting sort\n",
    "        k, n = 2, len(nums)\n",
    "        count, res = [0] * (k+1), [0] * n\n",
    "        for num in nums:\n",
    "            count[num] += 1\n",
    "        for i in range(1, k+1):\n",
    "            count[i] += count[i-1]\n",
    "        for i in range(n-1, -1, -1):\n",
    "            num = nums[i]\n",
    "            res[count[num]-1] = num\n",
    "            count[num] -= 1\n",
    "        for i in range(n):\n",
    "            nums[i] = res[i]\n"
   ],
   "metadata": {
    "collapsed": false,
    "pycharm": {
     "name": "#%%\n"
    }
   }
  },
  {
   "cell_type": "code",
   "execution_count": null,
   "outputs": [],
   "source": [
    "class Solution:\n",
    "    def sortColors(self, nums: List[int]) -> None:\n",
    "        \"\"\"\n",
    "        Do not return anything, modify nums in-place instead.\n",
    "        \"\"\"\n",
    "        i, i0, i2 = 0, 0, len(nums)-1\n",
    "        \"\"\"\n",
    "        这个小等于很重要，因为i2可能还没结束\n",
    "        \"\"\"\n",
    "        while i < i2:\n",
    "            print(i, i0, i2)\n",
    "            if nums[i] == 2:\n",
    "                nums[i2], nums[i] = nums[i], nums[i2]\n",
    "                i2 -= 1\n",
    "            elif nums[i] == 0:\n",
    "                nums[i0], nums[i] = nums[i], nums[i0]\n",
    "                i0 += 1\n",
    "                i += 1\n",
    "            else:\n",
    "                i += 1\n"
   ],
   "metadata": {
    "collapsed": false,
    "pycharm": {
     "name": "#%%\n"
    }
   }
  }
 ],
 "metadata": {
  "kernelspec": {
   "display_name": "Python 3",
   "language": "python",
   "name": "python3"
  },
  "language_info": {
   "codemirror_mode": {
    "name": "ipython",
    "version": 2
   },
   "file_extension": ".py",
   "mimetype": "text/x-python",
   "name": "python",
   "nbconvert_exporter": "python",
   "pygments_lexer": "ipython2",
   "version": "2.7.6"
  }
 },
 "nbformat": 4,
 "nbformat_minor": 0
}