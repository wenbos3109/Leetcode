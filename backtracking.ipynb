{
 "cells": [
  {
   "cell_type": "code",
   "execution_count": null,
   "metadata": {
    "collapsed": true
   },
   "outputs": [],
   "source": []
  },
  {
   "cell_type": "markdown",
   "source": [
    "### 22. Generate parenthesis\n"
   ],
   "metadata": {
    "collapsed": false,
    "pycharm": {
     "name": "#%% md\n"
    }
   }
  },
  {
   "cell_type": "code",
   "execution_count": null,
   "outputs": [],
   "source": [
    "class Solution:\n",
    "    def generateParenthesis(self, n: int):\n",
    "\n",
    "        def solve(res, s, nl, nr):\n",
    "            if nl < 0 or nr < 0 or nr < nl:\n",
    "                return\n",
    "            if nl ==0 and nr == 0:\n",
    "                res.append(str(s))\n",
    "            else:\n",
    "                solve(res, s+\"(\", nl-1, nr)\n",
    "                solve(res, s+\")\", nl, nr-1)\n",
    "\n",
    "        res = []\n",
    "        solve(res, \"\", n, n)\n",
    "        return res"
   ],
   "metadata": {
    "collapsed": false,
    "pycharm": {
     "name": "#%%\n"
    }
   }
  },
  {
   "cell_type": "code",
   "execution_count": null,
   "outputs": [],
   "source": [
    "Solution().generateParenthesis(2)"
   ],
   "metadata": {
    "collapsed": false,
    "pycharm": {
     "name": "#%%\n"
    }
   }
  },
  {
   "cell_type": "markdown",
   "source": [
    "### 37. Sudoku"
   ],
   "metadata": {
    "collapsed": false,
    "pycharm": {
     "name": "#%% md\n"
    }
   }
  },
  {
   "cell_type": "code",
   "execution_count": null,
   "outputs": [],
   "source": [
    "class Solution:\n",
    "    def solveSudoku(self, board: List[List[str]]) -> None:\n",
    "        \"\"\"\n",
    "        Do not return anything, modify board in-place instead.\n",
    "        \"\"\"\n",
    "        def gen_memo():\n",
    "            return [set(range(1, 10)) for _ in range(10)]\n",
    "\n",
    "        def sq_id(i, j):\n",
    "            return i//3 * 3 + j//3\n",
    "\n",
    "        def get_candidates(i, j):\n",
    "            return set.intersection(self.rows[i],\n",
    "                                    self.cols[j],\n",
    "                                    self.squares[sq_id(i, j)])\n",
    "\n",
    "        def remove_values(i, j, num):\n",
    "            self.rows[i].remove(num)\n",
    "            self.cols[j].remove(num)\n",
    "            self.squares[sq_id(i, j)].remove(num)\n",
    "\n",
    "        def add_values(i, j, num):\n",
    "            self.rows[i].add(num)\n",
    "            self.cols[j].add(num)\n",
    "            self.squares[sq_id(i, j)].add(num)\n",
    "\n",
    "\n",
    "        self.rows, self.cols, self.squares = [gen_memo() for _ in range(3)]\n",
    "        indices = [(i, j) for i in range(9) for j in range(9) if board[i][j] == '.']\n",
    "        for i in range(9):\n",
    "            for j in range(9):\n",
    "                if board[i][j] != '.':\n",
    "                    remove_values(i, j, int(board[i][j]))\n",
    "\n",
    "        def solve(k):\n",
    "            if k == len(indices):\n",
    "                return True\n",
    "            i, j = indices[k]\n",
    "            candidates = get_candidates(i, j)\n",
    "            if not candidates:\n",
    "                return False\n",
    "            for n in candidates:\n",
    "                board[i][j] = str(n)\n",
    "                remove_values(i, j, n)\n",
    "                if solve(k+1):\n",
    "                    return True\n",
    "                board[i][j] = '.'\n",
    "                add_values(i, j, n)\n",
    "            return False\n",
    "\n",
    "        solve(0)"
   ],
   "metadata": {
    "collapsed": false,
    "pycharm": {
     "name": "#%%\n"
    }
   }
  },
  {
   "cell_type": "code",
   "execution_count": null,
   "outputs": [],
   "source": [
    "board = [[\"5\",\"3\",\".\",\".\",\"7\",\".\",\".\",\".\",\".\"],\n",
    "         [\"6\",\".\",\".\",\"1\",\"9\",\"5\",\".\",\".\",\".\"],\n",
    "         [\".\",\"9\",\"8\",\".\",\".\",\".\",\".\",\"6\",\".\"],\n",
    "         [\"8\",\".\",\".\",\".\",\"6\",\".\",\".\",\".\",\"3\"],\n",
    "         [\"4\",\".\",\".\",\"8\",\".\",\"3\",\".\",\".\",\"1\"],\n",
    "         [\"7\",\".\",\".\",\".\",\"2\",\".\",\".\",\".\",\"6\"],\n",
    "         [\".\",\"6\",\".\",\".\",\".\",\".\",\"2\",\"8\",\".\"],\n",
    "         [\".\",\".\",\".\",\"4\",\"1\",\"9\",\".\",\".\",\"5\"],\n",
    "         [\".\",\".\",\".\",\".\",\"8\",\".\",\".\",\"7\",\"9\"]]"
   ],
   "metadata": {
    "collapsed": false,
    "pycharm": {
     "name": "#%%\n"
    }
   }
  },
  {
   "cell_type": "code",
   "execution_count": null,
   "outputs": [],
   "source": [
    "Solution().solveSudoku(board)"
   ],
   "metadata": {
    "collapsed": false,
    "pycharm": {
     "name": "#%%\n"
    }
   }
  },
  {
   "cell_type": "code",
   "execution_count": null,
   "outputs": [],
   "source": [
    "for line in board:\n",
    "    print(line)"
   ],
   "metadata": {
    "collapsed": false,
    "pycharm": {
     "name": "#%%\n"
    }
   }
  },
  {
   "cell_type": "code",
   "execution_count": null,
   "outputs": [],
   "source": [],
   "metadata": {
    "collapsed": false,
    "pycharm": {
     "name": "#%%\n"
    }
   }
  },
  {
   "cell_type": "code",
   "execution_count": null,
   "outputs": [],
   "source": [
    "class Solution:\n",
    "    def letterCombinations(self, digits: str) -> List[str]:\n",
    "\n",
    "        def solve(digits):\n",
    "            nonlocal memo\n",
    "            if not digits:\n",
    "                return [[]]\n",
    "            num = int(digits[0])\n",
    "            if num not in memo:\n",
    "                return []\n",
    "            res = solve(digits[1:])\n",
    "            return [[c] + l for l in res for c in memo[num]]\n",
    "\n",
    "        memo = {2: 'abc', 3: 'def', 4:'ghi', 5:'jkl', 6:'mno',\n",
    "                7: 'pqrs', 8: 'tuv', 9: 'wxyz'}\n",
    "\n",
    "        if not digits: return []\n",
    "        return [''.join(s) for s in solve(digits)]"
   ],
   "metadata": {
    "collapsed": false,
    "pycharm": {
     "name": "#%%\n"
    }
   }
  },
  {
   "cell_type": "code",
   "execution_count": null,
   "outputs": [],
   "source": [
    "Solution().letterCombinations(\"23\")"
   ],
   "metadata": {
    "collapsed": false,
    "pycharm": {
     "name": "#%%\n"
    }
   }
  },
  {
   "cell_type": "code",
   "execution_count": 38,
   "outputs": [],
   "source": [
    "from itertools import product\n",
    "\n",
    "class Solution:\n",
    "    def letterCombinations(self, digits: str):\n",
    "        memo = {2: 'abc', 3: 'def', 4:'ghi', 5:'jkl', 6:'mno',\n",
    "                7: 'pqrs', 8: 'tuv', 9: 'wxyz'}\n",
    "\n",
    "        if not digits: return []\n",
    "        res = product(*[list(memo[int(c)]) for c in digits])\n",
    "        return [\"\".join(s) for s in res]"
   ],
   "metadata": {
    "collapsed": false,
    "pycharm": {
     "name": "#%%\n"
    }
   }
  },
  {
   "cell_type": "code",
   "execution_count": 39,
   "outputs": [
    {
     "data": {
      "text/plain": "['ad', 'ae', 'af', 'bd', 'be', 'bf', 'cd', 'ce', 'cf']"
     },
     "execution_count": 39,
     "metadata": {},
     "output_type": "execute_result"
    }
   ],
   "source": [
    "Solution().letterCombinations('23')"
   ],
   "metadata": {
    "collapsed": false,
    "pycharm": {
     "name": "#%%\n"
    }
   }
  },
  {
   "cell_type": "code",
   "execution_count": null,
   "outputs": [],
   "source": [],
   "metadata": {
    "collapsed": false,
    "pycharm": {
     "name": "#%%\n"
    }
   }
  }
 ],
 "metadata": {
  "kernelspec": {
   "display_name": "Python 3",
   "language": "python",
   "name": "python3"
  },
  "language_info": {
   "codemirror_mode": {
    "name": "ipython",
    "version": 2
   },
   "file_extension": ".py",
   "mimetype": "text/x-python",
   "name": "python",
   "nbconvert_exporter": "python",
   "pygments_lexer": "ipython2",
   "version": "2.7.6"
  }
 },
 "nbformat": 4,
 "nbformat_minor": 0
}