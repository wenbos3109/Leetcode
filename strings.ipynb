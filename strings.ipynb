{
 "cells": [
  {
   "cell_type": "markdown",
   "metadata": {
    "collapsed": true,
    "pycharm": {
     "name": "#%% md\n"
    }
   },
   "source": [
    "## 字符串匹配\n"
   ]
  },
  {
   "cell_type": "code",
   "execution_count": 50,
   "outputs": [],
   "source": [
    "import string\n",
    "import random\n"
   ],
   "metadata": {
    "collapsed": false,
    "pycharm": {
     "name": "#%%\n"
    }
   }
  },
  {
   "cell_type": "code",
   "execution_count": 58,
   "outputs": [
    {
     "name": "stdout",
     "output_type": "stream",
     "text": [
      "0\n"
     ]
    }
   ],
   "source": [
    "for i in range(1):\n",
    "    continue\n",
    "print(i)"
   ],
   "metadata": {
    "collapsed": false,
    "pycharm": {
     "name": "#%%\n"
    }
   }
  },
  {
   "cell_type": "code",
   "execution_count": 104,
   "outputs": [],
   "source": [
    "# 暴力法\n",
    "# def search(pat, s):\n",
    "#\n",
    "#     def match(i, lp):\n",
    "#         for j in range(lp):\n",
    "#             if s[i+j] != pat[j]:\n",
    "#                 return False\n",
    "#         return True\n",
    "#\n",
    "#     lp, ls = len(pat), len(s)\n",
    "#     for i in range(ls-lp):\n",
    "#             return i\n",
    "#     return -1\n",
    "\n",
    "def search(pat, s):\n",
    "    lp, ls = len(pat), len(s)\n",
    "    for i in range(ls-lp):\n",
    "        if s[i:i+lp] == pat:\n",
    "            return i\n",
    "    return -1"
   ],
   "metadata": {
    "collapsed": false,
    "pycharm": {
     "name": "#%%\n"
    }
   }
  },
  {
   "cell_type": "code",
   "execution_count": 105,
   "outputs": [],
   "source": [
    "ls = 10\n",
    "lp = 3\n",
    "letters = string.ascii_lowercase\n",
    "s = ''.join(random.choice(letters) for i in range(ls))\n",
    "idx = random.randint(0, ls-lp)\n",
    "pat = s[idx: idx+lp]"
   ],
   "metadata": {
    "collapsed": false,
    "pycharm": {
     "name": "#%%\n"
    }
   }
  },
  {
   "cell_type": "code",
   "execution_count": 106,
   "outputs": [
    {
     "name": "stdout",
     "output_type": "stream",
     "text": [
      "1\n"
     ]
    }
   ],
   "source": [
    "print(search(pat=pat, s=s))"
   ],
   "metadata": {
    "collapsed": false,
    "pycharm": {
     "name": "#%%\n"
    }
   }
  },
  {
   "cell_type": "markdown",
   "source": [
    "### KMP算法\n",
    "\n",
    "当$s_{i+k} \\neq p_k$  的时候， 我们知道$s_{i,i+k-1}$ 和 $p_{0,k}$已经匹配成功了, 所以\n",
    "我们需要寻找一个新的下标t使得$s_{(i+k-1)-(t-1),i+k-1}$ 和 $p_{0,t-1}$匹配。换句话说，\n",
    "就是$s_{i+k-t,i+k-1}$ 和$s_{0, t-1}$ 匹配。\n"
   ],
   "metadata": {
    "collapsed": false,
    "pycharm": {
     "name": "#%% md\n"
    }
   }
  },
  {
   "cell_type": "code",
   "execution_count": 124,
   "outputs": [],
   "source": [
    "\n",
    "def getNext(p):\n",
    "        \"\"\"\n",
    "        p为模式串\n",
    "        返回next数组，即部分匹配表\n",
    "        \"\"\"\n",
    "        nex = [0] * (len(p) + 1)\n",
    "        nex[0] = -1\n",
    "        i = 0\n",
    "        j = -1\n",
    "        while i < len(p):\n",
    "            if j == -1 or p[i] == p[j]:\n",
    "                i += 1\n",
    "                j += 1\n",
    "                nex[i] = j     # 这是最大的不同：记录next[i]\n",
    "            else:\n",
    "                j = nex[j]\n",
    "\n",
    "        return nex\n",
    "\n",
    "def KMP(s, p):\n",
    "\n",
    "    nex = getNext(p)\n",
    "    i = 0\n",
    "    j = 0   # 分别是s和p的指针\n",
    "    while i < len(s) and j < len(p):\n",
    "        if j == -1 or s[i] == p[j]: # j==-1是由于j=next[j]产生\n",
    "            i += 1\n",
    "            j += 1\n",
    "        else:\n",
    "            print(p[:j])\n",
    "            j = nex[j]\n",
    "            print(p[:j])\n",
    "    if j == len(p): # j走到了末尾，说明匹配到了\n",
    "        return i - j\n",
    "    else:\n",
    "        return -1"
   ],
   "metadata": {
    "collapsed": false,
    "pycharm": {
     "name": "#%%\n"
    }
   }
  },
  {
   "cell_type": "code",
   "execution_count": 125,
   "outputs": [
    {
     "name": "stdout",
     "output_type": "stream",
     "text": [
      "abab\n",
      "ab\n",
      "2\n"
     ]
    }
   ],
   "source": [
    "print(KMP('abababca', 'ababc'))"
   ],
   "metadata": {
    "collapsed": false,
    "pycharm": {
     "name": "#%%\n"
    }
   }
  },
  {
   "cell_type": "code",
   "execution_count": 135,
   "outputs": [
    {
     "name": "stdout",
     "output_type": "stream",
     "text": [
      "0 a  -1 abababc\n",
      "1 b a 0 \n",
      "2 a ab 0 \n",
      "3 b aba 1 a\n",
      "4 a abab 2 ab\n",
      "5 b ababa 3 aba\n",
      "6 c ababab 4 abab\n",
      "7 a abababc 0 \n"
     ]
    }
   ],
   "source": [
    "pat = 'abababca'\n",
    "next = get_next(pat)\n",
    "for i in range(len(pat)):\n",
    "    print(i, pat[i], pat[:i], next[i], pat[:next[i]])"
   ],
   "metadata": {
    "collapsed": false,
    "pycharm": {
     "name": "#%%\n"
    }
   }
  },
  {
   "cell_type": "markdown",
   "source": [
    "### 5. longest sub palindrome"
   ],
   "metadata": {
    "collapsed": false,
    "pycharm": {
     "name": "#%% md\n"
    }
   }
  },
  {
   "cell_type": "code",
   "execution_count": 1,
   "outputs": [],
   "source": [
    "class Solution:\n",
    "    def longestPalindrome(self, s: str) -> str:\n",
    "        self.max_len = 0\n",
    "        self.ans = \"\"\n",
    "        def find(l, r):\n",
    "            k = 0\n",
    "            while l >= 0 and r < len(s) and s[l] == s[r]:\n",
    "                l -= 1\n",
    "                r += 1\n",
    "            if (r-l-1) > self.max_len:\n",
    "                self.max_len = r-l-1\n",
    "                self.ans = s[l+1: r]\n",
    "        n = len(s)\n",
    "        for i in range(n):\n",
    "            find(i, i)\n",
    "            find(i, i+1)\n",
    "        return self.ans"
   ],
   "metadata": {
    "collapsed": false,
    "pycharm": {
     "name": "#%%\n"
    }
   }
  },
  {
   "cell_type": "code",
   "execution_count": 2,
   "outputs": [
    {
     "name": "stdout",
     "output_type": "stream",
     "text": [
      "4.5\n"
     ]
    }
   ],
   "source": [
    "x, y = 15, 20\n",
    "print(y if x % 5 != 0 else y-x-0.5)"
   ],
   "metadata": {
    "collapsed": false,
    "pycharm": {
     "name": "#%%\n"
    }
   }
  },
  {
   "cell_type": "code",
   "execution_count": null,
   "outputs": [],
   "source": [],
   "metadata": {
    "collapsed": false,
    "pycharm": {
     "name": "#%%\n"
    }
   }
  }
 ],
 "metadata": {
  "kernelspec": {
   "display_name": "Python 3",
   "language": "python",
   "name": "python3"
  },
  "language_info": {
   "codemirror_mode": {
    "name": "ipython",
    "version": 2
   },
   "file_extension": ".py",
   "mimetype": "text/x-python",
   "name": "python",
   "nbconvert_exporter": "python",
   "pygments_lexer": "ipython2",
   "version": "2.7.6"
  }
 },
 "nbformat": 4,
 "nbformat_minor": 0
}