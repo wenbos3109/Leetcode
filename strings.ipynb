{
 "cells": [
  {
   "cell_type": "markdown",
   "metadata": {
    "collapsed": true,
    "pycharm": {
     "name": "#%% md\n"
    }
   },
   "source": [
    "## 字符串匹配\n"
   ]
  },
  {
   "cell_type": "code",
   "execution_count": 1,
   "outputs": [],
   "source": [
    "import string\n",
    "import random\n"
   ],
   "metadata": {
    "collapsed": false,
    "pycharm": {
     "name": "#%%\n"
    }
   }
  },
  {
   "cell_type": "code",
   "execution_count": 2,
   "outputs": [
    {
     "name": "stdout",
     "output_type": "stream",
     "text": [
      "0\n"
     ]
    }
   ],
   "source": [
    "for i in range(1):\n",
    "    continue\n",
    "print(i)"
   ],
   "metadata": {
    "collapsed": false,
    "pycharm": {
     "name": "#%%\n"
    }
   }
  },
  {
   "cell_type": "code",
   "execution_count": 3,
   "outputs": [],
   "source": [
    "# 暴力法\n",
    "# def search(pat, s):\n",
    "#\n",
    "#     def match(i, lp):\n",
    "#         for j in range(lp):\n",
    "#             if s[i+j] != pat[j]:\n",
    "#                 return False\n",
    "#         return True\n",
    "#\n",
    "#     lp, ls = len(pat), len(s)\n",
    "#     for i in range(ls-lp):\n",
    "#             return i\n",
    "#     return -1\n",
    "\n",
    "def search(pat, s):\n",
    "    lp, ls = len(pat), len(s)\n",
    "    for i in range(ls-lp):\n",
    "        if s[i:i+lp] == pat:\n",
    "            return i\n",
    "    return -1"
   ],
   "metadata": {
    "collapsed": false,
    "pycharm": {
     "name": "#%%\n"
    }
   }
  },
  {
   "cell_type": "code",
   "execution_count": 4,
   "outputs": [],
   "source": [
    "ls = 10\n",
    "lp = 3\n",
    "letters = string.ascii_lowercase\n",
    "s = ''.join(random.choice(letters) for i in range(ls))\n",
    "idx = random.randint(0, ls-lp)\n",
    "pat = s[idx: idx+lp]"
   ],
   "metadata": {
    "collapsed": false,
    "pycharm": {
     "name": "#%%\n"
    }
   }
  },
  {
   "cell_type": "code",
   "execution_count": 5,
   "outputs": [
    {
     "name": "stdout",
     "output_type": "stream",
     "text": [
      "3\n"
     ]
    }
   ],
   "source": [
    "print(search(pat=pat, s=s))"
   ],
   "metadata": {
    "collapsed": false,
    "pycharm": {
     "name": "#%%\n"
    }
   }
  },
  {
   "cell_type": "markdown",
   "source": [
    "### KMP算法\n",
    "\n",
    "当$s_{i+k} \\neq p_k$  的时候， 我们知道$s_{i,i+k-1}$ 和 $p_{0,k}$已经匹配成功了, 所以\n",
    "我们需要寻找一个新的下标t使得$s_{(i+k-1)-(t-1),i+k-1}$ 和 $p_{0,t-1}$匹配。换句话说，\n",
    "就是$s_{i+k-t,i+k-1}$ 和$s_{0, t-1}$ 匹配。"
   ],
   "metadata": {
    "collapsed": false,
    "pycharm": {
     "name": "#%% md\n"
    }
   }
  },
  {
   "cell_type": "code",
   "execution_count": null,
   "outputs": [],
   "source": [
    "def KMP(s, p):\n",
    "\n",
    "    nex = getNext(p)\n",
    "    i = 0\n",
    "    j = 0   # 分别是s和p的指针\n",
    "    while i < len(s) and j < len(p):\n",
    "        if j == -1 or s[i] == p[j]: # j==-1是由于j=next[j]产生\n",
    "            i += 1\n",
    "            j += 1\n",
    "        else:\n",
    "            print(p[:j])\n",
    "            j = nex[j]\n",
    "            print(p[:j])\n",
    "    if j == len(p): # j走到了末尾，说明匹配到了\n",
    "        return i - j\n",
    "    else:\n",
    "        return -1\n"
   ],
   "metadata": {
    "collapsed": false,
    "pycharm": {
     "name": "#%%\n"
    }
   }
  },
  {
   "cell_type": "markdown",
   "source": [
    "现在，我们再看一下如何编程快速求得next数组。其实，求next数组的过程完全可以\n",
    "看成字符串匹配的过程，即以模式字符串为主字符串，以模式字符串的前缀为目标\n",
    "字符串，一旦字符串匹配成功，那么当前的next值就是匹配成功的字符串的长度。\n",
    "\n",
    "具体来说，就是从模式字符串的第一位(注意，不包括第0位)开始对自身进行匹配运算。\n",
    "在任一位置，能匹配的最长长度就是当前位置的next值。"
   ],
   "metadata": {
    "collapsed": false,
    "pycharm": {
     "name": "#%% md\n"
    }
   }
  },
  {
   "cell_type": "code",
   "execution_count": 6,
   "outputs": [],
   "source": [
    "\"\"\"\n",
    "\"\"\"\n",
    "\n",
    "def getNext(p):\n",
    "        \"\"\"\n",
    "        p为模式串\n",
    "        返回next数组，即部分匹配表\n",
    "        next[i] = j说明next[0:j] = next[i-j: i]\n",
    "        前缀等于后缀\n",
    "        \"\"\"\n",
    "        nex = [0] * (len(p) + 1)\n",
    "        nex[0] = -1\n",
    "        i = 0\n",
    "        j = -1\n",
    "        while i < len(p):\n",
    "            if j == -1 or p[i] == p[j]:\n",
    "                i += 1\n",
    "                j += 1\n",
    "                nex[i] = j     # 这是最大的不同：记录next[i]\n",
    "            else:\n",
    "                j = nex[j]\n",
    "\n",
    "        return nex"
   ],
   "metadata": {
    "collapsed": false,
    "pycharm": {
     "name": "#%%\n"
    }
   }
  },
  {
   "cell_type": "code",
   "execution_count": 12,
   "outputs": [
    {
     "name": "stdout",
     "output_type": "stream",
     "text": [
      "[-1, 0, 0, 1, 2, 3, 4, 0, 1]\n",
      "1 0 [] []\n",
      "2 0 [] []\n",
      "3 1 [] [0]\n",
      "4 2 [0] [0, 1]\n",
      "5 3 [0, 0] [0, 1, 2]\n",
      "6 4 [0, 0, 1] [0, 1, 2, 3]\n",
      "7 0 [] []\n",
      "8 1 [] [0]\n"
     ]
    }
   ],
   "source": [
    "s = 'abababca'\n",
    "next = getNext(s)\n",
    "print(next)\n",
    "for i in range(len(next)):\n",
    "    # if next[i] == j\n",
    "    j = next[i]\n",
    "    if j != -1:\n",
    "        print(i, j, next[1:j], next[i-j:i])\n"
   ],
   "metadata": {
    "collapsed": false,
    "pycharm": {
     "name": "#%%\n"
    }
   }
  },
  {
   "cell_type": "code",
   "execution_count": 125,
   "outputs": [
    {
     "name": "stdout",
     "output_type": "stream",
     "text": [
      "abab\n",
      "ab\n",
      "2\n"
     ]
    }
   ],
   "source": [
    "print(KMP('abababca', 'ababc'))"
   ],
   "metadata": {
    "collapsed": false,
    "pycharm": {
     "name": "#%%\n"
    }
   }
  },
  {
   "cell_type": "markdown",
   "source": [
    "其实更可以用递归来做\n",
    "\n"
   ],
   "metadata": {
    "collapsed": false,
    "pycharm": {
     "name": "#%% md\n"
    }
   }
  },
  {
   "cell_type": "code",
   "execution_count": 135,
   "outputs": [
    {
     "name": "stdout",
     "output_type": "stream",
     "text": [
      "0 a  -1 abababc\n",
      "1 b a 0 \n",
      "2 a ab 0 \n",
      "3 b aba 1 a\n",
      "4 a abab 2 ab\n",
      "5 b ababa 3 aba\n",
      "6 c ababab 4 abab\n",
      "7 a abababc 0 \n"
     ]
    }
   ],
   "source": [
    "pat = 'abababca'\n",
    "next = get_next(pat)\n",
    "for i in range(len(pat)):\n",
    "    print(i, pat[i], pat[:i], next[i], pat[:next[i]])"
   ],
   "metadata": {
    "collapsed": false,
    "pycharm": {
     "name": "#%%\n"
    }
   }
  },
  {
   "cell_type": "markdown",
   "source": [
    "### 5. longest sub palindrome"
   ],
   "metadata": {
    "collapsed": false,
    "pycharm": {
     "name": "#%% md\n"
    }
   }
  },
  {
   "cell_type": "code",
   "execution_count": 1,
   "outputs": [],
   "source": [
    "class Solution:\n",
    "    def longestPalindrome(self, s: str) -> str:\n",
    "        self.max_len = 0\n",
    "        self.ans = \"\"\n",
    "        def find(l, r):\n",
    "            k = 0\n",
    "            while l >= 0 and r < len(s) and s[l] == s[r]:\n",
    "                l -= 1\n",
    "                r += 1\n",
    "            if (r-l-1) > self.max_len:\n",
    "                self.max_len = r-l-1\n",
    "                self.ans = s[l+1: r]\n",
    "        n = len(s)\n",
    "        for i in range(n):\n",
    "            find(i, i)\n",
    "            find(i, i+1)\n",
    "        return self.ans"
   ],
   "metadata": {
    "collapsed": false,
    "pycharm": {
     "name": "#%%\n"
    }
   }
  },
  {
   "cell_type": "code",
   "execution_count": 2,
   "outputs": [
    {
     "name": "stdout",
     "output_type": "stream",
     "text": [
      "4.5\n"
     ]
    }
   ],
   "source": [
    "x, y = 15, 20\n",
    "print(y if x % 5 != 0 else y-x-0.5)"
   ],
   "metadata": {
    "collapsed": false,
    "pycharm": {
     "name": "#%%\n"
    }
   }
  },
  {
   "cell_type": "markdown",
   "source": [
    "### 14. Longest Common Prefix"
   ],
   "metadata": {
    "collapsed": false,
    "pycharm": {
     "name": "#%% md\n"
    }
   }
  },
  {
   "cell_type": "markdown",
   "source": [
    "太垃圾了\n",
    "* Runtime: 44 ms, faster than 12.10% of Python3 online submissions\n",
    "    for Longest Common Prefix.\n",
    "* Memory Usage: 14.4 MB, less than 22.36% of Python3 online submissions for Longest Common Prefix."
   ],
   "metadata": {
    "collapsed": false,
    "pycharm": {
     "name": "#%% md\n"
    }
   }
  },
  {
   "cell_type": "code",
   "execution_count": 1,
   "outputs": [],
   "source": [
    "class Solution:\n",
    "    def longestCommonPrefix(self, strs) -> str:\n",
    "        def common(s1, s2):\n",
    "            i = 0\n",
    "            while i < len(s1) and i < len(s2) and s1[i] == s2[i]:\n",
    "                i += 1\n",
    "            return s1[:i]\n",
    "\n",
    "        if not strs: return \"\"\n",
    "        s0 = strs[0]\n",
    "        for i in range(1, len(strs)):\n",
    "            s0 = common(s0, strs[i])\n",
    "        return s0"
   ],
   "metadata": {
    "collapsed": false,
    "pycharm": {
     "name": "#%%\n"
    }
   }
  },
  {
   "cell_type": "code",
   "execution_count": 7,
   "outputs": [],
   "source": [
    "class Solution:\n",
    "\n",
    "    \"\"\"\n",
    "    vertical scanning\n",
    "    \"\"\"\n",
    "    def longestCommonPrefix(self, strs) -> str:\n",
    "        l = 0\n",
    "        while True:\n",
    "            for s in strs:\n",
    "                if l == len(s) or s[l] != strs[0][l]:\n",
    "                    return strs[0][:l]\n",
    "            l += 1"
   ],
   "metadata": {
    "collapsed": false,
    "pycharm": {
     "name": "#%%\n"
    }
   }
  },
  {
   "cell_type": "code",
   "execution_count": 8,
   "outputs": [
    {
     "name": "stdout",
     "output_type": "stream",
     "text": [
      "2 here\n"
     ]
    },
    {
     "data": {
      "text/plain": "'fl'"
     },
     "execution_count": 8,
     "metadata": {},
     "output_type": "execute_result"
    }
   ],
   "source": [
    "Solution().longestCommonPrefix(strs = [\"flower\",\"flow\",\"flight\"])"
   ],
   "metadata": {
    "collapsed": false,
    "pycharm": {
     "name": "#%%\n"
    }
   }
  },
  {
   "cell_type": "code",
   "execution_count": 10,
   "outputs": [],
   "source": [
    "\"\"\"\n",
    "题目说了，这个小于200\n",
    "\"\"\"\n",
    "class Solution:\n",
    "    def longestCommonPrefix(self, strs) -> str:\n",
    "        if not strs: return \"\"\n",
    "        for l in range(200):\n",
    "            for s in strs:\n",
    "                if l == len(s) or s[l] != strs[0][l]:\n",
    "                    return strs[0][:l]"
   ],
   "metadata": {
    "collapsed": false,
    "pycharm": {
     "name": "#%%\n"
    }
   }
  },
  {
   "cell_type": "markdown",
   "source": [
    "###  28. Implement strStr()\n",
    "\n",
    "Implement strStr().\n",
    "\n",
    "Return the index of the first occurrence of needle in haystack, or -1 if needle is not part of haystack.\n",
    "\n",
    "Clarification:\n",
    "\n",
    "What should we return when needle is an empty string? This is a great question to ask during an interview.\n",
    "\n",
    "For the purpose of this problem, we will return 0 when needle is an empty string. This is consistent to C's strstr() and Java's indexOf().\n",
    "\n",
    "这题貌似直接使用KMP就行啊，速度这么慢问题在哪\n",
    "\n",
    "\n",
    "* Runtime: 52 ms, faster than 8.38% of Python3 online submissions for Implement strStr().\n",
    "* Memory Usage: 15.7 MB, less than 5.33% of Python3 online submissions for Implement strStr()."
   ],
   "metadata": {
    "collapsed": false,
    "pycharm": {
     "name": "#%% md\n"
    }
   }
  },
  {
   "cell_type": "code",
   "execution_count": 17,
   "outputs": [],
   "source": [
    "\n",
    "def getNext(pat):\n",
    "    n = len(pat)\n",
    "    nxt = [0] * (n+1)\n",
    "    nxt[0] = -1\n",
    "    i, j = 0, -1\n",
    "    while i < n:\n",
    "        if j == -1 or pat[i] == pat[j]:\n",
    "            i += 1\n",
    "            j += 1\n",
    "            print(i, j, nxt)\n",
    "            nxt[i] = j\n",
    "        else:\n",
    "            j = nxt[j]\n",
    "    return nxt"
   ],
   "metadata": {
    "collapsed": false,
    "pycharm": {
     "name": "#%%\n"
    }
   }
  },
  {
   "cell_type": "code",
   "execution_count": 16,
   "outputs": [
    {
     "name": "stdout",
     "output_type": "stream",
     "text": [
      "1 0 [-1, 0, 0, 0, 0, 0, 0]\n",
      "2 0 [-1, 0, 0, 0, 0, 0, 0]\n",
      "3 1 [-1, 0, 0, 0, 0, 0, 0]\n",
      "4 2 [-1, 0, 0, 1, 0, 0, 0]\n",
      "5 3 [-1, 0, 0, 1, 2, 0, 0]\n",
      "6 0 [-1, 0, 0, 1, 2, 3, 0]\n"
     ]
    },
    {
     "data": {
      "text/plain": "[-1, 0, 0, 1, 2, 3, 0]"
     },
     "execution_count": 16,
     "metadata": {},
     "output_type": "execute_result"
    }
   ],
   "source": [
    "getNext('ababac')"
   ],
   "metadata": {
    "collapsed": false,
    "pycharm": {
     "name": "#%%\n"
    }
   }
  },
  {
   "cell_type": "code",
   "execution_count": null,
   "outputs": [],
   "source": [],
   "metadata": {
    "collapsed": false,
    "pycharm": {
     "name": "#%%\n"
    }
   }
  },
  {
   "cell_type": "markdown",
   "source": [
    "### 10. Regular Expression Matching\n",
    "\n",
    "Given an input string (s) and a pattern (p), implement regular expression matching with support for '.' and '*' where:\n",
    "\n",
    "* '.' Matches any single character.​​​​\n",
    "* '*' Matches zero or more of the preceding element.\n",
    "The matching should cover the entire input string (not partial)."
   ],
   "metadata": {
    "collapsed": false,
    "pycharm": {
     "name": "#%% md\n"
    }
   }
  },
  {
   "cell_type": "code",
   "execution_count": null,
   "outputs": [],
   "source": [
    "class Solution:\n",
    "    def isMatch(self, s: str, p: str) -> bool:\n",
    "        ls, lp = len(s), len(p)\n",
    "        dp = [[False for _ in range(lp+1)] for _ in range(ls+1)]\n",
    "        dp[0][0] = True\n",
    "\n",
    "        for j in range(2, lp+1, 2):\n",
    "            dp[0][j] = p[j-1] == '*' and dp[0][j-2]\n",
    "        for i in range(1, ls+1):\n",
    "            for j in range(1, lp+1):\n",
    "                if s[i-1] == p[j-1] or p[j-1] == '.':\n",
    "                    dp[i][j] = dp[i-1][j-1]\n",
    "                elif j > 1 and p[j-1] == '*':\n",
    "                    dp[i][j] = dp[i][j-2] or dp[i-1][j] and (s[i-1] == p[j-2] or p[j-2] == '.')\n",
    "        return dp[ls][lp]"
   ],
   "metadata": {
    "collapsed": false,
    "pycharm": {
     "name": "#%%\n"
    }
   }
  }
 ],
 "metadata": {
  "kernelspec": {
   "display_name": "Python 3",
   "language": "python",
   "name": "python3"
  },
  "language_info": {
   "codemirror_mode": {
    "name": "ipython",
    "version": 2
   },
   "file_extension": ".py",
   "mimetype": "text/x-python",
   "name": "python",
   "nbconvert_exporter": "python",
   "pygments_lexer": "ipython2",
   "version": "2.7.6"
  }
 },
 "nbformat": 4,
 "nbformat_minor": 0
}