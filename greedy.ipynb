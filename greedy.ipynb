{
 "cells": [
  {
   "cell_type": "code",
   "execution_count": null,
   "outputs": [],
   "source": [],
   "metadata": {
    "collapsed": false,
    "pycharm": {
     "name": "#%%\n"
    }
   }
  },
  {
   "cell_type": "code",
   "execution_count": null,
   "outputs": [],
   "source": [],
   "metadata": {
    "collapsed": false,
    "pycharm": {
     "name": "#%%\n"
    }
   }
  },
  {
   "cell_type": "markdown",
   "source": [
    "### 621. Task Scheduler\n"
   ],
   "metadata": {
    "collapsed": false,
    "pycharm": {
     "name": "#%% md\n"
    }
   }
  },
  {
   "cell_type": "code",
   "execution_count": null,
   "metadata": {
    "collapsed": true
   },
   "outputs": [],
   "source": [
    "from collections import Counter\n",
    "class Solution:\n",
    "    def leastInterval(self, tasks, n) -> int:\n",
    "        \"\"\"\n",
    "        贪心感觉不行\n",
    "            1. abcdefgaaaaaa，如果后面跟了一群A，那也会浪费时间\n",
    "            2. 如果把相同的尽可能分开呢？比如把A均匀分散开\n",
    "        暴力解就更不行了，n!的复杂度\n",
    "        \"\"\"\n",
    "        n = len(tasks)\n",
    "        temp = [0] * n\n",
    "        count = Counter(tasks)\n",
    "        for c, c_num in count.most_common():\n",
    "            i = 0\n",
    "            for j in range(0, c_num, 3):\n",
    "                temp[i+j] = c\n",
    "                i += 1"
   ]
  },
  {
   "cell_type": "code",
   "execution_count": null,
   "outputs": [],
   "source": [
    "Solution().leastInterval()"
   ],
   "metadata": {
    "collapsed": false,
    "pycharm": {
     "name": "#%%\n"
    }
   }
  },
  {
   "cell_type": "markdown",
   "source": [
    "### 134. Gas Station\n",
    "\n",
    "太慢了\n",
    "* Runtime: 3760 ms, faster than 13.40% of Python3 online submissions for Gas Station.\n",
    "* Memory Usage: 14.9 MB, less than 96.86% of Python3 online submissions for Gas Station.\n",
    "\n"
   ],
   "metadata": {
    "collapsed": false,
    "pycharm": {
     "name": "#%% md\n"
    }
   }
  },
  {
   "cell_type": "code",
   "execution_count": 17,
   "outputs": [],
   "source": [
    "class Solution:\n",
    "    def canCompleteCircuit(self, gas, cost) -> int:\n",
    "        def can_reach(i, n):\n",
    "            tank = gas[i] - cost[i]\n",
    "            j = (i + 1) % n\n",
    "            while j != i and tank >= 0:\n",
    "                tank += gas[j] - cost[j]\n",
    "                j = (j + 1) % n\n",
    "            return j == i and tank >= 0\n",
    "\n",
    "        n = len(gas)\n",
    "        i = 0\n",
    "        for i in range(n):\n",
    "            if can_reach(i, n):\n",
    "                return i\n",
    "        return -1"
   ],
   "metadata": {
    "collapsed": false,
    "pycharm": {
     "name": "#%%\n"
    }
   }
  },
  {
   "cell_type": "code",
   "execution_count": 18,
   "outputs": [
    {
     "data": {
      "text/plain": "3"
     },
     "execution_count": 18,
     "metadata": {},
     "output_type": "execute_result"
    }
   ],
   "source": [
    "Solution().canCompleteCircuit(\n",
    "gas  = [1,2,3,4,5],\n",
    "cost = [3,4,5,1,2])"
   ],
   "metadata": {
    "collapsed": false,
    "pycharm": {
     "name": "#%%\n"
    }
   }
  },
  {
   "cell_type": "code",
   "execution_count": 25,
   "outputs": [],
   "source": [
    "class Solution:\n",
    "    def canCompleteCircuit(self, gas, cost) -> int:\n",
    "        pos = cur_tank = total_tank = 0\n",
    "        for i in range(len(gas)):\n",
    "            cur_tank += gas[i] - cost[i]\n",
    "            total_tank += gas[i] - cost[i]\n",
    "            if cur_tank < 0:\n",
    "                pos = i + 1\n",
    "                cur_tank = 0\n",
    "        return pos if total_tank >= 0 else -1"
   ],
   "metadata": {
    "collapsed": false,
    "pycharm": {
     "name": "#%%\n"
    }
   }
  },
  {
   "cell_type": "code",
   "execution_count": 26,
   "outputs": [
    {
     "data": {
      "text/plain": "3"
     },
     "execution_count": 26,
     "metadata": {},
     "output_type": "execute_result"
    }
   ],
   "source": [
    "Solution().canCompleteCircuit(\n",
    "gas  = [1,2,3,4,5],\n",
    "cost = [3,4,5,1,2])"
   ],
   "metadata": {
    "collapsed": false,
    "pycharm": {
     "name": "#%%\n"
    }
   }
  },
  {
   "cell_type": "code",
   "execution_count": null,
   "outputs": [],
   "source": [],
   "metadata": {
    "collapsed": false,
    "pycharm": {
     "name": "#%%\n"
    }
   }
  }
 ],
 "metadata": {
  "kernelspec": {
   "display_name": "Python 3",
   "language": "python",
   "name": "python3"
  },
  "language_info": {
   "codemirror_mode": {
    "name": "ipython",
    "version": 2
   },
   "file_extension": ".py",
   "mimetype": "text/x-python",
   "name": "python",
   "nbconvert_exporter": "python",
   "pygments_lexer": "ipython2",
   "version": "2.7.6"
  }
 },
 "nbformat": 4,
 "nbformat_minor": 0
}