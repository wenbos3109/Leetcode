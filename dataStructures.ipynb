{
 "cells": [
  {
   "cell_type": "markdown",
   "metadata": {
    "collapsed": true,
    "pycharm": {
     "name": "#%% md\n",
     "is_executing": true
    }
   },
   "source": [
    "## 146. LRU Cache"
   ]
  },
  {
   "cell_type": "code",
   "execution_count": 25,
   "outputs": [],
   "source": [
    "class DoubleLinkedNode:\n",
    "    def __init__(self, key=0, val=0, pre=None, nxt=None):\n",
    "        self.key = key\n",
    "        self.val = val\n",
    "        self.pre = pre\n",
    "        self.nxt = nxt\n",
    "\n",
    "class LRUCache:\n",
    "\n",
    "    def __init__(self, capacity: int):\n",
    "        self.capacity = capacity\n",
    "        self.cur_capacity = 0\n",
    "        self.memo = dict()\n",
    "        self.head = DoubleLinkedNode()\n",
    "        self.tail = DoubleLinkedNode()\n",
    "        self.head.nxt = self.tail\n",
    "        self.tail.pre = self.head\n",
    "\n",
    "    def delete_node(self, node):\n",
    "        node.pre.nxt = node.nxt\n",
    "        node.nxt.pre = node.pre\n",
    "\n",
    "    def add_node(self, node):\n",
    "        node.nxt = self.head.nxt\n",
    "        node.pre = self.head\n",
    "\n",
    "        self.head.nxt.pre = node\n",
    "        self.head.nxt = node\n",
    "\n",
    "    def move_to_head(self, node):\n",
    "        self.delete_node(node)\n",
    "        self.add_node(node)\n",
    "\n",
    "\n",
    "    def get(self, key: int) -> int:\n",
    "        node = self.memo.get(key)\n",
    "        if not node: return -1\n",
    "        self.move_to_head(node)\n",
    "        return node.val\n",
    "\n",
    "    def put(self, key: int, value: int) -> None:\n",
    "        node = self.memo.get(key)\n",
    "        if node:\n",
    "            node.val = value\n",
    "            self.move_to_head(node)\n",
    "        else:\n",
    "            if self.cur_capacity == self.capacity:\n",
    "                node = self.tail.pre\n",
    "                if not node:\n",
    "                    print(key, value)\n",
    "                self.delete_node(node)\n",
    "                del self.memo[node.key]\n",
    "                self.cur_capacity -= 1\n",
    "            node = DoubleLinkedNode(key, value)\n",
    "            self.memo[key] = node\n",
    "            self.add_node(node)\n",
    "            self.cur_capacity += 1\n"
   ],
   "metadata": {
    "collapsed": false,
    "pycharm": {
     "name": "#%%\n"
    }
   }
  },
  {
   "cell_type": "code",
   "execution_count": 26,
   "outputs": [
    {
     "name": "stdout",
     "output_type": "stream",
     "text": [
      "insert 0 2 1 1\n",
      "add (1, 1), cur capacity is 1\n",
      "insert 1 2 2 2\n",
      "add (2, 2), cur capacity is 2\n",
      "here\n",
      "get (1, 1), cur capacity is 2\n"
     ]
    },
    {
     "data": {
      "text/plain": "1"
     },
     "execution_count": 26,
     "metadata": {},
     "output_type": "execute_result"
    }
   ],
   "source": [
    "lru = LRUCache(2)\n",
    "\n",
    "lru.put(1, 1)\n",
    "lru.put(2, 2)\n",
    "lru.get(1)"
   ],
   "metadata": {
    "collapsed": false,
    "pycharm": {
     "name": "#%%\n"
    }
   }
  },
  {
   "cell_type": "markdown",
   "source": [
    "We can also use the builtin OrderedDict\n",
    "\n",
    "An OrderedDict is a dictionary subclass that remembers the order that keys were first inserted.\n",
    "The only difference between dict() and OrderedDict() is that:\n",
    "\n",
    "OrderedDict preserves the order in which the keys are inserted. A regular\n",
    " dict doesn’t track the insertion order, and iterating it gives the values in an\n",
    " arbitrary order. By contrast, the order the items are inserted is remembered by OrderedDict.\n",
    "\n"
   ],
   "metadata": {
    "collapsed": false,
    "pycharm": {
     "name": "#%% md\n"
    }
   }
  },
  {
   "cell_type": "code",
   "execution_count": 28,
   "outputs": [],
   "source": [
    "from collections import OrderedDict"
   ],
   "metadata": {
    "collapsed": false,
    "pycharm": {
     "name": "#%%\n"
    }
   }
  },
  {
   "cell_type": "code",
   "execution_count": 34,
   "outputs": [],
   "source": [
    "od = OrderedDict()\n",
    "od['a'] = 1\n",
    "od['b'] = 2\n",
    "od['c'] = 3"
   ],
   "metadata": {
    "collapsed": false,
    "pycharm": {
     "name": "#%%\n"
    }
   }
  },
  {
   "cell_type": "code",
   "execution_count": 30,
   "outputs": [
    {
     "name": "stdout",
     "output_type": "stream",
     "text": [
      "a 1\n",
      "b 2\n",
      "c 3\n"
     ]
    }
   ],
   "source": [
    "for key in od:\n",
    "    print(key, od[key])"
   ],
   "metadata": {
    "collapsed": false,
    "pycharm": {
     "name": "#%%\n"
    }
   }
  },
  {
   "cell_type": "code",
   "execution_count": 36,
   "outputs": [
    {
     "data": {
      "text/plain": "('a', 1)"
     },
     "execution_count": 36,
     "metadata": {},
     "output_type": "execute_result"
    }
   ],
   "source": [
    "od.popitem(False)"
   ],
   "metadata": {
    "collapsed": false,
    "pycharm": {
     "name": "#%%\n"
    }
   }
  },
  {
   "cell_type": "code",
   "execution_count": 32,
   "outputs": [
    {
     "name": "stdout",
     "output_type": "stream",
     "text": [
      "a 1\n",
      "c 3\n"
     ]
    }
   ],
   "source": [
    "for key in od:\n",
    "    print(key, od[key])"
   ],
   "metadata": {
    "collapsed": false,
    "pycharm": {
     "name": "#%%\n"
    }
   }
  },
  {
   "cell_type": "code",
   "execution_count": 33,
   "outputs": [
    {
     "data": {
      "text/plain": "<function OrderedDict.pop>"
     },
     "execution_count": 33,
     "metadata": {},
     "output_type": "execute_result"
    }
   ],
   "source": [
    "od.pop"
   ],
   "metadata": {
    "collapsed": false,
    "pycharm": {
     "name": "#%%\n"
    }
   }
  },
  {
   "cell_type": "code",
   "execution_count": 37,
   "outputs": [],
   "source": [
    "# the ordereddict version\n",
    "class LRUCache:\n",
    "\n",
    "    def __init__(self, capacity: int):\n",
    "        self.capacity = capacity\n",
    "        self.od = OrderedDict()\n",
    "\n",
    "    def get(self, key: int) -> int:\n",
    "        val = self.od.get(key)\n",
    "        if not val: return -1\n",
    "        self.od.move_to_end(key)\n",
    "        return val\n",
    "\n",
    "    def put(self, key: int, value: int) -> None:\n",
    "        val = self.od.get(key)\n",
    "        if val:\n",
    "            self.od[key] = value\n",
    "            self.od.move_to_end(key)\n",
    "        else:\n",
    "            if len(self.od) == self.capacity:\n",
    "                # pop the first one.\n",
    "                self.od.popitem(False)\n",
    "            self.od[key] = value"
   ],
   "metadata": {
    "collapsed": false,
    "pycharm": {
     "name": "#%%\n"
    }
   }
  },
  {
   "cell_type": "code",
   "execution_count": 39,
   "outputs": [
    {
     "data": {
      "text/plain": "2"
     },
     "execution_count": 39,
     "metadata": {},
     "output_type": "execute_result"
    }
   ],
   "source": [
    "lru = LRUCache(2)\n",
    "\n",
    "lru.put(1, 1)\n",
    "lru.put(2, 2)\n",
    "lru.get(2)\n"
   ],
   "metadata": {
    "collapsed": false,
    "pycharm": {
     "name": "#%%\n"
    }
   }
  },
  {
   "cell_type": "code",
   "execution_count": null,
   "outputs": [],
   "source": [],
   "metadata": {
    "collapsed": false,
    "pycharm": {
     "name": "#%%\n"
    }
   }
  }
 ],
 "metadata": {
  "kernelspec": {
   "display_name": "Python 3",
   "language": "python",
   "name": "python3"
  },
  "language_info": {
   "codemirror_mode": {
    "name": "ipython",
    "version": 2
   },
   "file_extension": ".py",
   "mimetype": "text/x-python",
   "name": "python",
   "nbconvert_exporter": "python",
   "pygments_lexer": "ipython2",
   "version": "2.7.6"
  }
 },
 "nbformat": 4,
 "nbformat_minor": 0
}