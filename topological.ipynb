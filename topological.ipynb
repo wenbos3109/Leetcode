{
 "cells": [
  {
   "cell_type": "code",
   "execution_count": 1,
   "metadata": {
    "collapsed": true
   },
   "outputs": [],
   "source": [
    "import networkx as nx\n"
   ]
  },
  {
   "cell_type": "markdown",
   "source": [
    "### 207. Course Schedule\n",
    "\n",
    "这样速度太慢了\n"
   ],
   "metadata": {
    "collapsed": false,
    "pycharm": {
     "name": "#%% md\n"
    }
   }
  },
  {
   "cell_type": "code",
   "execution_count": 36,
   "outputs": [
    {
     "data": {
      "text/plain": "<Figure size 432x288 with 1 Axes>",
      "image/png": "[encoded data removed]"
     },
     "metadata": {},
     "output_type": "display_data"
    }
   ],
   "source": [
    "g = nx.gnm_random_graph(6, 10, directed=True)\n",
    "while not nx.is_directed_acyclic_graph(g):\n",
    "    g = nx.gnm_random_graph(6, 10, directed=True)\n",
    "\n",
    "\n",
    "g = nx.DiGraph([[1,0],[2,6],[1,7],[5,1],[6,4],[7,0],[0,5]])\n",
    "nx.draw_networkx(g)"
   ],
   "metadata": {
    "collapsed": false,
    "pycharm": {
     "name": "#%%\n"
    }
   }
  },
  {
   "cell_type": "code",
   "execution_count": 12,
   "outputs": [
    {
     "data": {
      "text/plain": "[2, 5, 1, 4, 3, 0]"
     },
     "execution_count": 12,
     "metadata": {},
     "output_type": "execute_result"
    }
   ],
   "source": [
    "[i for i in nx.topological_sort(g)]"
   ],
   "metadata": {
    "collapsed": false,
    "pycharm": {
     "name": "#%%\n"
    }
   }
  },
  {
   "cell_type": "code",
   "execution_count": 43,
   "outputs": [],
   "source": [
    "class Solution:\n",
    "    def canFinish(self, numCourses: int, prerequisites: List[List[int]]) -> bool:\n",
    "\n",
    "        def isCyclic(u):\n",
    "            nonlocal g, n, stack\n",
    "            visited[u] = True\n",
    "            stack[u] = True\n",
    "            for v in g[u]:\n",
    "                if not visited[v]:\n",
    "                    if isCyclic(v):\n",
    "                        return True\n",
    "                elif stack[v]:\n",
    "                    return True\n",
    "            stack[u] = False\n",
    "            return False\n",
    "\n",
    "        n = numCourses\n",
    "        g = [[] for _ in range(n)]\n",
    "        for a, b in prerequisites:\n",
    "            g[a].append(b)\n",
    "\n",
    "        for u in range(n):\n",
    "            visited = [False] * n\n",
    "            stack = [False] * n\n",
    "            if isCyclic(u):\n",
    "                return False\n",
    "        return True"
   ],
   "metadata": {
    "collapsed": false,
    "pycharm": {
     "name": "#%%\n"
    }
   }
  },
  {
   "cell_type": "code",
   "execution_count": 44,
   "outputs": [
    {
     "data": {
      "text/plain": "True"
     },
     "execution_count": 44,
     "metadata": {},
     "output_type": "execute_result"
    }
   ],
   "source": [
    "Solution().canFinish(8, [[1,0],[2,6],[1,7],[5,1],[6,4],[7,0],[0,5]])"
   ],
   "metadata": {
    "collapsed": false,
    "pycharm": {
     "name": "#%%\n"
    }
   }
  },
  {
   "cell_type": "code",
   "execution_count": 45,
   "outputs": [],
   "source": [
    "\"\"\"\n",
    "第二种解法，每次都拿走一个source\n",
    "\n",
    "运行时间只能战胜5%的人，太慢了\n",
    "\"\"\"\n",
    "from collections import deque\n",
    "class Solution:\n",
    "    def canFinish(self, numCourses: int, prerequisites: List[List[int]]) -> bool:\n",
    "        n = numCourses\n",
    "        g = [[] for _ in range(n)]\n",
    "        indegree = [0] * n\n",
    "        for a, b in prerequisites:\n",
    "            g[a].append(b)\n",
    "            indegree[b] += 1\n",
    "        sources = deque([u for u in range(n) if not indegree[u]])\n",
    "        for _ in range(n):\n",
    "            if not sources:\n",
    "                return False\n",
    "            u = sources.popleft()\n",
    "            for v in g[u]:\n",
    "                indegree[v] -= 1\n",
    "                if not indegree[v]:\n",
    "                    sources.append(v)\n",
    "        return True"
   ],
   "metadata": {
    "collapsed": false,
    "pycharm": {
     "name": "#%%\n"
    }
   }
  },
  {
   "cell_type": "code",
   "execution_count": 46,
   "outputs": [],
   "source": [
    "\"\"\"\n",
    "临街矩阵太花时间，改成邻接表会快很多\n",
    "\"\"\"\n",
    "class Solution:\n",
    "    def canFinish(self, numCourses: int, prerequisites) -> bool:\n",
    "        n = numCourses\n",
    "        g = [[] for _ in range(n)]\n",
    "        in_degree = [0] * n\n",
    "        removed = [0] * n\n",
    "        for i, j in prerequisites:\n",
    "            g[i].append(j)\n",
    "            in_degree[j] += 1\n",
    "        for _ in range(n):\n",
    "            sources = [i for i in range(n) if in_degree[i] == 0 and not removed[i]]\n",
    "            if not sources:\n",
    "                return False\n",
    "            u = sources[0]\n",
    "            removed[u] = True\n",
    "            for v in g[u]:\n",
    "                in_degree[v] -= 1\n",
    "        return True"
   ],
   "metadata": {
    "collapsed": false,
    "pycharm": {
     "name": "#%%\n"
    }
   }
  },
  {
   "cell_type": "code",
   "execution_count": 65,
   "outputs": [],
   "source": [
    "from queue import PriorityQueue\n",
    "\n",
    "q = PriorityQueue()"
   ],
   "metadata": {
    "collapsed": false,
    "pycharm": {
     "name": "#%%\n"
    }
   }
  },
  {
   "cell_type": "code",
   "execution_count": 66,
   "outputs": [],
   "source": [
    "q.put((1 ,2))\n",
    "q.put((0, 3))"
   ],
   "metadata": {
    "collapsed": false,
    "pycharm": {
     "name": "#%%\n"
    }
   }
  },
  {
   "cell_type": "code",
   "execution_count": 64,
   "outputs": [],
   "source": [
    "while q.qsize():\n",
    "    print(q.get())"
   ],
   "metadata": {
    "collapsed": false,
    "pycharm": {
     "name": "#%%\n"
    }
   }
  },
  {
   "cell_type": "code",
   "execution_count": 68,
   "outputs": [],
   "source": [
    "a = {1,2,3}"
   ],
   "metadata": {
    "collapsed": false,
    "pycharm": {
     "name": "#%%\n"
    }
   }
  },
  {
   "cell_type": "code",
   "execution_count": 69,
   "outputs": [
    {
     "data": {
      "text/plain": "1"
     },
     "execution_count": 69,
     "metadata": {},
     "output_type": "execute_result"
    }
   ],
   "source": [
    "a.pop()"
   ],
   "metadata": {
    "collapsed": false,
    "pycharm": {
     "name": "#%%\n"
    }
   }
  },
  {
   "cell_type": "code",
   "execution_count": 70,
   "outputs": [
    {
     "data": {
      "text/plain": "2"
     },
     "execution_count": 70,
     "metadata": {},
     "output_type": "execute_result"
    }
   ],
   "source": [
    "a.pop()"
   ],
   "metadata": {
    "collapsed": false,
    "pycharm": {
     "name": "#%%\n"
    }
   }
  },
  {
   "cell_type": "code",
   "execution_count": 71,
   "outputs": [
    {
     "data": {
      "text/plain": "{3}"
     },
     "execution_count": 71,
     "metadata": {},
     "output_type": "execute_result"
    }
   ],
   "source": [
    "\"\"\"\n",
    "这种最快，哈哈\n",
    "\"\"\"\n",
    "class Solution:\n",
    "    def canFinish(self, numCourses: int, prerequisites) -> bool:\n",
    "        n = numCourses\n",
    "        g = [[] for _ in range(n)]\n",
    "        in_degree = [0] * n\n",
    "        removed = [0] * n\n",
    "        for i, j in prerequisites:\n",
    "            g[i].append(j)\n",
    "            in_degree[j] += 1\n",
    "        sources = {i for i in range(n) if in_degree[i] == 0}\n",
    "        for _ in range(n):\n",
    "            if not sources: return False\n",
    "            u = sources.pop()\n",
    "            removed[u] = True\n",
    "            for v in g[u]:\n",
    "                in_degree[v] -= 1\n",
    "                if in_degree[v] == 0 and not removed[v]:\n",
    "                    sources.add(v)\n",
    "        return True"
   ],
   "metadata": {
    "collapsed": false,
    "pycharm": {
     "name": "#%%\n"
    }
   }
  },
  {
   "cell_type": "code",
   "execution_count": null,
   "outputs": [],
   "source": [],
   "metadata": {
    "collapsed": false,
    "pycharm": {
     "name": "#%%\n"
    }
   }
  }
 ],
 "metadata": {
  "kernelspec": {
   "display_name": "Python 3",
   "language": "python",
   "name": "python3"
  },
  "language_info": {
   "codemirror_mode": {
    "name": "ipython",
    "version": 2
   },
   "file_extension": ".py",
   "mimetype": "text/x-python",
   "name": "python",
   "nbconvert_exporter": "python",
   "pygments_lexer": "ipython2",
   "version": "2.7.6"
  }
 },
 "nbformat": 4,
 "nbformat_minor": 0
}